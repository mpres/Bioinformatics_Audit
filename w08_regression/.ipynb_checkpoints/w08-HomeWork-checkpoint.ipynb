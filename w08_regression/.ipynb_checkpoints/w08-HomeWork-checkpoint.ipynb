{
 "cells": [
  {
   "cell_type": "code",
   "execution_count": 1,
   "id": "2d45b3bd-a97b-4f26-9a7f-a385057aae60",
   "metadata": {},
   "outputs": [],
   "source": [
    "#Mpresley 5/2/23\n",
    "# the cycle of twelve\n",
    "#1. sovle by maximum likelihood\n",
    "#2. compare solutions\n",
    "#3. plot the fits"
   ]
  },
  {
   "cell_type": "code",
   "execution_count": 340,
   "id": "8b7fed2e-c933-48f1-b6f4-3e5bb4cd64d7",
   "metadata": {},
   "outputs": [],
   "source": [
    "import os\n",
    "import numpy as np\n",
    "import pandas as pd\n",
    "import matplotlib.pyplot as plt\n",
    "import scipy.stats as stats\n",
    "import scipy.optimize as optimize\n",
    "from scipy.special import logsumexp\n",
    "import matplotlib.pyplot as plt\n"
   ]
  },
  {
   "cell_type": "code",
   "execution_count": 4,
   "id": "72c9b74b-7eee-464f-ae5d-c19fac5d5ab4",
   "metadata": {},
   "outputs": [],
   "source": [
    "# Solve the maximum likelihood\n",
    "# Moriarity used an anaylitical method to solve for the best fit of the given data \n",
    "# We want to used the maximum likelihood\n",
    "#A. Download the data set\n",
    "#B. Create the objective function NLL\n",
    "#C. Run the optimizer\n",
    "#D. Return the optimized parameters and show them"
   ]
  },
  {
   "cell_type": "code",
   "execution_count": 207,
   "id": "5d623666-0f6b-43dc-b796-6c5073e9bbf2",
   "metadata": {},
   "outputs": [],
   "source": [
    "#A. Download the data, use \n",
    "oscillation_data = pd.read_table('w08-data.tbl',\n",
    "                            delim_whitespace=True, # Whether it is whitespace delimited\n",
    "                            skiprows=1, # Number of rows to skip\n",
    "                            header = 1, # Row that has the header (None since we are going to provide it ourselves)\n",
    "                            names = ['gene_name','4hr+-20','4hr+-2','8hr+-20','8hr+-5','16hr+-5','16hr+-20','24hr+-2','24hr+-20'], # Column names\n",
    "                            index_col=0 # Set the row names using the first column\n",
    "                           )"
   ]
  },
  {
   "cell_type": "code",
   "execution_count": 209,
   "id": "9f80113d-323d-4fcc-af92-fdb5912547a7",
   "metadata": {},
   "outputs": [
    {
     "data": {
      "text/html": [
       "<div>\n",
       "<style scoped>\n",
       "    .dataframe tbody tr th:only-of-type {\n",
       "        vertical-align: middle;\n",
       "    }\n",
       "\n",
       "    .dataframe tbody tr th {\n",
       "        vertical-align: top;\n",
       "    }\n",
       "\n",
       "    .dataframe thead th {\n",
       "        text-align: right;\n",
       "    }\n",
       "</style>\n",
       "<table border=\"1\" class=\"dataframe\">\n",
       "  <thead>\n",
       "    <tr style=\"text-align: right;\">\n",
       "      <th></th>\n",
       "      <th>4hr+-20</th>\n",
       "      <th>4hr+-2</th>\n",
       "      <th>8hr+-20</th>\n",
       "      <th>8hr+-5</th>\n",
       "      <th>16hr+-5</th>\n",
       "      <th>16hr+-20</th>\n",
       "      <th>24hr+-2</th>\n",
       "      <th>24hr+-20</th>\n",
       "    </tr>\n",
       "    <tr>\n",
       "      <th>gene_name</th>\n",
       "      <th></th>\n",
       "      <th></th>\n",
       "      <th></th>\n",
       "      <th></th>\n",
       "      <th></th>\n",
       "      <th></th>\n",
       "      <th></th>\n",
       "      <th></th>\n",
       "    </tr>\n",
       "  </thead>\n",
       "  <tbody>\n",
       "    <tr>\n",
       "      <th>anise</th>\n",
       "      <td>82.16</td>\n",
       "      <td>61.52</td>\n",
       "      <td>56.65</td>\n",
       "      <td>53.24</td>\n",
       "      <td>19.64</td>\n",
       "      <td>53.96</td>\n",
       "      <td>41.79</td>\n",
       "      <td>48.77</td>\n",
       "    </tr>\n",
       "    <tr>\n",
       "      <th>kiwi</th>\n",
       "      <td>32.62</td>\n",
       "      <td>22.48</td>\n",
       "      <td>39.71</td>\n",
       "      <td>51.13</td>\n",
       "      <td>74.26</td>\n",
       "      <td>96.05</td>\n",
       "      <td>20.09</td>\n",
       "      <td>24.04</td>\n",
       "    </tr>\n",
       "    <tr>\n",
       "      <th>carrot</th>\n",
       "      <td>60.73</td>\n",
       "      <td>57.91</td>\n",
       "      <td>75.95</td>\n",
       "      <td>64.55</td>\n",
       "      <td>42.33</td>\n",
       "      <td>36.01</td>\n",
       "      <td>31.41</td>\n",
       "      <td>24.17</td>\n",
       "    </tr>\n",
       "    <tr>\n",
       "      <th>grape</th>\n",
       "      <td>45.68</td>\n",
       "      <td>48.98</td>\n",
       "      <td>58.39</td>\n",
       "      <td>73.43</td>\n",
       "      <td>42.46</td>\n",
       "      <td>40.32</td>\n",
       "      <td>18.61</td>\n",
       "      <td>8.86</td>\n",
       "    </tr>\n",
       "    <tr>\n",
       "      <th>tangerine</th>\n",
       "      <td>96.16</td>\n",
       "      <td>63.74</td>\n",
       "      <td>47.03</td>\n",
       "      <td>51.52</td>\n",
       "      <td>19.26</td>\n",
       "      <td>36.95</td>\n",
       "      <td>57.78</td>\n",
       "      <td>53.23</td>\n",
       "    </tr>\n",
       "    <tr>\n",
       "      <th>melon</th>\n",
       "      <td>16.05</td>\n",
       "      <td>58.09</td>\n",
       "      <td>14.91</td>\n",
       "      <td>40.52</td>\n",
       "      <td>44.77</td>\n",
       "      <td>44.89</td>\n",
       "      <td>69.97</td>\n",
       "      <td>80.42</td>\n",
       "    </tr>\n",
       "    <tr>\n",
       "      <th>clementine</th>\n",
       "      <td>59.43</td>\n",
       "      <td>33.61</td>\n",
       "      <td>15.48</td>\n",
       "      <td>18.16</td>\n",
       "      <td>65.60</td>\n",
       "      <td>38.55</td>\n",
       "      <td>60.69</td>\n",
       "      <td>32.44</td>\n",
       "    </tr>\n",
       "    <tr>\n",
       "      <th>spinach</th>\n",
       "      <td>57.77</td>\n",
       "      <td>32.15</td>\n",
       "      <td>44.04</td>\n",
       "      <td>37.15</td>\n",
       "      <td>70.32</td>\n",
       "      <td>67.11</td>\n",
       "      <td>38.75</td>\n",
       "      <td>39.04</td>\n",
       "    </tr>\n",
       "    <tr>\n",
       "      <th>beet</th>\n",
       "      <td>65.97</td>\n",
       "      <td>45.26</td>\n",
       "      <td>28.64</td>\n",
       "      <td>16.28</td>\n",
       "      <td>37.18</td>\n",
       "      <td>20.54</td>\n",
       "      <td>69.18</td>\n",
       "      <td>89.60</td>\n",
       "    </tr>\n",
       "    <tr>\n",
       "      <th>huckleberry</th>\n",
       "      <td>44.91</td>\n",
       "      <td>31.46</td>\n",
       "      <td>0.00</td>\n",
       "      <td>16.63</td>\n",
       "      <td>68.04</td>\n",
       "      <td>69.89</td>\n",
       "      <td>47.30</td>\n",
       "      <td>42.91</td>\n",
       "    </tr>\n",
       "    <tr>\n",
       "      <th>lentil</th>\n",
       "      <td>69.30</td>\n",
       "      <td>67.96</td>\n",
       "      <td>87.38</td>\n",
       "      <td>58.17</td>\n",
       "      <td>34.46</td>\n",
       "      <td>40.01</td>\n",
       "      <td>67.59</td>\n",
       "      <td>59.38</td>\n",
       "    </tr>\n",
       "    <tr>\n",
       "      <th>cauliflower</th>\n",
       "      <td>27.32</td>\n",
       "      <td>24.14</td>\n",
       "      <td>72.96</td>\n",
       "      <td>54.92</td>\n",
       "      <td>51.63</td>\n",
       "      <td>48.96</td>\n",
       "      <td>12.35</td>\n",
       "      <td>0.00</td>\n",
       "    </tr>\n",
       "  </tbody>\n",
       "</table>\n",
       "</div>"
      ],
      "text/plain": [
       "             4hr+-20  4hr+-2  8hr+-20  8hr+-5  16hr+-5  16hr+-20  24hr+-2  \\\n",
       "gene_name                                                                   \n",
       "anise          82.16   61.52    56.65   53.24    19.64     53.96    41.79   \n",
       "kiwi           32.62   22.48    39.71   51.13    74.26     96.05    20.09   \n",
       "carrot         60.73   57.91    75.95   64.55    42.33     36.01    31.41   \n",
       "grape          45.68   48.98    58.39   73.43    42.46     40.32    18.61   \n",
       "tangerine      96.16   63.74    47.03   51.52    19.26     36.95    57.78   \n",
       "melon          16.05   58.09    14.91   40.52    44.77     44.89    69.97   \n",
       "clementine     59.43   33.61    15.48   18.16    65.60     38.55    60.69   \n",
       "spinach        57.77   32.15    44.04   37.15    70.32     67.11    38.75   \n",
       "beet           65.97   45.26    28.64   16.28    37.18     20.54    69.18   \n",
       "huckleberry    44.91   31.46     0.00   16.63    68.04     69.89    47.30   \n",
       "lentil         69.30   67.96    87.38   58.17    34.46     40.01    67.59   \n",
       "cauliflower    27.32   24.14    72.96   54.92    51.63     48.96    12.35   \n",
       "\n",
       "             24hr+-20  \n",
       "gene_name              \n",
       "anise           48.77  \n",
       "kiwi            24.04  \n",
       "carrot          24.17  \n",
       "grape            8.86  \n",
       "tangerine       53.23  \n",
       "melon           80.42  \n",
       "clementine      32.44  \n",
       "spinach         39.04  \n",
       "beet            89.60  \n",
       "huckleberry     42.91  \n",
       "lentil          59.38  \n",
       "cauliflower      0.00  "
      ]
     },
     "execution_count": 209,
     "metadata": {},
     "output_type": "execute_result"
    }
   ],
   "source": [
    "oscillation_data"
   ]
  },
  {
   "cell_type": "code",
   "execution_count": 663,
   "id": "e61e6938-a182-4770-8c1e-4106db6caf54",
   "metadata": {},
   "outputs": [],
   "source": [
    "#A.i. set sigmas and time numpy arrays.\n",
    "# this will be used later for the object function\n",
    "sigmas = np.array([20,2,20,5,5,20,2,20])\n",
    "ts = np.array([4,4,8,8,16,16,24,24])"
   ]
  },
  {
   "cell_type": "code",
   "execution_count": 178,
   "id": "e780c0a8-9393-47d8-b488-b4948b986cac",
   "metadata": {},
   "outputs": [
    {
     "ename": "SyntaxError",
     "evalue": "invalid syntax (1823682073.py, line 4)",
     "output_type": "error",
     "traceback": [
      "\u001b[0;36m  Input \u001b[0;32mIn [178]\u001b[0;36m\u001b[0m\n\u001b[0;31m    y_pred = b + a * sin(2π𝑤(ts+phi))\u001b[0m\n\u001b[0m                          ^\u001b[0m\n\u001b[0;31mSyntaxError\u001b[0m\u001b[0;31m:\u001b[0m invalid syntax\n"
     ]
    }
   ],
   "source": [
    "'''\n",
    "#    y_pred = b + a sin(2π𝑤(ts+phi))\n",
    "def nll(params, ts, ys, sigmas):\n",
    "    a,b, phi = params\n",
    "    y_pred = b + a * sin(2π𝑤(ts+phi))\n",
    "    ll_terms = stats.norm.logpdf(ys - y_pred, loc=0, scale=sigmas)\n",
    "    return -ll_terms.sum()\n",
    "    '''"
   ]
  },
  {
   "cell_type": "code",
   "execution_count": 305,
   "id": "7edb027d-1f43-4913-81f5-320cd65d7890",
   "metadata": {},
   "outputs": [],
   "source": [
    "#B. Create the objective function\n",
    "def nll(params, ts, ys, sigmas):\n",
    "    b,a,phi = params\n",
    "    freq = np.pi/24\n",
    "    y_pred = b + a * np.sin(2*freq*(ts+phi))\n",
    "    ll_terms = stats.norm.logpdf(ys - y_pred, loc=0, scale=sigmas)\n",
    "    return -ll_terms.sum()\n",
    "    "
   ]
  },
  {
   "cell_type": "code",
   "execution_count": 212,
   "id": "7eec672c-8366-4aeb-b63a-42c21afab1cc",
   "metadata": {},
   "outputs": [
    {
     "data": {
      "text/plain": [
       "26.45641650399478"
      ]
     },
     "execution_count": 212,
     "metadata": {},
     "output_type": "execute_result"
    }
   ],
   "source": [
    "#B.i test nll\n",
    "#a,b,phi\n",
    "test_params = 26.08,46.91,21.33\n",
    "#B.ii create ys from data\n",
    "ys = np.array(oscillation_data.loc['carrot'])\n",
    "nll(test_params,ts,ys,sigmas)\n"
   ]
  },
  {
   "cell_type": "code",
   "execution_count": 242,
   "id": "f0fe29f2-7c8a-4ebe-a5d0-e4f494126845",
   "metadata": {},
   "outputs": [
    {
     "data": {
      "text/plain": [
       "26.88247974111913"
      ]
     },
     "execution_count": 242,
     "metadata": {},
     "output_type": "execute_result"
    }
   ],
   "source": [
    "#B.i test nll\n",
    "#a,b,phi\n",
    "#test_params = 18,42,9.36\n",
    "test_params = -27,48,94.15\n",
    "#B.ii create ys from data\n",
    "ys = np.array(oscillation_data.loc['clementine'])\n",
    "nll(test_params,ts,ys,sigmas)\n"
   ]
  },
  {
   "cell_type": "code",
   "execution_count": 215,
   "id": "e8a694b9-2ea8-438f-b897-1b9edfa68bbb",
   "metadata": {},
   "outputs": [],
   "source": [
    "#based on using Moriaty data, the nll seems to be working (assuming Moriarity data is somewhat close)\n",
    "\n",
    "guess = 25,40,20\n",
    "#test for gene 'carrot' example\n",
    "minimization_data = optimize.minimize(nll, guess, (ts, ys, sigmas))"
   ]
  },
  {
   "cell_type": "code",
   "execution_count": 216,
   "id": "f49a2ae3-b65a-483c-94c3-56486ec2234b",
   "metadata": {},
   "outputs": [],
   "source": [
    "a = minimization_data.x[0]\n",
    "b = minimization_data.x[1]\n",
    "phi = minimization_data.x[2]"
   ]
  },
  {
   "cell_type": "code",
   "execution_count": 220,
   "id": "2f015005-d7c4-40aa-9ba6-6106102bf282",
   "metadata": {},
   "outputs": [
    {
     "data": {
      "text/plain": [
       "(-27.59602684274584, 48.01805379769302, 94.15713726285044)"
      ]
     },
     "execution_count": 220,
     "metadata": {},
     "output_type": "execute_result"
    }
   ],
   "source": [
    "a,b,phi"
   ]
  },
  {
   "cell_type": "code",
   "execution_count": 184,
   "id": "fe87bc2c-c685-4b64-9e24-406d002e19d7",
   "metadata": {},
   "outputs": [
    {
     "data": {
      "text/plain": [
       "25.731400509634852"
      ]
     },
     "execution_count": 184,
     "metadata": {},
     "output_type": "execute_result"
    }
   ],
   "source": [
    "optim_params = a,b,phi\n",
    "nll(optim_params,ts,ys,sigmas)\n",
    "#this result looks good"
   ]
  },
  {
   "cell_type": "code",
   "execution_count": 682,
   "id": "252c9c4b-f9d8-4a91-aa64-e769089fdadf",
   "metadata": {},
   "outputs": [],
   "source": [
    "#for i in oscillation_data.iloc:\n",
    "#    print(i.index)"
   ]
  },
  {
   "cell_type": "code",
   "execution_count": 186,
   "id": "35876b9f-22b5-4247-96d9-b0461d1ab1cb",
   "metadata": {},
   "outputs": [
    {
     "ename": "IndexError",
     "evalue": "only integers, slices (`:`), ellipsis (`...`), numpy.newaxis (`None`) and integer or boolean arrays are valid indices",
     "output_type": "error",
     "traceback": [
      "\u001b[0;31m---------------------------------------------------------------------------\u001b[0m",
      "\u001b[0;31mIndexError\u001b[0m                                Traceback (most recent call last)",
      "Input \u001b[0;32mIn [186]\u001b[0m, in \u001b[0;36m<cell line: 4>\u001b[0;34m()\u001b[0m\n\u001b[1;32m      2\u001b[0m ysGene \u001b[38;5;241m=\u001b[39m []\n\u001b[1;32m      4\u001b[0m \u001b[38;5;28;01mfor\u001b[39;00m gene \u001b[38;5;129;01min\u001b[39;00m oscillation_data\u001b[38;5;241m.\u001b[39miloc:\n\u001b[0;32m----> 5\u001b[0m     \u001b[38;5;28mprint\u001b[39m(\u001b[43moscillation_data\u001b[49m\u001b[38;5;241;43m.\u001b[39;49m\u001b[43mindex\u001b[49m\u001b[43m[\u001b[49m\u001b[43mi\u001b[49m\u001b[43m]\u001b[49m)\n",
      "File \u001b[0;32m~/opt/anaconda3/lib/python3.9/site-packages/pandas/core/indexes/base.py:5055\u001b[0m, in \u001b[0;36mIndex.__getitem__\u001b[0;34m(self, key)\u001b[0m\n\u001b[1;32m   5048\u001b[0m \u001b[38;5;28;01mif\u001b[39;00m com\u001b[38;5;241m.\u001b[39mis_bool_indexer(key):\n\u001b[1;32m   5049\u001b[0m     \u001b[38;5;66;03m# if we have list[bools, length=1e5] then doing this check+convert\u001b[39;00m\n\u001b[1;32m   5050\u001b[0m     \u001b[38;5;66;03m#  takes 166 µs + 2.1 ms and cuts the ndarray.__getitem__\u001b[39;00m\n\u001b[1;32m   5051\u001b[0m     \u001b[38;5;66;03m#  time below from 3.8 ms to 496 µs\u001b[39;00m\n\u001b[1;32m   5052\u001b[0m     \u001b[38;5;66;03m# if we already have ndarray[bool], the overhead is 1.4 µs or .25%\u001b[39;00m\n\u001b[1;32m   5053\u001b[0m     key \u001b[38;5;241m=\u001b[39m np\u001b[38;5;241m.\u001b[39masarray(key, dtype\u001b[38;5;241m=\u001b[39m\u001b[38;5;28mbool\u001b[39m)\n\u001b[0;32m-> 5055\u001b[0m result \u001b[38;5;241m=\u001b[39m \u001b[43mgetitem\u001b[49m\u001b[43m(\u001b[49m\u001b[43mkey\u001b[49m\u001b[43m)\u001b[49m\n\u001b[1;32m   5056\u001b[0m \u001b[38;5;66;03m# Because we ruled out integer above, we always get an arraylike here\u001b[39;00m\n\u001b[1;32m   5057\u001b[0m \u001b[38;5;28;01mif\u001b[39;00m result\u001b[38;5;241m.\u001b[39mndim \u001b[38;5;241m>\u001b[39m \u001b[38;5;241m1\u001b[39m:\n",
      "\u001b[0;31mIndexError\u001b[0m: only integers, slices (`:`), ellipsis (`...`), numpy.newaxis (`None`) and integer or boolean arrays are valid indices"
     ]
    }
   ],
   "source": [
    "oscillation_data.index[0]\n",
    "ysGene = []\n",
    "\n",
    "for gene in oscillation_data.iloc:\n",
    "    print(oscillation_data.index[i])\n",
    "    \n",
    "    "
   ]
  },
  {
   "cell_type": "code",
   "execution_count": 722,
   "id": "86e3df27-f4cc-4cfa-abcc-b914e8dcf137",
   "metadata": {},
   "outputs": [],
   "source": [
    "#C Run optimizer\n",
    "guess = 25,40,20\n",
    "Optim_params = {}\n",
    "i = 0\n",
    "#apply the bounds to avoid getting negative numbers\n",
    "bnds = ((None, None), (0, None),(None,None))\n",
    "for gene in oscillation_data.iloc:\n",
    "    ysGene = np.array([gene])\n",
    "    opt_data = optimize.minimize(nll, guess, (ts, ysGene, sigmas),bounds=bnds)\n",
    "    #opt_data = optimize.minimize(nll, guess, (ts, ysGene, sigmas))\n",
    "    a = opt_data.x[0] \n",
    "    Optim_params[oscillation_data.index[i]] = [opt_data.x[0],opt_data.x[1],opt_data.x[2]]\n",
    "    i += 1\n",
    "    \n",
    "    "
   ]
  },
  {
   "cell_type": "code",
   "execution_count": 723,
   "id": "0098bc02-2ee2-4f1a-b866-c693aec01ff4",
   "metadata": {},
   "outputs": [],
   "source": [
    "#Optim_df = pd.DataFrame(Optim_params,columns = ['a','b','phi'])\n",
    "Optim_df = pd.DataFrame(Optim_params,index=['b','a','phi'])"
   ]
  },
  {
   "cell_type": "code",
   "execution_count": 724,
   "id": "424c5ad3-4b00-4dcc-bc97-6b587d9fecb9",
   "metadata": {},
   "outputs": [],
   "source": [
    "Optim_df = Optim_df.T"
   ]
  },
  {
   "cell_type": "code",
   "execution_count": 725,
   "id": "85cced45-425f-42e8-b53e-7d2adaf7f970",
   "metadata": {},
   "outputs": [
    {
     "data": {
      "text/plain": [
       "{'anise': [39.99224825979707, 22.415082797895572, 24.448708787480705],\n",
       " 'kiwi': [48.840372775794656, 31.842560576466177, 16.264649200784444],\n",
       " 'carrot': [47.576546635746766, 24.231286907144792, 21.414573143141986],\n",
       " 'grape': [44.90181963929628, 32.33375808707258, 20.420180376582763],\n",
       " 'tangerine': [42.75634769208433, 22.14774427306454, 26.777180540098925],\n",
       " 'melon': [51.26472303904757, 19.09949155124974, 30.68728637054227],\n",
       " 'clementine': [48.01806845594409, 27.596015677887262, 34.15713996321269],\n",
       " 'spinach': [49.72592884195367, 18.401027689941653, 14.265083090494935],\n",
       " 'beet': [40.85219016884185, 30.614586091979724, 31.420647719311855],\n",
       " 'huckleberry': [45.98602087711411, 21.57749683358966, 131.46567982023257],\n",
       " 'lentil': [53.06396123536001, 17.324943277259884, 27.480711903666656],\n",
       " 'cauliflower': [39.12337661486114, 27.480724591568155, 17.945455365835656]}"
      ]
     },
     "execution_count": 725,
     "metadata": {},
     "output_type": "execute_result"
    }
   ],
   "source": [
    "Optim_params"
   ]
  },
  {
   "cell_type": "code",
   "execution_count": 726,
   "id": "244e0266-5369-40e5-b3de-5525311ec636",
   "metadata": {},
   "outputs": [
    {
     "data": {
      "text/html": [
       "<div>\n",
       "<style scoped>\n",
       "    .dataframe tbody tr th:only-of-type {\n",
       "        vertical-align: middle;\n",
       "    }\n",
       "\n",
       "    .dataframe tbody tr th {\n",
       "        vertical-align: top;\n",
       "    }\n",
       "\n",
       "    .dataframe thead th {\n",
       "        text-align: right;\n",
       "    }\n",
       "</style>\n",
       "<table border=\"1\" class=\"dataframe\">\n",
       "  <thead>\n",
       "    <tr style=\"text-align: right;\">\n",
       "      <th></th>\n",
       "      <th>b</th>\n",
       "      <th>a</th>\n",
       "      <th>phi</th>\n",
       "    </tr>\n",
       "  </thead>\n",
       "  <tbody>\n",
       "    <tr>\n",
       "      <th>anise</th>\n",
       "      <td>39.992248</td>\n",
       "      <td>22.415083</td>\n",
       "      <td>24.448709</td>\n",
       "    </tr>\n",
       "    <tr>\n",
       "      <th>kiwi</th>\n",
       "      <td>48.840373</td>\n",
       "      <td>31.842561</td>\n",
       "      <td>16.264649</td>\n",
       "    </tr>\n",
       "    <tr>\n",
       "      <th>carrot</th>\n",
       "      <td>47.576547</td>\n",
       "      <td>24.231287</td>\n",
       "      <td>21.414573</td>\n",
       "    </tr>\n",
       "    <tr>\n",
       "      <th>grape</th>\n",
       "      <td>44.901820</td>\n",
       "      <td>32.333758</td>\n",
       "      <td>20.420180</td>\n",
       "    </tr>\n",
       "    <tr>\n",
       "      <th>tangerine</th>\n",
       "      <td>42.756348</td>\n",
       "      <td>22.147744</td>\n",
       "      <td>26.777181</td>\n",
       "    </tr>\n",
       "    <tr>\n",
       "      <th>melon</th>\n",
       "      <td>51.264723</td>\n",
       "      <td>19.099492</td>\n",
       "      <td>30.687286</td>\n",
       "    </tr>\n",
       "    <tr>\n",
       "      <th>clementine</th>\n",
       "      <td>48.018068</td>\n",
       "      <td>27.596016</td>\n",
       "      <td>34.157140</td>\n",
       "    </tr>\n",
       "    <tr>\n",
       "      <th>spinach</th>\n",
       "      <td>49.725929</td>\n",
       "      <td>18.401028</td>\n",
       "      <td>14.265083</td>\n",
       "    </tr>\n",
       "    <tr>\n",
       "      <th>beet</th>\n",
       "      <td>40.852190</td>\n",
       "      <td>30.614586</td>\n",
       "      <td>31.420648</td>\n",
       "    </tr>\n",
       "    <tr>\n",
       "      <th>huckleberry</th>\n",
       "      <td>45.986021</td>\n",
       "      <td>21.577497</td>\n",
       "      <td>131.465680</td>\n",
       "    </tr>\n",
       "    <tr>\n",
       "      <th>lentil</th>\n",
       "      <td>53.063961</td>\n",
       "      <td>17.324943</td>\n",
       "      <td>27.480712</td>\n",
       "    </tr>\n",
       "    <tr>\n",
       "      <th>cauliflower</th>\n",
       "      <td>39.123377</td>\n",
       "      <td>27.480725</td>\n",
       "      <td>17.945455</td>\n",
       "    </tr>\n",
       "  </tbody>\n",
       "</table>\n",
       "</div>"
      ],
      "text/plain": [
       "                     b          a         phi\n",
       "anise        39.992248  22.415083   24.448709\n",
       "kiwi         48.840373  31.842561   16.264649\n",
       "carrot       47.576547  24.231287   21.414573\n",
       "grape        44.901820  32.333758   20.420180\n",
       "tangerine    42.756348  22.147744   26.777181\n",
       "melon        51.264723  19.099492   30.687286\n",
       "clementine   48.018068  27.596016   34.157140\n",
       "spinach      49.725929  18.401028   14.265083\n",
       "beet         40.852190  30.614586   31.420648\n",
       "huckleberry  45.986021  21.577497  131.465680\n",
       "lentil       53.063961  17.324943   27.480712\n",
       "cauliflower  39.123377  27.480725   17.945455"
      ]
     },
     "execution_count": 726,
     "metadata": {},
     "output_type": "execute_result"
    }
   ],
   "source": [
    "Optim_df"
   ]
  },
  {
   "cell_type": "code",
   "execution_count": 699,
   "id": "728cc1ca-2771-43e3-8889-d4950be7f958",
   "metadata": {},
   "outputs": [
    {
     "data": {
      "text/html": [
       "<div>\n",
       "<style scoped>\n",
       "    .dataframe tbody tr th:only-of-type {\n",
       "        vertical-align: middle;\n",
       "    }\n",
       "\n",
       "    .dataframe tbody tr th {\n",
       "        vertical-align: top;\n",
       "    }\n",
       "\n",
       "    .dataframe thead th {\n",
       "        text-align: right;\n",
       "    }\n",
       "</style>\n",
       "<table border=\"1\" class=\"dataframe\">\n",
       "  <thead>\n",
       "    <tr style=\"text-align: right;\">\n",
       "      <th></th>\n",
       "      <th>b</th>\n",
       "      <th>a</th>\n",
       "      <th>phi</th>\n",
       "    </tr>\n",
       "    <tr>\n",
       "      <th>geneename</th>\n",
       "      <th></th>\n",
       "      <th></th>\n",
       "      <th></th>\n",
       "    </tr>\n",
       "  </thead>\n",
       "  <tbody>\n",
       "    <tr>\n",
       "      <th>anise</th>\n",
       "      <td>48.56</td>\n",
       "      <td>15.67</td>\n",
       "      <td>0.61</td>\n",
       "    </tr>\n",
       "    <tr>\n",
       "      <th>kiwi</th>\n",
       "      <td>52.70</td>\n",
       "      <td>33.46</td>\n",
       "      <td>15.58</td>\n",
       "    </tr>\n",
       "    <tr>\n",
       "      <th>carrot</th>\n",
       "      <td>46.91</td>\n",
       "      <td>26.08</td>\n",
       "      <td>21.33</td>\n",
       "    </tr>\n",
       "    <tr>\n",
       "      <th>grape</th>\n",
       "      <td>41.68</td>\n",
       "      <td>30.17</td>\n",
       "      <td>20.21</td>\n",
       "    </tr>\n",
       "    <tr>\n",
       "      <th>tangerine</th>\n",
       "      <td>47.54</td>\n",
       "      <td>22.96</td>\n",
       "      <td>2.60</td>\n",
       "    </tr>\n",
       "    <tr>\n",
       "      <th>melon</th>\n",
       "      <td>46.48</td>\n",
       "      <td>27.44</td>\n",
       "      <td>8.16</td>\n",
       "    </tr>\n",
       "    <tr>\n",
       "      <th>clementine</th>\n",
       "      <td>42.09</td>\n",
       "      <td>18.32</td>\n",
       "      <td>9.36</td>\n",
       "    </tr>\n",
       "    <tr>\n",
       "      <th>spinach</th>\n",
       "      <td>51.88</td>\n",
       "      <td>14.39</td>\n",
       "      <td>14.26</td>\n",
       "    </tr>\n",
       "    <tr>\n",
       "      <th>beet</th>\n",
       "      <td>43.13</td>\n",
       "      <td>35.66</td>\n",
       "      <td>6.48</td>\n",
       "    </tr>\n",
       "    <tr>\n",
       "      <th>huckleberry</th>\n",
       "      <td>45.06</td>\n",
       "      <td>28.94</td>\n",
       "      <td>10.85</td>\n",
       "    </tr>\n",
       "    <tr>\n",
       "      <th>lentil</th>\n",
       "      <td>56.20</td>\n",
       "      <td>18.14</td>\n",
       "      <td>0.85</td>\n",
       "    </tr>\n",
       "    <tr>\n",
       "      <th>cauliflower</th>\n",
       "      <td>39.43</td>\n",
       "      <td>35.30</td>\n",
       "      <td>18.72</td>\n",
       "    </tr>\n",
       "  </tbody>\n",
       "</table>\n",
       "</div>"
      ],
      "text/plain": [
       "                 b      a    phi\n",
       "geneename                       \n",
       "anise        48.56  15.67   0.61\n",
       "kiwi         52.70  33.46  15.58\n",
       "carrot       46.91  26.08  21.33\n",
       "grape        41.68  30.17  20.21\n",
       "tangerine    47.54  22.96   2.60\n",
       "melon        46.48  27.44   8.16\n",
       "clementine   42.09  18.32   9.36\n",
       "spinach      51.88  14.39  14.26\n",
       "beet         43.13  35.66   6.48\n",
       "huckleberry  45.06  28.94  10.85\n",
       "lentil       56.20  18.14   0.85\n",
       "cauliflower  39.43  35.30  18.72"
      ]
     },
     "execution_count": 699,
     "metadata": {},
     "output_type": "execute_result"
    }
   ],
   "source": [
    "moriarty_data"
   ]
  },
  {
   "cell_type": "code",
   "execution_count": 700,
   "id": "0b26cd74-589e-4a85-a3bc-d3c63e3b69e7",
   "metadata": {},
   "outputs": [],
   "source": [
    "#Reset the index for to help compare it with Moriarity \n",
    "Optim_df = Optim_df.reindex(['carrot','grape','cauliflower','kiwi','spinach','huckleberry','clementine','melon','beet','tangerine','lentil','anise'])"
   ]
  },
  {
   "cell_type": "code",
   "execution_count": 261,
   "id": "4726e0ec-7ee8-442e-9215-f6afd9fade90",
   "metadata": {},
   "outputs": [
    {
     "data": {
      "text/plain": [
       "array([59.43, 33.61, 15.48, 18.16, 65.6 , 38.55, 60.69, 32.44])"
      ]
     },
     "execution_count": 261,
     "metadata": {},
     "output_type": "execute_result"
    }
   ],
   "source": [
    "ll_score = []\n",
    "ys"
   ]
  },
  {
   "cell_type": "code",
   "execution_count": 262,
   "id": "d15c2bdd-61fe-47cc-9a36-4500ccf2576e",
   "metadata": {},
   "outputs": [
    {
     "ename": "SyntaxError",
     "evalue": "invalid syntax (1931891848.py, line 5)",
     "output_type": "error",
     "traceback": [
      "\u001b[0;36m  Input \u001b[0;32mIn [262]\u001b[0;36m\u001b[0m\n\u001b[0;31m    print(list(row)[])\u001b[0m\n\u001b[0m                    ^\u001b[0m\n\u001b[0;31mSyntaxError\u001b[0m\u001b[0;31m:\u001b[0m invalid syntax\n"
     ]
    }
   ],
   "source": [
    "ll_score = np.array([])\n",
    "for row in Optim_df.iloc:\n",
    "    params = row[1],row[0],row[2]\n",
    "    nll(params,ts,ys,sigmas)\n",
    "    print(list(row)[])"
   ]
  },
  {
   "cell_type": "code",
   "execution_count": 276,
   "id": "97e6b7a8-b296-4fa6-8928-39b5c683b3fe",
   "metadata": {},
   "outputs": [
    {
     "ename": "IndentationError",
     "evalue": "expected an indented block (2493390779.py, line 3)",
     "output_type": "error",
     "traceback": [
      "\u001b[0;36m  Input \u001b[0;32mIn [276]\u001b[0;36m\u001b[0m\n\u001b[0;31m    \u001b[0m\n\u001b[0m    ^\u001b[0m\n\u001b[0;31mIndentationError\u001b[0m\u001b[0;31m:\u001b[0m expected an indented block\n"
     ]
    }
   ],
   "source": [
    "#Optim_df.loc['anise'][0]\n",
    "for gene in Optim_params.keys():\n",
    "    \n"
   ]
  },
  {
   "cell_type": "code",
   "execution_count": 309,
   "id": "423b8bf6-fa8c-4ae9-ac4f-111a3620d2e5",
   "metadata": {},
   "outputs": [],
   "source": [
    "#for gene in Optim_df.index:\n",
    " #print(gene)\n",
    "#ys1 = oscillation_data.loc[\"anise\"]\n",
    "def ScoreParams(df_params,data,ts,sigmas):\n",
    "    ll_score = []\n",
    "    for gene in data.index:\n",
    "        ygene = np.array(data.loc[gene])\n",
    "        params = df_params.loc[gene]\n",
    "        ll_score.append(nll(params,ts,ygene,sigmas))\n",
    "    return sum(ll_score)"
   ]
  },
  {
   "cell_type": "code",
   "execution_count": 727,
   "id": "5aecd96d-68ed-4a72-a2d2-2a2dd7471754",
   "metadata": {},
   "outputs": [
    {
     "data": {
      "text/plain": [
       "311.72964272089575"
      ]
     },
     "execution_count": 727,
     "metadata": {},
     "output_type": "execute_result"
    }
   ],
   "source": [
    "ScoreParams(Optim_df,oscillation_data,ts,sigmas)"
   ]
  },
  {
   "cell_type": "code",
   "execution_count": 329,
   "id": "27cf59ba-cdba-45e9-9e24-a9af74a0ccfe",
   "metadata": {},
   "outputs": [],
   "source": [
    "#Now let's get Moriarity Data\n",
    "#A. Download the data, use \n",
    "moriarty_data = pd.read_table('moriarty-data.tbl',\n",
    "                            delim_whitespace=True, # Whether it is whitespace delimited\n",
    "                            skiprows=0, # Number of rows to skip\n",
    "                            header = 1, # Row that has the header (None since we are going to provide it ourselves)\n",
    "                            names = ['geneename','b','a','phi'], # Column names\n",
    "                            index_col=0 # Set the row names using the first column\n",
    "                           )"
   ]
  },
  {
   "cell_type": "code",
   "execution_count": 330,
   "id": "76c100c7-a6d7-4ed6-847f-c8e9c761465b",
   "metadata": {},
   "outputs": [
    {
     "data": {
      "text/html": [
       "<div>\n",
       "<style scoped>\n",
       "    .dataframe tbody tr th:only-of-type {\n",
       "        vertical-align: middle;\n",
       "    }\n",
       "\n",
       "    .dataframe tbody tr th {\n",
       "        vertical-align: top;\n",
       "    }\n",
       "\n",
       "    .dataframe thead th {\n",
       "        text-align: right;\n",
       "    }\n",
       "</style>\n",
       "<table border=\"1\" class=\"dataframe\">\n",
       "  <thead>\n",
       "    <tr style=\"text-align: right;\">\n",
       "      <th></th>\n",
       "      <th>b</th>\n",
       "      <th>a</th>\n",
       "      <th>phi</th>\n",
       "    </tr>\n",
       "    <tr>\n",
       "      <th>geneename</th>\n",
       "      <th></th>\n",
       "      <th></th>\n",
       "      <th></th>\n",
       "    </tr>\n",
       "  </thead>\n",
       "  <tbody>\n",
       "    <tr>\n",
       "      <th>anise</th>\n",
       "      <td>48.56</td>\n",
       "      <td>15.67</td>\n",
       "      <td>0.61</td>\n",
       "    </tr>\n",
       "    <tr>\n",
       "      <th>kiwi</th>\n",
       "      <td>52.70</td>\n",
       "      <td>33.46</td>\n",
       "      <td>15.58</td>\n",
       "    </tr>\n",
       "    <tr>\n",
       "      <th>carrot</th>\n",
       "      <td>46.91</td>\n",
       "      <td>26.08</td>\n",
       "      <td>21.33</td>\n",
       "    </tr>\n",
       "    <tr>\n",
       "      <th>grape</th>\n",
       "      <td>41.68</td>\n",
       "      <td>30.17</td>\n",
       "      <td>20.21</td>\n",
       "    </tr>\n",
       "    <tr>\n",
       "      <th>tangerine</th>\n",
       "      <td>47.54</td>\n",
       "      <td>22.96</td>\n",
       "      <td>2.60</td>\n",
       "    </tr>\n",
       "    <tr>\n",
       "      <th>melon</th>\n",
       "      <td>46.48</td>\n",
       "      <td>27.44</td>\n",
       "      <td>8.16</td>\n",
       "    </tr>\n",
       "    <tr>\n",
       "      <th>clementine</th>\n",
       "      <td>42.09</td>\n",
       "      <td>18.32</td>\n",
       "      <td>9.36</td>\n",
       "    </tr>\n",
       "    <tr>\n",
       "      <th>spinach</th>\n",
       "      <td>51.88</td>\n",
       "      <td>14.39</td>\n",
       "      <td>14.26</td>\n",
       "    </tr>\n",
       "    <tr>\n",
       "      <th>beet</th>\n",
       "      <td>43.13</td>\n",
       "      <td>35.66</td>\n",
       "      <td>6.48</td>\n",
       "    </tr>\n",
       "    <tr>\n",
       "      <th>huckleberry</th>\n",
       "      <td>45.06</td>\n",
       "      <td>28.94</td>\n",
       "      <td>10.85</td>\n",
       "    </tr>\n",
       "    <tr>\n",
       "      <th>lentil</th>\n",
       "      <td>56.20</td>\n",
       "      <td>18.14</td>\n",
       "      <td>0.85</td>\n",
       "    </tr>\n",
       "    <tr>\n",
       "      <th>cauliflower</th>\n",
       "      <td>39.43</td>\n",
       "      <td>35.30</td>\n",
       "      <td>18.72</td>\n",
       "    </tr>\n",
       "  </tbody>\n",
       "</table>\n",
       "</div>"
      ],
      "text/plain": [
       "                 b      a    phi\n",
       "geneename                       \n",
       "anise        48.56  15.67   0.61\n",
       "kiwi         52.70  33.46  15.58\n",
       "carrot       46.91  26.08  21.33\n",
       "grape        41.68  30.17  20.21\n",
       "tangerine    47.54  22.96   2.60\n",
       "melon        46.48  27.44   8.16\n",
       "clementine   42.09  18.32   9.36\n",
       "spinach      51.88  14.39  14.26\n",
       "beet         43.13  35.66   6.48\n",
       "huckleberry  45.06  28.94  10.85\n",
       "lentil       56.20  18.14   0.85\n",
       "cauliflower  39.43  35.30  18.72"
      ]
     },
     "execution_count": 330,
     "metadata": {},
     "output_type": "execute_result"
    }
   ],
   "source": [
    "moriarty_data\n",
    "#Optim_df"
   ]
  },
  {
   "cell_type": "code",
   "execution_count": 695,
   "id": "118ea7fd-bba1-4a9e-83df-f81cbbcfb6a6",
   "metadata": {},
   "outputs": [
    {
     "data": {
      "text/plain": [
       "445.8636478253692"
      ]
     },
     "execution_count": 695,
     "metadata": {},
     "output_type": "execute_result"
    }
   ],
   "source": [
    "ScoreParams(moriarty_data,oscillation_data,ts,sigmas)"
   ]
  },
  {
   "cell_type": "code",
   "execution_count": 333,
   "id": "e1a23866-3eb9-4575-aa2a-9d2720199ed5",
   "metadata": {},
   "outputs": [],
   "source": [
    "#Since 311 is less 445, it looks like our method is better\n",
    "# so your is 445 - 311 is 134 better. Give a scale \n",
    "# your is approx 311/445 - 1 = .30 or about 30% relatively better"
   ]
  },
  {
   "cell_type": "code",
   "execution_count": 334,
   "id": "13f4575f-daf4-48e6-848f-db5aa73320a3",
   "metadata": {},
   "outputs": [
    {
     "data": {
      "text/plain": [
       "'\\ndef nll(params, ts, ys, sigmas):\\n    b,a,phi = params\\n    freq = np.pi/24\\n    y_pred = b + a * np.sin(2*freq*(ts+phi))\\n    ll_terms = stats.norm.logpdf(ys - y_pred, loc=0, scale=sigmas)\\n    return -ll_terms.sum()\\n    '"
      ]
     },
     "execution_count": 334,
     "metadata": {},
     "output_type": "execute_result"
    }
   ],
   "source": [
    "#3. Plot the fits,\n",
    "#B. Create the objective function\n",
    "'''\n",
    "def nll(params, ts, ys, sigmas):\n",
    "    b,a,phi = params\n",
    "    freq = np.pi/24\n",
    "    y_pred = b + a * np.sin(2*freq*(ts+phi))\n",
    "    ll_terms = stats.norm.logpdf(ys - y_pred, loc=0, scale=sigmas)\n",
    "    return -ll_terms.sum()\n",
    "    '''"
   ]
  },
  {
   "cell_type": "code",
   "execution_count": 338,
   "id": "311a81fa-ef5b-41ba-a463-dc436b30164b",
   "metadata": {},
   "outputs": [
    {
     "data": {
      "text/plain": [
       "array([27.82100737, 27.82100737, 62.49574732, 62.49574732, 51.03899263,\n",
       "       51.03899263,  4.75526005,  4.75526005])"
      ]
     },
     "execution_count": 338,
     "metadata": {},
     "output_type": "execute_result"
    }
   ],
   "source": [
    "def plot_harmonize(params,ts):\n",
    "    b,a,phi = params\n",
    "    freq = np.pi/24\n",
    "    y_pred = b + a * np.sin(2*freq*(ts+phi))\n",
    "    return y_pred\n",
    "    \n",
    "plot_params = 39.43,35.30,18.72\n",
    "plot_harmonize(plot_params,ts)"
   ]
  },
  {
   "cell_type": "code",
   "execution_count": 571,
   "id": "61ae4164-2e3e-41ea-aefa-2ce258a795ab",
   "metadata": {},
   "outputs": [
    {
     "data": {
      "text/plain": [
       "<matplotlib.legend.Legend at 0x7fc9a88befa0>"
      ]
     },
     "execution_count": 571,
     "metadata": {},
     "output_type": "execute_result"
    },
    {
     "data": {
      "image/png": "[encoded data removed]",
      "text/plain": [
       "<Figure size 432x288 with 1 Axes>"
      ]
     },
     "metadata": {
      "needs_background": "light"
     },
     "output_type": "display_data"
    }
   ],
   "source": [
    "x = np.linspace(0,48,80)\n",
    "#np.arange(24)\n",
    "b,a,phi = plot_params\n",
    "xTs =  np.linspace(0,48,80)\n",
    "freq = np.pi/24\n",
    "a = 40\n",
    "y_pred = b + a * np.sin(2*freq*(xTs+phi))\n",
    "y_pred_2 = b + a * np.cos(2*freq*(xTs+phi))\n",
    "ax = plt.plot(x,y_pred)\n",
    "xtest = [5,10,15,20,25,30]\n",
    "ytest = [5,10,15,20,25,30]\n",
    "plt.plot(x,y_pred, label='model')\n",
    "#plt.plot(xtest,ytest, label = \"test\")\n",
    "plt.plot([5,10],[30,50],\"*\")\n",
    "\n",
    "plt.ylim([-5,100])\n",
    "plt.legend()\n",
    "#plt.plot(30,10)\n"
   ]
  },
  {
   "cell_type": "code",
   "execution_count": 612,
   "id": "d481d5cf-563d-40ff-b433-224c7ea1fb93",
   "metadata": {},
   "outputs": [
    {
     "data": {
      "text/plain": [
       "array([ 4,  8, 17, 25])"
      ]
     },
     "execution_count": 612,
     "metadata": {},
     "output_type": "execute_result"
    }
   ],
   "source": [
    "testa = ['4','2','8','5','1','6']\n",
    "testa[::2]\n",
    "testa[1::2]\n",
    "x_data = np.array([4,5,8,9,16,17,24,25])\n",
    "twenty_idx = np.array([0,2,5,7])\n",
    "x_data[twenty_idx]\n"
   ]
  },
  {
   "cell_type": "code",
   "execution_count": 728,
   "id": "d50891f9-cd23-4ecf-8cbf-411675fb6e67",
   "metadata": {},
   "outputs": [
    {
     "data": {
      "text/html": [
       "<div>\n",
       "<style scoped>\n",
       "    .dataframe tbody tr th:only-of-type {\n",
       "        vertical-align: middle;\n",
       "    }\n",
       "\n",
       "    .dataframe tbody tr th {\n",
       "        vertical-align: top;\n",
       "    }\n",
       "\n",
       "    .dataframe thead th {\n",
       "        text-align: right;\n",
       "    }\n",
       "</style>\n",
       "<table border=\"1\" class=\"dataframe\">\n",
       "  <thead>\n",
       "    <tr style=\"text-align: right;\">\n",
       "      <th></th>\n",
       "      <th>4hr+-20</th>\n",
       "      <th>4hr+-2</th>\n",
       "      <th>8hr+-20</th>\n",
       "      <th>8hr+-5</th>\n",
       "      <th>16hr+-5</th>\n",
       "      <th>16hr+-20</th>\n",
       "      <th>24hr+-2</th>\n",
       "      <th>24hr+-20</th>\n",
       "    </tr>\n",
       "    <tr>\n",
       "      <th>gene_name</th>\n",
       "      <th></th>\n",
       "      <th></th>\n",
       "      <th></th>\n",
       "      <th></th>\n",
       "      <th></th>\n",
       "      <th></th>\n",
       "      <th></th>\n",
       "      <th></th>\n",
       "    </tr>\n",
       "  </thead>\n",
       "  <tbody>\n",
       "    <tr>\n",
       "      <th>anise</th>\n",
       "      <td>82.16</td>\n",
       "      <td>61.52</td>\n",
       "      <td>56.65</td>\n",
       "      <td>53.24</td>\n",
       "      <td>19.64</td>\n",
       "      <td>53.96</td>\n",
       "      <td>41.79</td>\n",
       "      <td>48.77</td>\n",
       "    </tr>\n",
       "    <tr>\n",
       "      <th>kiwi</th>\n",
       "      <td>32.62</td>\n",
       "      <td>22.48</td>\n",
       "      <td>39.71</td>\n",
       "      <td>51.13</td>\n",
       "      <td>74.26</td>\n",
       "      <td>96.05</td>\n",
       "      <td>20.09</td>\n",
       "      <td>24.04</td>\n",
       "    </tr>\n",
       "    <tr>\n",
       "      <th>carrot</th>\n",
       "      <td>60.73</td>\n",
       "      <td>57.91</td>\n",
       "      <td>75.95</td>\n",
       "      <td>64.55</td>\n",
       "      <td>42.33</td>\n",
       "      <td>36.01</td>\n",
       "      <td>31.41</td>\n",
       "      <td>24.17</td>\n",
       "    </tr>\n",
       "    <tr>\n",
       "      <th>grape</th>\n",
       "      <td>45.68</td>\n",
       "      <td>48.98</td>\n",
       "      <td>58.39</td>\n",
       "      <td>73.43</td>\n",
       "      <td>42.46</td>\n",
       "      <td>40.32</td>\n",
       "      <td>18.61</td>\n",
       "      <td>8.86</td>\n",
       "    </tr>\n",
       "    <tr>\n",
       "      <th>tangerine</th>\n",
       "      <td>96.16</td>\n",
       "      <td>63.74</td>\n",
       "      <td>47.03</td>\n",
       "      <td>51.52</td>\n",
       "      <td>19.26</td>\n",
       "      <td>36.95</td>\n",
       "      <td>57.78</td>\n",
       "      <td>53.23</td>\n",
       "    </tr>\n",
       "    <tr>\n",
       "      <th>melon</th>\n",
       "      <td>16.05</td>\n",
       "      <td>58.09</td>\n",
       "      <td>14.91</td>\n",
       "      <td>40.52</td>\n",
       "      <td>44.77</td>\n",
       "      <td>44.89</td>\n",
       "      <td>69.97</td>\n",
       "      <td>80.42</td>\n",
       "    </tr>\n",
       "    <tr>\n",
       "      <th>clementine</th>\n",
       "      <td>59.43</td>\n",
       "      <td>33.61</td>\n",
       "      <td>15.48</td>\n",
       "      <td>18.16</td>\n",
       "      <td>65.60</td>\n",
       "      <td>38.55</td>\n",
       "      <td>60.69</td>\n",
       "      <td>32.44</td>\n",
       "    </tr>\n",
       "    <tr>\n",
       "      <th>spinach</th>\n",
       "      <td>57.77</td>\n",
       "      <td>32.15</td>\n",
       "      <td>44.04</td>\n",
       "      <td>37.15</td>\n",
       "      <td>70.32</td>\n",
       "      <td>67.11</td>\n",
       "      <td>38.75</td>\n",
       "      <td>39.04</td>\n",
       "    </tr>\n",
       "    <tr>\n",
       "      <th>beet</th>\n",
       "      <td>65.97</td>\n",
       "      <td>45.26</td>\n",
       "      <td>28.64</td>\n",
       "      <td>16.28</td>\n",
       "      <td>37.18</td>\n",
       "      <td>20.54</td>\n",
       "      <td>69.18</td>\n",
       "      <td>89.60</td>\n",
       "    </tr>\n",
       "    <tr>\n",
       "      <th>huckleberry</th>\n",
       "      <td>44.91</td>\n",
       "      <td>31.46</td>\n",
       "      <td>0.00</td>\n",
       "      <td>16.63</td>\n",
       "      <td>68.04</td>\n",
       "      <td>69.89</td>\n",
       "      <td>47.30</td>\n",
       "      <td>42.91</td>\n",
       "    </tr>\n",
       "    <tr>\n",
       "      <th>lentil</th>\n",
       "      <td>69.30</td>\n",
       "      <td>67.96</td>\n",
       "      <td>87.38</td>\n",
       "      <td>58.17</td>\n",
       "      <td>34.46</td>\n",
       "      <td>40.01</td>\n",
       "      <td>67.59</td>\n",
       "      <td>59.38</td>\n",
       "    </tr>\n",
       "    <tr>\n",
       "      <th>cauliflower</th>\n",
       "      <td>27.32</td>\n",
       "      <td>24.14</td>\n",
       "      <td>72.96</td>\n",
       "      <td>54.92</td>\n",
       "      <td>51.63</td>\n",
       "      <td>48.96</td>\n",
       "      <td>12.35</td>\n",
       "      <td>0.00</td>\n",
       "    </tr>\n",
       "  </tbody>\n",
       "</table>\n",
       "</div>"
      ],
      "text/plain": [
       "             4hr+-20  4hr+-2  8hr+-20  8hr+-5  16hr+-5  16hr+-20  24hr+-2  \\\n",
       "gene_name                                                                   \n",
       "anise          82.16   61.52    56.65   53.24    19.64     53.96    41.79   \n",
       "kiwi           32.62   22.48    39.71   51.13    74.26     96.05    20.09   \n",
       "carrot         60.73   57.91    75.95   64.55    42.33     36.01    31.41   \n",
       "grape          45.68   48.98    58.39   73.43    42.46     40.32    18.61   \n",
       "tangerine      96.16   63.74    47.03   51.52    19.26     36.95    57.78   \n",
       "melon          16.05   58.09    14.91   40.52    44.77     44.89    69.97   \n",
       "clementine     59.43   33.61    15.48   18.16    65.60     38.55    60.69   \n",
       "spinach        57.77   32.15    44.04   37.15    70.32     67.11    38.75   \n",
       "beet           65.97   45.26    28.64   16.28    37.18     20.54    69.18   \n",
       "huckleberry    44.91   31.46     0.00   16.63    68.04     69.89    47.30   \n",
       "lentil         69.30   67.96    87.38   58.17    34.46     40.01    67.59   \n",
       "cauliflower    27.32   24.14    72.96   54.92    51.63     48.96    12.35   \n",
       "\n",
       "             24hr+-20  \n",
       "gene_name              \n",
       "anise           48.77  \n",
       "kiwi            24.04  \n",
       "carrot          24.17  \n",
       "grape            8.86  \n",
       "tangerine       53.23  \n",
       "melon           80.42  \n",
       "clementine      32.44  \n",
       "spinach         39.04  \n",
       "beet            89.60  \n",
       "huckleberry     42.91  \n",
       "lentil          59.38  \n",
       "cauliflower      0.00  "
      ]
     },
     "execution_count": 728,
     "metadata": {},
     "output_type": "execute_result"
    }
   ],
   "source": [
    "oscillation_data"
   ]
  },
  {
   "cell_type": "code",
   "execution_count": 614,
   "id": "1b3ba687-0dda-41d9-b32d-9ebd90cb1c53",
   "metadata": {},
   "outputs": [
    {
     "data": {
      "text/plain": [
       "[<matplotlib.lines.Line2D at 0x7fc9a90bf940>]"
      ]
     },
     "execution_count": 614,
     "metadata": {},
     "output_type": "execute_result"
    },
    {
     "data": {
      "image/png": "[encoded data removed]",
      "text/plain": [
       "<Figure size 432x288 with 1 Axes>"
      ]
     },
     "metadata": {
      "needs_background": "light"
     },
     "output_type": "display_data"
    }
   ],
   "source": [
    "#print(Optim_df.sort_values(\"phi\"))\n",
    "#print(moriarty_data.sort_values(\"phi\"))\n",
    "x = np.linspace(0,48,80)\n",
    "params = moriarty_data.loc['anise']\n",
    "b,a,phi = params\n",
    "plt.clf()\n",
    "y_pred = b + a * np.sin(2*freq*(x+phi))\n",
    "ax = plt.plot(x,y_pred,label=\"Data\")\n",
    "y_data = np.array(oscillation_data.loc['anise'])\n",
    "#print(oscillation_data.loc['anise'])\n",
    "twenty_x = [4,8,16,24]\n",
    "twenty_idx = [0,2,5,7]\n",
    "twenty_y = y_data[twenty_idx]\n",
    "x_data = [4,4,8,8,16,16,24,24]\n",
    "plt.plot(x_data,y_data,'*',label='test')\n",
    "\n",
    "\n",
    "params = Optim_df.loc['anise']\n",
    "b,a,phi = params\n",
    "y_pred = b + a * np.sin(2*freq*(x+phi))\n",
    "ax = plt.plot(x,y_pred)\n",
    "plt.plot(x_data,y_data,'*')\n"
   ]
  },
  {
   "cell_type": "code",
   "execution_count": 645,
   "id": "012ea134-0132-4a66-a7bc-536a03c666b9",
   "metadata": {},
   "outputs": [],
   "source": [
    "#MPrelsey 5/8/23, create function that will graph and compautre the sin parametes of two models\n",
    "def GraphCompareModels(model1,model2,data,gene):\n",
    "    #create x domain\n",
    "    x = np.linspace(0,48,80)\n",
    "    #graph freq information\n",
    "    freq = np.pi/24\n",
    "    \n",
    "    # create model 1 and graph it\n",
    "    #grab param 1 \n",
    "    params1 = model1.loc[gene]\n",
    "    # set parameters from param1\n",
    "    b1,a1,phi1 = params1\n",
    "    y_pred1 = b1 + a1 * np.sin(2*freq*(x+phi1))\n",
    "    ax = plt.plot(x,y_pred1,label=\"Moriarty's Model\")\n",
    "    \n",
    "    #Now create model two\n",
    "    params2 = model2.loc[gene]\n",
    "    # set parameters from param1\n",
    "    b2,a2,phi2 = params2\n",
    "    y_pred2 = b2 + a2 * np.sin(2*freq*(x+phi2))\n",
    "    ax = plt.plot(x,y_pred2,label=\"Our Model\")\n",
    "    \n",
    "    #Now plot data (create domain\n",
    "    y_data = np.array(data.loc[gene])\n",
    "    \n",
    "    #Plot the twenty standard deviation data\n",
    "    twenty_x = [4,8,16,24]\n",
    "    twenty_idx = [0,2,5,7]\n",
    "    twenty_y = y_data[twenty_idx]\n",
    "    plt.plot(twenty_x,twenty_y,'^',label=\"+=20\")\n",
    "    \n",
    "    #Plot the two standard deviation data\n",
    "    two_x = [4,24]\n",
    "    two_idx = [1,6]\n",
    "    two_y = y_data[two_idx]\n",
    "    plt.plot(two_x,two_y,'o',label=\"+=2\")\n",
    "    \n",
    "    #Plot the two standard deviation data\n",
    "    five_x = [8,16]\n",
    "    five_idx = [3,4]\n",
    "    five_y = y_data[five_idx]\n",
    "    plt.plot(five_x,five_y,'*',label=\"+=5\")\n",
    "\n",
    "    plt.xlabel(\"Hours\")\n",
    "    plt.ylabel(\"Gene expression\")\n",
    "    plt.legend()"
   ]
  },
  {
   "cell_type": "code",
   "execution_count": 647,
   "id": "c0381a83-1b41-4b06-af4d-92c2d3970700",
   "metadata": {},
   "outputs": [
    {
     "data": {
      "image/png": "[encoded data removed]",
      "text/plain": [
       "<Figure size 432x288 with 1 Axes>"
      ]
     },
     "metadata": {
      "needs_background": "light"
     },
     "output_type": "display_data"
    }
   ],
   "source": [
    "#b\n",
    "#np.linspace(0,24,100)\n",
    "#oscillation_data.index\n",
    "GraphCompareModels(moriarty_data,Optim_df,oscillation_data,'carrot')\n"
   ]
  },
  {
   "cell_type": "code",
   "execution_count": 729,
   "id": "bd9aef86-e867-4922-8aed-22b975b66e02",
   "metadata": {},
   "outputs": [
    {
     "data": {
      "image/png": "[encoded data removed]",
      "text/plain": [
       "<Figure size 432x288 with 1 Axes>"
      ]
     },
     "metadata": {
      "needs_background": "light"
     },
     "output_type": "display_data"
    }
   ],
   "source": [
    "GraphCompareModels(moriarty_data,Optim_df,oscillation_data,'carrot')"
   ]
  },
  {
   "cell_type": "code",
   "execution_count": 731,
   "id": "fb717658-8f5c-4606-ba76-f1791a4b9e54",
   "metadata": {},
   "outputs": [
    {
     "name": "stdout",
     "output_type": "stream",
     "text": [
      "Index(['anise', 'kiwi', 'carrot', 'grape', 'tangerine', 'melon', 'clementine',\n",
      "       'spinach', 'beet', 'huckleberry', 'lentil', 'cauliflower'],\n",
      "      dtype='object', name='gene_name')\n"
     ]
    }
   ],
   "source": [
    "#Step 3 i to compare the data in a four panel thing\n",
    "index = oscillation_data.index\n",
    "print(index)\n"
   ]
  },
  {
   "cell_type": "code",
   "execution_count": null,
   "id": "4b82c147-e81a-4c9e-988e-01573315bd98",
   "metadata": {},
   "outputs": [
    {
     "data": {
      "image/png": "[encoded data removed]",
      "text/plain": [
       "<Figure size 432x288 with 12 Axes>"
      ]
     },
     "metadata": {
      "needs_background": "light"
     },
     "output_type": "display_data"
    }
   ],
   "source": [
    "fig, ax = plt.subplots(nrows=3, ncols=4)\n",
    "#plt.figure(figsize=(500,500))\n",
    "\n",
    "ax[0, 0] = GraphCompareModels(moriarty_data,Optim_df,oscillation_data,'anise')\n",
    "ax[0, 1] = GraphCompareModels(moriarty_data,Optim_df,oscillation_data,'carrot')\n",
    "\n"
   ]
  },
  {
   "cell_type": "code",
   "execution_count": null,
   "id": "7640b658-644b-4dc2-b474-eefbe55c0164",
   "metadata": {},
   "outputs": [],
   "source": []
  }
 ],
 "metadata": {
  "kernelspec": {
   "display_name": "Python 3 (ipykernel)",
   "language": "python",
   "name": "python3"
  },
  "language_info": {
   "codemirror_mode": {
    "name": "ipython",
    "version": 3
   },
   "file_extension": ".py",
   "mimetype": "text/x-python",
   "name": "python",
   "nbconvert_exporter": "python",
   "pygments_lexer": "ipython3",
   "version": "3.9.12"
  }
 },
 "nbformat": 4,
 "nbformat_minor": 5
}
