{
 "cells": [
  {
   "cell_type": "code",
   "execution_count": 2,
   "id": "6623c3a7-6304-4c1f-bb1a-c221595d815b",
   "metadata": {},
   "outputs": [],
   "source": [
    "import os\n",
    "import numpy as np\n",
    "import pandas as pd\n",
    "import matplotlib.pyplot as plt\n",
    "import scipy.stats as stats\n",
    "import scipy.optimize as optimize\n",
    "from scipy.special import logsumexp\n"
   ]
  },
  {
   "cell_type": "code",
   "execution_count": 5,
   "id": "721ea79a-e2c0-4e62-8789-f67a37430c23",
   "metadata": {},
   "outputs": [],
   "source": [
    "test_dict = {}"
   ]
  },
  {
   "cell_type": "code",
   "execution_count": 8,
   "id": "31385a47-dc51-4f27-acf8-098f98a45797",
   "metadata": {},
   "outputs": [],
   "source": [
    "test_dict['apple'] = [1,2,3]\n",
    "test_dict['pear'] = [5,6,7]"
   ]
  },
  {
   "cell_type": "code",
   "execution_count": 10,
   "id": "ac69b894-2bd6-4c05-b777-be31fd47b9b2",
   "metadata": {},
   "outputs": [
    {
     "data": {
      "text/plain": [
       "[1, 2, 3]"
      ]
     },
     "execution_count": 10,
     "metadata": {},
     "output_type": "execute_result"
    }
   ],
   "source": []
  }
 ],
 "metadata": {
  "kernelspec": {
   "display_name": "Python 3 (ipykernel)",
   "language": "python",
   "name": "python3"
  },
  "language_info": {
   "codemirror_mode": {
    "name": "ipython",
    "version": 3
   },
   "file_extension": ".py",
   "mimetype": "text/x-python",
   "name": "python",
   "nbconvert_exporter": "python",
   "pygments_lexer": "ipython3",
   "version": "3.9.12"
  }
 },
 "nbformat": 4,
 "nbformat_minor": 5
}
