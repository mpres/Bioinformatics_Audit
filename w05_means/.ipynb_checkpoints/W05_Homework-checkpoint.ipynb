{
 "cells": [
  {
   "cell_type": "code",
   "execution_count": 402,
   "id": "ad868078-cb68-480f-9a29-7342179459a1",
   "metadata": {},
   "outputs": [],
   "source": [
    "import numpy as np\n",
    "import math\n",
    "import pandas as pd\n",
    "import scipy.spatial.distance as dis\n",
    "import matplotlib.pyplot as plt\n",
    "import matplotlib.cm as cm\n",
    "import numpy.random as rand\n",
    "import scipy.stats as stats\n",
    "import scipy.misc as misc\n",
    "from collections import Counter\n",
    "import os\n",
    "import re"
   ]
  },
  {
   "cell_type": "code",
   "execution_count": 403,
   "id": "e3302f60",
   "metadata": {},
   "outputs": [],
   "source": [
    "# import libraries\n",
    "import pandas as pd\n",
    "import numpy as np\n",
    "import math\n",
    "import random\n",
    "import scipy.spatial.distance as dis\n",
    "import matplotlib.pyplot as plt\n",
    "import matplotlib.cm as cm\n",
    "import numpy.random as rand\n",
    "import seaborn as sns\n",
    "import scipy.stats as stats\n",
    "import scipy.misc as misc\n",
    "from collections import Counter"
   ]
  },
  {
   "cell_type": "code",
   "execution_count": 4,
   "id": "0d872f7b-fbda-431e-8b73-4d12b1f8aa28",
   "metadata": {},
   "outputs": [],
   "source": [
    "# 1.  reproduce Wiggins' K-means result\n",
    "\n",
    "# step 1, grab information\n"
   ]
  },
  {
   "cell_type": "code",
   "execution_count": 4,
   "id": "0b217f19-df8d-429e-94d3-49db341e0249",
   "metadata": {},
   "outputs": [
    {
     "data": {
      "text/plain": [
       "'/Users/mpresley84/Desktop/w05_means'"
      ]
     },
     "execution_count": 4,
     "metadata": {},
     "output_type": "execute_result"
    }
   ],
   "source": [
    "os.getcwd()"
   ]
  },
  {
   "cell_type": "code",
   "execution_count": null,
   "id": "20f22ead-a266-4dfc-8347-1e0e0540d056",
   "metadata": {},
   "outputs": [],
   "source": [
    "os.chdir('/Users/mpresley84/Desktop/w05_means/hw')"
   ]
  },
  {
   "cell_type": "code",
   "execution_count": 25,
   "id": "774b8e69-4a3c-4a3e-89fa-6e022b905e02",
   "metadata": {},
   "outputs": [
    {
     "data": {
      "text/plain": [
       "['.DS_Store', 'w05-data.tbl']"
      ]
     },
     "execution_count": 25,
     "metadata": {},
     "output_type": "execute_result"
    }
   ],
   "source": [
    "os.listdir()"
   ]
  },
  {
   "cell_type": "code",
   "execution_count": 5,
   "id": "2096eeb6-78b4-4c31-a28a-cfcd8b646122",
   "metadata": {},
   "outputs": [],
   "source": [
    "f = open('w05-data.tbl','r')"
   ]
  },
  {
   "cell_type": "code",
   "execution_count": 6,
   "id": "99f2fba5-de1e-48ce-bd9a-97a400b9a318",
   "metadata": {},
   "outputs": [
    {
     "data": {
      "text/plain": [
       "'#cell        type      caraway         kiwi\\n'"
      ]
     },
     "execution_count": 6,
     "metadata": {},
     "output_type": "execute_result"
    }
   ],
   "source": [
    "a = f.readline()\n",
    "type(a)\n",
    "b = a.split('\\t')\n",
    "b[0]"
   ]
  },
  {
   "cell_type": "code",
   "execution_count": 7,
   "id": "d30bc1ea-f68c-4233-9862-489d164243a8",
   "metadata": {},
   "outputs": [
    {
     "data": {
      "text/plain": [
       "['hello', 'test', 'out']"
      ]
     },
     "execution_count": 7,
     "metadata": {},
     "output_type": "execute_result"
    }
   ],
   "source": [
    "# testing out regex expression\n",
    "testout = \"hello test      out\"\n",
    "re.split('\\s*\\s',testout)"
   ]
  },
  {
   "cell_type": "code",
   "execution_count": 8,
   "id": "8047ff7f-4297-4b39-94f6-08d0c77a8a45",
   "metadata": {},
   "outputs": [
    {
     "ename": "SyntaxError",
     "evalue": "invalid syntax (1005680673.py, line 2)",
     "output_type": "error",
     "traceback": [
      "\u001b[0;36m  Input \u001b[0;32mIn [8]\u001b[0;36m\u001b[0m\n\u001b[0;31m    t1[1]if\u001b[0m\n\u001b[0m           ^\u001b[0m\n\u001b[0;31mSyntaxError\u001b[0m\u001b[0;31m:\u001b[0m invalid syntax\n"
     ]
    }
   ],
   "source": [
    "t1 = re.split('\\s*\\s',a)\n",
    "t1[1]if"
   ]
  },
  {
   "cell_type": "code",
   "execution_count": 9,
   "id": "b8159331-a055-4466-9248-f3d6ad12b920",
   "metadata": {},
   "outputs": [],
   "source": [
    "#Mpresley 3/13/23 set random arrays from data, use regex for .tbl format.\n",
    "#\n",
    "caraway = []\n",
    "kiwi = []\n",
    "with open('w05-data.tbl','rt') as f:\n",
    "    headerString = f.readline()\n",
    "    for line in f:\n",
    "        row = re.split('\\s*\\s',line)\n",
    "        caraway.append(int(row[2]))\n",
    "        kiwi.append(int(row[3]))\n",
    "\n"
   ]
  },
  {
   "cell_type": "code",
   "execution_count": 12,
   "id": "915f7d54-6162-4e21-ad8c-8ce7d3735658",
   "metadata": {},
   "outputs": [
    {
     "data": {
      "text/plain": [
       "1000"
      ]
     },
     "execution_count": 12,
     "metadata": {},
     "output_type": "execute_result"
    }
   ],
   "source": [
    "#Mpresley 3/12/23 establish range\n"
   ]
  },
  {
   "cell_type": "code",
   "execution_count": 13,
   "id": "9e2b1981-eed3-4051-9690-15b57fcacc10",
   "metadata": {},
   "outputs": [],
   "source": [
    "#Mpresley 3/13/23 define function that will set random linear centriods\n",
    "\n",
    "\n",
    "def randomCentriodLinear(array1,array2, CentriodCount):\n",
    "    ar1_range = max(array1) - min(array1)\n",
    "    ar2_range = max(array2) - min(array2)\n",
    "    #prepare array to hold centriods\n",
    "    array1_centriod = []\n",
    "    array2_centriod = []\n",
    "    for c in range(CentriodCount):\n",
    "        array1_centriod.append(int(ar1_range * np.random.random()))\n",
    "        array2_centriod.append(int(ar2_range * np.random.random()))\n",
    "    return array1_centriod, array2_centriod\n",
    "        \n",
    "\n",
    "    "
   ]
  },
  {
   "cell_type": "code",
   "execution_count": 14,
   "id": "2701c1a2-ad70-4c94-9e4b-dee936d7afca",
   "metadata": {},
   "outputs": [],
   "source": [
    "#Mpresley 3/13/23 assign the centriods\n",
    "caraway_centriods, kiwi_centriods = randomCentriodLinear(caraway,kiwi,5)"
   ]
  },
  {
   "cell_type": "code",
   "execution_count": 530,
   "id": "a7a382fa-54f3-4b93-851e-814fd5358266",
   "metadata": {},
   "outputs": [
    {
     "data": {
      "text/plain": [
       "1.41421"
      ]
     },
     "execution_count": 530,
     "metadata": {},
     "output_type": "execute_result"
    }
   ],
   "source": [
    "#Get the distance between two points\n",
    "def Dist(x1,y1,x2,y2):\n",
    "    return math.sqrt(((x1 - x2)**2) + ((y1 - y2)**2))\n",
    "        \n",
    "round(Dist(2,2,3,3),5)\n",
    "    "
   ]
  },
  {
   "cell_type": "code",
   "execution_count": 15,
   "id": "ada3b2c6-92ec-440d-8c8c-37da202aae07",
   "metadata": {},
   "outputs": [
    {
     "data": {
      "text/plain": [
       "2"
      ]
     },
     "execution_count": 15,
     "metadata": {},
     "output_type": "execute_result"
    }
   ],
   "source": [
    "#used for scoring a model\n",
    "def Dist_Squared(x1,y1,x2,y2):\n",
    "        return ((x1 - x2)**2) + ((y1 - y2)**2)\n",
    "\n",
    "round(Dist_Squared(2,2,3,3),5)"
   ]
  },
  {
   "cell_type": "code",
   "execution_count": 16,
   "id": "fed37b09-62bf-4cd8-b9c6-e0e5b8557031",
   "metadata": {},
   "outputs": [],
   "source": [
    "#Mpresley 3/13/23 create the function and output the array that will update the data points \n",
    "# based on how close they are to the centriod\n",
    "# Once this is done the Centriods will be updated in turn\n",
    "\n",
    "#Get the distance between two points\n",
    "\n",
    "    \n",
    "def updateCellClass(cellGene1,cellGene2,Gene1Centriods,Gene2Centriods):\n",
    "\n",
    "    #cellGene1 will be the caraway expression for a single cell.\n",
    "    #cellGene2 will be the kiwi expression for that same cell.\n",
    "    dist_array = []\n",
    "    for i,c in enumerate(Gene1Centriods):\n",
    "        dist_array.append(Dist(cellGene1,cellGene2,c,Gene2Centriods[i]))\n",
    "    updateCell = dist_array.index(min(dist_array))\n",
    "    return updateCell\n",
    "        "
   ]
  },
  {
   "cell_type": "code",
   "execution_count": 17,
   "id": "061c7b61-0563-4970-9136-b1293ad805cb",
   "metadata": {},
   "outputs": [
    {
     "name": "stdout",
     "output_type": "stream",
     "text": [
      "1 6\n",
      "3 10\n",
      "5 14\n"
     ]
    }
   ],
   "source": [
    "test1Array = [1,3,5]\n",
    "test2Array = [6,10,14]\n",
    "\n",
    "for count,t in enumerate(test1Array):\n",
    "    #print(t)\n",
    "    #print(count)\n",
    "    print(t,test2Array[count])"
   ]
  },
  {
   "cell_type": "code",
   "execution_count": 18,
   "id": "c0efb275-0c62-421a-bddb-49e589a83d88",
   "metadata": {},
   "outputs": [
    {
     "ename": "NameError",
     "evalue": "name 'tst' is not defined",
     "output_type": "error",
     "traceback": [
      "\u001b[0;31m---------------------------------------------------------------------------\u001b[0m",
      "\u001b[0;31mNameError\u001b[0m                                 Traceback (most recent call last)",
      "Input \u001b[0;32mIn [18]\u001b[0m, in \u001b[0;36m<cell line: 3>\u001b[0;34m()\u001b[0m\n\u001b[1;32m      1\u001b[0m \u001b[38;5;66;03m#Mpresley 3/13/23 test function updateCellClass\u001b[39;00m\n\u001b[0;32m----> 3\u001b[0m updateCellClass(caraway[\u001b[43mtst\u001b[49m],kiwi[tst],caraway_centriods,kiwi_centriods)\n",
      "\u001b[0;31mNameError\u001b[0m: name 'tst' is not defined"
     ]
    }
   ],
   "source": [
    "#Mpresley 3/13/23 test function updateCellClass\n",
    "\n",
    "updateCellClass(caraway[tst],kiwi[tst],caraway_centriods,kiwi_centriods)"
   ]
  },
  {
   "cell_type": "code",
   "execution_count": 200,
   "id": "d60c444a-d886-4ad9-b1d8-5261270322c0",
   "metadata": {},
   "outputs": [],
   "source": [
    "#Mpresley 3/13/23 create function that will update all the distances in a conveint fashion\n",
    "\n",
    "def UpdateAllCells(Gene1array,Gene2array,Centriods1,Centriods2):\n",
    "    class_array = []\n",
    "    for i,g in enumerate(Gene1array):\n",
    "        class_array.append(updateCellClass(g,Gene2array[i],Centriods1,Centriods2))\n",
    "    return class_array"
   ]
  },
  {
   "cell_type": "code",
   "execution_count": 236,
   "id": "1ddeb573-3e94-4446-afcc-8a1ca745f348",
   "metadata": {},
   "outputs": [],
   "source": [
    "#Mpresley 3/13/23 test function UpdateAllCells\n",
    "updated_class = UpdateAllCells(caraway,kiwi,caraway_centriods,kiwi_centriods)\n"
   ]
  },
  {
   "cell_type": "code",
   "execution_count": 226,
   "id": "3387fb69-b329-4fcf-af40-fc182aae73fc",
   "metadata": {},
   "outputs": [],
   "source": [
    "#Mpresley 3/13/23 Update Centriods\n",
    "# Mpresley 3/13/23 update empty centriods by updating the \"fartherst point an a new centriod)\n",
    "total_ary1 = [caraway[i] + kiwi[i] for i in range(len(caraway))]\n",
    "farthest_idx = total_ary1.index(max(total_ary1))\n"
   ]
  },
  {
   "cell_type": "code",
   "execution_count": 238,
   "id": "c75165f6-f565-4ee3-99c5-919ecabfe449",
   "metadata": {},
   "outputs": [],
   "source": [
    "#Mpresley set the farthest_class to the empty centriod\n",
    "updated_class[farthest_idx] = 2"
   ]
  },
  {
   "cell_type": "code",
   "execution_count": 322,
   "id": "a2268498-9368-4f24-9c17-737f4edb7898",
   "metadata": {},
   "outputs": [
    {
     "data": {
      "text/plain": [
       "504"
      ]
     },
     "execution_count": 322,
     "metadata": {},
     "output_type": "execute_result"
    }
   ],
   "source": [
    "updated_class.index(2)"
   ]
  },
  {
   "cell_type": "code",
   "execution_count": 48,
   "id": "731f3f27-4c01-49b8-8196-a929614470c2",
   "metadata": {},
   "outputs": [
    {
     "ename": "NameError",
     "evalue": "name 'updated_class' is not defined",
     "output_type": "error",
     "traceback": [
      "\u001b[0;31m---------------------------------------------------------------------------\u001b[0m",
      "\u001b[0;31mNameError\u001b[0m                                 Traceback (most recent call last)",
      "Input \u001b[0;32mIn [48]\u001b[0m, in \u001b[0;36m<cell line: 1>\u001b[0;34m()\u001b[0m\n\u001b[0;32m----> 1\u001b[0m \u001b[38;5;28mset\u001b[39m(\u001b[43mupdated_class\u001b[49m)\n",
      "\u001b[0;31mNameError\u001b[0m: name 'updated_class' is not defined"
     ]
    }
   ],
   "source": [
    "set(updated_class)"
   ]
  },
  {
   "cell_type": "code",
   "execution_count": 272,
   "id": "baedc628",
   "metadata": {},
   "outputs": [],
   "source": [
    "data = np.zeros((1000,2))\n",
    "#np.shape(caraway,kiwi)"
   ]
  },
  {
   "cell_type": "code",
   "execution_count": 273,
   "id": "822bc40e",
   "metadata": {},
   "outputs": [],
   "source": [
    "data[:,0] = caraway\n",
    "data[:,1] = kiwi\n"
   ]
  },
  {
   "cell_type": "code",
   "execution_count": null,
   "id": "e1cc68e7",
   "metadata": {},
   "outputs": [],
   "source": [
    "\n"
   ]
  },
  {
   "cell_type": "code",
   "execution_count": 379,
   "id": "aef3756b-beb9-4bb8-9476-1e491b6f91d2",
   "metadata": {},
   "outputs": [],
   "source": [
    "#Mpresley 3/13/23 now it's time to update the Centriod \n",
    "\n",
    "def updateCentriod(array1,array2):\n",
    "    x = sum(array1)/len(array1)\n",
    "    y = sum(array2)/len(array2)\n",
    "    return x,y\n",
    "\n",
    "#Mpresley start here for 3/14/23\n",
    "def UpdateAllCentriods(array1,array2,classes):\n",
    "    uniqueValues = list(set(classes))\n",
    "    index_lists = []\n",
    "    for u in uniqueValues:\n",
    "        index_lists.append([i for i,x in enumerate(classes) if x == u ])\n",
    "    carawayClass_list = []\n",
    "    kiwiClass_list = []\n",
    "    for i in range(len(index_lists)):\n",
    "        carawayClass_list.append([caraway[x] for x in index_lists[i]])\n",
    "        kiwiClass_list.append([kiwi[x] for x in index_lists[i]])\n",
    "    caraway_Centriods = []\n",
    "    kiwi_Centriods = []\n",
    "    for l in carawayClass_list:\n",
    "        caraway_Centriods.append(round(sum(l)/len(l),2))\n",
    "    for l in kiwiClass_list:\n",
    "        kiwi_Centriods.append(round(sum(l)/len(l),2))\n",
    "    return caraway_Centriods,kiwi_Centriods\n",
    "    "
   ]
  },
  {
   "cell_type": "code",
   "execution_count": 391,
   "id": "ab770bdb-ccdd-4f7f-a481-8c1069327653",
   "metadata": {},
   "outputs": [
    {
     "name": "stdout",
     "output_type": "stream",
     "text": [
      "[635.84, 710.95, 5397.0, 4401.0, 3788.0]\n",
      "[629.88, 4526.18, 3168.0, 1854.78, 4283.0]\n"
     ]
    }
   ],
   "source": [
    "NewCents = UpdateAllCentriods(caraway,kiwi,updated_class)\n",
    "print(NewCents[0])\n",
    "print(NewCents[1])"
   ]
  },
  {
   "cell_type": "code",
   "execution_count": 406,
   "id": "41a3d982-9e17-4cb8-9612-683d17fb33ca",
   "metadata": {},
   "outputs": [
    {
     "ename": "NameError",
     "evalue": "name 'sns' is not defined",
     "output_type": "error",
     "traceback": [
      "\u001b[0;31m---------------------------------------------------------------------------\u001b[0m",
      "\u001b[0;31mNameError\u001b[0m                                 Traceback (most recent call last)",
      "Input \u001b[0;32mIn [406]\u001b[0m, in \u001b[0;36m<cell line: 2>\u001b[0;34m()\u001b[0m\n\u001b[1;32m      1\u001b[0m plt\u001b[38;5;241m.\u001b[39mfigure(figsize\u001b[38;5;241m=\u001b[39m(\u001b[38;5;241m8\u001b[39m,\u001b[38;5;241m5\u001b[39m))\n\u001b[0;32m----> 2\u001b[0m \u001b[43msns\u001b[49m\u001b[38;5;241m.\u001b[39mscatterplot(data\u001b[38;5;241m=\u001b[39mcaraway,x\u001b[38;5;241m=\u001b[39m\u001b[38;5;124m\"\u001b[39m\u001b[38;5;124mG\u001b[39m\u001b[38;5;124m\"\u001b[39m,y\u001b[38;5;241m=\u001b[39m\u001b[38;5;124m\"\u001b[39m\u001b[38;5;124mB\u001b[39m\u001b[38;5;124m\"\u001b[39m)\n",
      "\u001b[0;31mNameError\u001b[0m: name 'sns' is not defined"
     ]
    },
    {
     "data": {
      "text/plain": [
       "<Figure size 576x360 with 0 Axes>"
      ]
     },
     "metadata": {},
     "output_type": "display_data"
    }
   ],
   "source": [
    "plt.figure(figsize=(8,5))\n",
    "sns.scatterplot(data=caraway,x=\"G\",y=\"B\")\n",
    "\n",
    "#plt.scatter(caraway,kiwi)\n",
    "#plt.xlabel(\"X label\")\n",
    "#plt.ylabel('Y label')"
   ]
  },
  {
   "cell_type": "code",
   "execution_count": 392,
   "id": "6f010400-8c2f-4f62-8151-c021b053aebe",
   "metadata": {},
   "outputs": [],
   "source": [
    "#kiwi"
   ]
  },
  {
   "cell_type": "code",
   "execution_count": null,
   "id": "99cb5afc-ec73-4067-99f2-ba8bb7ee9483",
   "metadata": {},
   "outputs": [],
   "source": [
    "cara"
   ]
  },
  {
   "cell_type": "code",
   "execution_count": 295,
   "id": "88520399-b990-4084-aa5f-32f96d01a914",
   "metadata": {},
   "outputs": [
    {
     "data": {
      "text/plain": [
       "[6, 10, 14]"
      ]
     },
     "execution_count": 295,
     "metadata": {},
     "output_type": "execute_result"
    }
   ],
   "source": [
    "#updateCentriod(test1Array,test2Array)\n",
    "test2Array"
   ]
  },
  {
   "cell_type": "code",
   "execution_count": 19,
   "id": "d83e46e7-f344-4cae-8d49-a6c5acc4224f",
   "metadata": {},
   "outputs": [],
   "source": [
    "testarray = [1,2,2,1,3,1,1,3,2]\n",
    "s = list(set(testarray) )\n",
    "index_list = []\n",
    "for a in s:\n",
    "    index_list.append([i for i,x in enumerate(testarray) if x == a ])    \n"
   ]
  },
  {
   "cell_type": "code",
   "execution_count": 20,
   "id": "c2761d7b-4047-48c3-9ff9-60b42389acc5",
   "metadata": {},
   "outputs": [],
   "source": [
    "#index_list[1]\n",
    "#testarray[1:2,8]\n",
    "values_list = []\n",
    "for i in range(len(index_list)):\n",
    "    values_list.append([testarray[x] for x in index_list[i]])\n",
    "\n",
    "\n"
   ]
  },
  {
   "cell_type": "code",
   "execution_count": 21,
   "id": "807d7731-3cff-4f60-a8fe-498271d11fc4",
   "metadata": {},
   "outputs": [
    {
     "ename": "NameError",
     "evalue": "name 'updated_class' is not defined",
     "output_type": "error",
     "traceback": [
      "\u001b[0;31m---------------------------------------------------------------------------\u001b[0m",
      "\u001b[0;31mNameError\u001b[0m                                 Traceback (most recent call last)",
      "Input \u001b[0;32mIn [21]\u001b[0m, in \u001b[0;36m<cell line: 6>\u001b[0;34m()\u001b[0m\n\u001b[1;32m      3\u001b[0m plt\u001b[38;5;241m=\u001b[39mreload(plt)\n\u001b[1;32m      5\u001b[0m plt\u001b[38;5;241m.\u001b[39mfigure(figsize\u001b[38;5;241m=\u001b[39m(\u001b[38;5;241m8\u001b[39m, \u001b[38;5;241m8\u001b[39m), dpi\u001b[38;5;241m=\u001b[39m\u001b[38;5;241m80\u001b[39m)\n\u001b[0;32m----> 6\u001b[0m plt\u001b[38;5;241m.\u001b[39mscatter(caraway,kiwi,c\u001b[38;5;241m=\u001b[39m\u001b[43mupdated_class\u001b[49m)\n\u001b[1;32m      7\u001b[0m plt\u001b[38;5;241m.\u001b[39mtitle(\u001b[38;5;124m'\u001b[39m\u001b[38;5;124mScatter Plot\u001b[39m\u001b[38;5;124m'\u001b[39m)\n\u001b[1;32m      8\u001b[0m plt\u001b[38;5;241m.\u001b[39mxscale(\u001b[38;5;124m'\u001b[39m\u001b[38;5;124mlog\u001b[39m\u001b[38;5;124m'\u001b[39m)\n",
      "\u001b[0;31mNameError\u001b[0m: name 'updated_class' is not defined"
     ]
    },
    {
     "data": {
      "text/plain": [
       "<Figure size 640x640 with 0 Axes>"
      ]
     },
     "metadata": {},
     "output_type": "display_data"
    }
   ],
   "source": [
    "import matplotlib.pyplot as plt\n",
    "from importlib import reload\n",
    "plt=reload(plt)\n",
    "\n",
    "plt.figure(figsize=(8, 8), dpi=80)\n",
    "plt.scatter(caraway,kiwi,c=updated_class)\n",
    "plt.title('Scatter Plot')\n",
    "plt.xscale('log')\n",
    "plt.xlabel('Caraway')\n",
    "plt.yscale('log')\n",
    "plt.ylabel('Kiwi')\n",
    "\n",
    "\n"
   ]
  },
  {
   "cell_type": "code",
   "execution_count": 447,
   "id": "2a670616-e960-4061-ba9b-a519fdd3fc3f",
   "metadata": {},
   "outputs": [
    {
     "data": {
      "text/plain": [
       "([635.84, 710.95, 5397.0, 4401.0, 3788.0],\n",
       " [629.88, 4526.18, 3168.0, 1854.78, 4283.0])"
      ]
     },
     "execution_count": 447,
     "metadata": {},
     "output_type": "execute_result"
    }
   ],
   "source": [
    "#Mpresley run this a few more times\n",
    "# 1. show Cen\n",
    "NewCents\n"
   ]
  },
  {
   "cell_type": "code",
   "execution_count": 444,
   "id": "8d8a59dd-d5f6-4a9e-8be8-4f73d42eec17",
   "metadata": {},
   "outputs": [],
   "source": [
    "#Mpresley 3/14/23 define how many round\n",
    "#depends on fundtions - randomCentriodLinear, Dist,updateCellClass, UpdateAllCells, UpdateAllCentriods\n",
    "#def updateCellClass(cellGene1,cellGene2,Gene1Centriods,Gene2Centriods):\n",
    "def updateRounds(array1,array2,Rounds,Centriods):\n",
    "    for r in range(Rounds):\n",
    "        classes = UpdateAllCells(array1,array2,Centriods[0],Centriods[1])\n",
    "        Centriods = UpdateAllCentriods(array1,array2,classes)\n",
    "    return Centriods,classes\n",
    "\n",
    "        \n",
    "        \n",
    "    "
   ]
  },
  {
   "cell_type": "code",
   "execution_count": 458,
   "id": "6e147752-e0d7-4bf8-beb5-cabd63a3fa4b",
   "metadata": {},
   "outputs": [],
   "source": [
    "results = updateRounds(caraway,kiwi,50,NewCents)"
   ]
  },
  {
   "cell_type": "code",
   "execution_count": 459,
   "id": "601f8643-a449-4e81-a76f-27c1b2a6f98e",
   "metadata": {},
   "outputs": [
    {
     "data": {
      "text/plain": [
       "([232.71, 184.27, 3743.51, 2378.68, 1609.47],\n",
       " [267.11, 2781.55, 2313.04, 229.63, 2130.87])"
      ]
     },
     "execution_count": 459,
     "metadata": {},
     "output_type": "execute_result"
    }
   ],
   "source": [
    "results[0]"
   ]
  },
  {
   "cell_type": "code",
   "execution_count": 461,
   "id": "9a4cbf99-103e-45dc-b529-db89de6cc198",
   "metadata": {},
   "outputs": [
    {
     "data": {
      "text/plain": [
       "Text(0, 0.5, 'Kiwi')"
      ]
     },
     "execution_count": 461,
     "metadata": {},
     "output_type": "execute_result"
    },
    {
     "data": {
      "image/png": "[encoded data removed]",
      "text/plain": [
       "<Figure size 640x640 with 1 Axes>"
      ]
     },
     "metadata": {
      "needs_background": "light"
     },
     "output_type": "display_data"
    }
   ],
   "source": [
    "import matplotlib.pyplot as plt\n",
    "from importlib import reload\n",
    "plt=reload(plt)\n",
    "\n",
    "plt.figure(figsize=(8, 8), dpi=80)\n",
    "plt.scatter(caraway,kiwi,c=results[1])\n",
    "plt.title('Scatter Plot')\n",
    "plt.xscale('log')\n",
    "plt.xlabel('Caraway')\n",
    "plt.yscale('log')\n",
    "plt.ylabel('Kiwi')\n",
    "\n"
   ]
  },
  {
   "cell_type": "code",
   "execution_count": 532,
   "id": "1fa4bb25-357a-471f-abb7-df1bb2bad75f",
   "metadata": {},
   "outputs": [],
   "source": [
    "#Mpresley 3/14/23, score model\n",
    "#Get the distance between two points\n",
    "#def Dist(x1,y1,x2,y2):\n",
    "def DistanceScore(array1,array2,classes,Centriods):\n",
    "    index_lists = []\n",
    "    uniqueValues = list(set(classes))\n",
    "    for u in uniqueValues:\n",
    "        index_lists.append([i for i,x in enumerate(classes) if x == u ])\n",
    "    array1Class_list = []\n",
    "    array2Class_list = []\n",
    "    for i in range(len(index_lists)):\n",
    "        array1Class_list.append([array1[x] for x in index_lists[i]])\n",
    "        array2Class_list.append([array2[x] for x in index_lists[i]])\n",
    "    Dist_pointsbyClass = []\n",
    "    for i,a in enumerate(array1Class_list):\n",
    "        Dist_pointsbyClass.append([Dist_Squared(a[j],array2Class_list[i][j],Centriods[0][0][i],Centriods[0][1][i]) for j in range(len(array1Class_list[i]) )])\n",
    "    return Dist_pointsbyClass"
   ]
  },
  {
   "cell_type": "code",
   "execution_count": 533,
   "id": "e5239ef6-f741-4d68-8f46-3c2f1856da54",
   "metadata": {},
   "outputs": [],
   "source": [
    "dist_matrix = DistanceScore(caraway,kiwi,results[1],results)"
   ]
  },
  {
   "cell_type": "code",
   "execution_count": 534,
   "id": "b1260c2a-19b0-4172-9c83-06e9faae9a48",
   "metadata": {},
   "outputs": [],
   "source": [
    "result = 0\n",
    "for d in dist_matrix:\n",
    "    result += sum(d)\n"
   ]
  },
  {
   "cell_type": "code",
   "execution_count": 538,
   "id": "4f81116f-122d-467c-908d-d290f6bac31c",
   "metadata": {},
   "outputs": [
    {
     "data": {
      "text/plain": [
       "425858159.5995002"
      ]
     },
     "execution_count": 538,
     "metadata": {},
     "output_type": "execute_result"
    }
   ],
   "source": [
    "result"
   ]
  },
  {
   "cell_type": "code",
   "execution_count": 540,
   "id": "857403de-ca79-4068-8989-444c5ad15863",
   "metadata": {},
   "outputs": [
    {
     "data": {
      "text/plain": [
       "232.71"
      ]
     },
     "execution_count": 540,
     "metadata": {},
     "output_type": "execute_result"
    }
   ],
   "source": [
    "results[0][0][0]"
   ]
  },
  {
   "cell_type": "code",
   "execution_count": 23,
   "id": "27c630e9-433e-4db7-bb77-29b90dd29f1e",
   "metadata": {},
   "outputs": [],
   "source": [
    "#Mpresley 3/23/23 Question 2. Mixture binomial fitting\n",
    "#Outline Create Initial function to assign random \n",
    "#1. Assign Data randomly, assing the random means and  Pis (they should sum up to 1)\n",
    "#2. calculate the Centriods, (this is the Maxmize part of the EM function), this will entail working with the columns of data \n",
    "#3. Update all data points, this will entail working the rows of data. This is a 2-steps hierarchy model, which is a fancy of saying you do \n",
    "#.  two calculations per poin\n",
    "#4. See how good your model is by using the Log Likelood hood method (which is a pain for this kind of model), taking a log of an already \n",
    "#complete algo\n",
    "import scipy\n",
    "\n"
   ]
  },
  {
   "cell_type": "code",
   "execution_count": 40,
   "id": "a8ff5652-1cce-4811-9d3e-3fa96894d2a3",
   "metadata": {},
   "outputs": [
    {
     "data": {
      "text/plain": [
       "-1.83258146374831"
      ]
     },
     "execution_count": 40,
     "metadata": {},
     "output_type": "execute_result"
    }
   ],
   "source": [
    "#Mpresley 3/23/23 define function will take input of one centriod and return the value\n",
    "def neg_bin(x,cent,theta):\n",
    "    p = 1/(1+cent*theta)\n",
    "    n = 1/theta\n",
    "    return scipy.stats.nbinom.logpmf(x,n,p)\n",
    "#neg_bin(4.9777,27.63214472,1)\n",
    "#1/(28.63214471)\n",
    "#scipy.stats.nbinom.logpmf(3,1.034,1)\n",
    "scipy.stats.nbinom.logpmf(1,1,.2)\n"
   ]
  },
  {
   "cell_type": "code",
   "execution_count": 77,
   "id": "81d7ef89",
   "metadata": {},
   "outputs": [],
   "source": [
    "#neg_bin(caraway,1843,.3)"
   ]
  },
  {
   "cell_type": "code",
   "execution_count": 78,
   "id": "1a1a35cd",
   "metadata": {},
   "outputs": [
    {
     "data": {
      "text/plain": [
       "-14.462885164610167"
      ]
     },
     "execution_count": 78,
     "metadata": {},
     "output_type": "execute_result"
    }
   ],
   "source": [
    "neg_bin(caraway[0],1843,.3)"
   ]
  },
  {
   "cell_type": "code",
   "execution_count": null,
   "id": "4581ed6c",
   "metadata": {},
   "outputs": [],
   "source": []
  },
  {
   "cell_type": "code",
   "execution_count": null,
   "id": "d95dc5d3",
   "metadata": {},
   "outputs": [],
   "source": []
  },
  {
   "cell_type": "code",
   "execution_count": null,
   "id": "19267fa1",
   "metadata": {},
   "outputs": [],
   "source": []
  },
  {
   "cell_type": "code",
   "execution_count": 34,
   "id": "54ef37fd",
   "metadata": {},
   "outputs": [
    {
     "data": {
      "text/plain": [
       "array([-1.20068898e+01, -2.98139538e+02, -7.21848278e+02, -5.45556529e+00,\n",
       "       -2.18624182e+02, -1.59900482e+02, -2.29501834e+01, -1.99477097e+02,\n",
       "       -1.55633068e+01, -3.31276790e+01, -2.17003232e+01, -2.83712724e+00,\n",
       "       -2.73683460e+01, -9.82948136e+02, -3.71668883e+02, -1.25912563e+02,\n",
       "       -6.99898252e+01, -1.42887888e+02, -2.34240654e+03, -1.55633068e+01,\n",
       "       -1.14270713e+01, -3.03201236e+03, -2.32786898e+03, -1.55633068e+01,\n",
       "       -3.61728580e+00, -2.61091282e+02, -5.95455645e+00, -1.40169113e+02,\n",
       "       -3.82674576e+02, -6.00042439e+01, -2.14519355e+02, -4.79061442e+02,\n",
       "       -1.11634944e+03, -7.51730725e+00, -9.71584848e+00, -1.10336688e+02,\n",
       "       -1.14270713e+01, -1.59979314e+03, -1.23878463e+02, -2.39432731e+03,\n",
       "       -6.98667900e+00, -3.63570331e+01, -4.32915757e+02, -2.31628957e+02,\n",
       "       -5.66893037e+01, -1.12365707e+02, -1.35413644e+02, -3.11185806e+02,\n",
       "       -2.23244775e+01, -1.67729776e+01, -1.98379279e+01, -1.85629799e+00,\n",
       "       -6.46538208e+00, -1.95270601e+03, -2.80004529e+03, -7.51535079e+02,\n",
       "       -1.41992871e+03, -4.04806872e+00, -4.96976115e+02, -2.99185598e+01,\n",
       "       -1.09768433e+03, -2.67334677e+01, -1.06281265e+02, -2.09043961e+03,\n",
       "       -2.19992672e+02, -3.31276790e+01, -1.37081960e+03, -2.17003232e+01,\n",
       "       -9.15623270e+00, -3.05001654e+03, -2.09731646e+02, -2.48359496e+01,\n",
       "       -2.65891007e+02, -8.67375219e+01, -1.79924765e+01, -1.63988215e+02,\n",
       "       -1.92207666e+01, -9.15623270e+00, -2.03991264e+03, -2.23414354e+02,\n",
       "       -7.07351820e+02, -1.25908377e+01, -7.66752465e+01, -1.67313367e+03,\n",
       "       -5.40430588e+01, -7.51730725e+00, -9.14451899e+01, -3.05585972e+01,\n",
       "       -2.74807137e+02, -1.36113655e+03, -1.48328250e+02, -1.40471142e+03,\n",
       "       -1.58595599e+03, -4.28652127e+01, -1.14270713e+01, -2.29501834e+01,\n",
       "       -2.75493115e+02, -4.97005747e+00, -6.98667900e+00, -5.95455645e+00,\n",
       "       -1.10336688e+02, -1.57176282e+02, -1.98379279e+01, -1.14054617e+03,\n",
       "       -1.86055810e+01, -5.41089009e+02, -1.95377232e+02, -3.57096955e+01,\n",
       "       -1.36092805e+02, -5.45556529e+00, -1.95616649e+03, -1.20068898e+01,\n",
       "       -1.89912597e+02, -7.70177953e+02, -8.40506562e+01, -2.11743419e+03,\n",
       "       -1.09077154e+03, -1.98379279e+01, -5.95455645e+00, -2.10777936e+01,\n",
       "       -1.30661387e+02, -1.04584131e+03, -1.86550527e+03, -2.81667683e+02,\n",
       "       -4.35669884e+02, -1.92207666e+01, -1.31786243e+01, -2.50065501e+00,\n",
       "       -1.43722149e+03, -1.57488642e+03, -2.89767690e+03, -6.98667900e+00,\n",
       "       -1.54452875e+02, -8.77923198e+02, -7.51730725e+00, -1.07210759e+03,\n",
       "       -1.74896694e+02, -6.98667900e+00, -1.43646959e+01, -5.66893037e+01,\n",
       "       -8.39239784e+02, -1.91278552e+02, -2.56740626e+03, -1.69441077e+02,\n",
       "       -3.77171430e+02, -2.78923264e+02, -3.50630683e+01, -1.43646959e+01,\n",
       "       -9.02103222e+02, -1.23878463e+02, -1.06281265e+02, -2.36040558e+03,\n",
       "       -1.08517072e+01, -1.97762162e+03, -3.55852544e+02, -7.78464223e+02,\n",
       "       -1.55633068e+01, -1.97208477e+03, -1.11634944e+03, -1.25532479e+03,\n",
       "       -1.63923024e+03, -2.50124022e+02, -1.14270713e+01, -2.72665084e+03,\n",
       "       -3.80610827e+02, -2.36422408e+02, -1.85629799e+00, -5.58325938e+02,\n",
       "       -1.75578832e+02, -3.25611035e+02, -2.16242620e+03, -1.04929730e+03,\n",
       "       -1.90595558e+02, -1.24149465e+03, -2.04569671e+01, -1.39156949e+03,\n",
       "       -2.04945346e+02, -9.71584848e+00, -9.15623270e+00, -1.19862356e+03,\n",
       "       -4.08822183e+02, -1.06956919e+02, -2.54672214e+01, -1.98793706e+02,\n",
       "       -2.83712724e+00, -2.15135112e+03, -2.17003232e+01, -1.84266802e+03,\n",
       "       -8.61343873e+02, -1.09146281e+03, -9.31121994e+02, -5.45556529e+00,\n",
       "       -9.34648270e+01, -1.02811623e+01, -1.17511518e+03, -2.54236151e+02,\n",
       "       -2.76957942e+03, -8.60284746e+00, -8.12993795e+02, -2.42059813e+01,\n",
       "       -1.36772031e+02, -1.85132860e+02, -1.83084943e+02, -6.73216001e+01,\n",
       "       -8.00562524e+02, -2.06996441e+02, -6.43858474e+02, -9.75346442e+02,\n",
       "       -9.86403510e+02, -2.43957224e+02, -2.54178969e+03, -1.01888573e+03,\n",
       "       -1.77692698e+03, -5.12137580e+02, -8.05630375e+00, -1.80354908e+02,\n",
       "       -8.44074885e+02, -2.73683460e+01, -1.73815674e+01, -1.14270713e+01,\n",
       "       -9.38722621e+02, -2.06312713e+02, -8.05630375e+00, -3.16680456e+02,\n",
       "       -2.29574976e+02, -2.50124022e+02, -2.31056251e+03, -1.98982938e+00,\n",
       "       -2.23372383e+03, -2.23372383e+03, -5.95455645e+00, -6.98667900e+00,\n",
       "       -1.49008549e+02, -1.64669666e+02, -2.35773726e+01, -1.13042233e+02,\n",
       "       -8.61343873e+02, -2.09666909e+03, -1.31786243e+01, -3.83030998e+01,\n",
       "       -4.41735718e+01, -1.38810092e+02, -2.74811504e+03, -2.99185598e+01,\n",
       "       -3.04318715e+02, -1.61668418e+01, -1.93401963e+03, -3.50630683e+01,\n",
       "       -3.14619863e+02, -4.35191391e+01, -3.21182069e+00, -9.04866788e+02,\n",
       "       -5.55567842e+02, -1.34055520e+02, -3.11872591e+02, -1.34734549e+02,\n",
       "       -1.43646959e+01, -3.61728580e+00, -3.50630683e+01, -9.39413597e+02,\n",
       "       -8.94503556e+02, -2.66576756e+02, -2.91961551e+02, -1.40169113e+02,\n",
       "       -2.83712724e+00, -2.04569671e+01, -2.03578100e+02, -7.73448632e+01,\n",
       "       -1.49625329e+01, -3.24599150e+03, -1.37699888e+01, -1.95893487e+03,\n",
       "       -1.08517072e+01, -1.15072357e+02, -3.82674576e+02, -2.13681520e+03,\n",
       "       -1.05759179e+03, -1.10336688e+02, -3.34543709e+02, -1.08517072e+01,\n",
       "       -1.14270713e+01, -1.68143674e+03, -4.35191391e+01, -1.54444587e+03,\n",
       "       -3.60665648e+02, -1.98982938e+00, -1.29304220e+02, -2.04569671e+01,\n",
       "       -1.73815674e+01, -1.53091478e+02, -1.92207666e+01, -2.70241729e+03,\n",
       "       -1.42131212e+03, -1.06956919e+02, -2.67334677e+01, -5.93406556e+01,\n",
       "       -2.86413924e+01, -2.51617341e+03, -1.38880280e+03, -1.20068898e+01,\n",
       "       -4.54839046e+01, -3.74186076e+03, -8.05630375e+00, -2.42059813e+01,\n",
       "       -1.05690058e+03, -2.35773726e+01, -2.10777936e+01, -1.99354016e+03,\n",
       "       -1.69441077e+02, -9.88476751e+02, -2.57663473e+02, -1.25908377e+01,\n",
       "       -6.13322804e+01, -6.46538208e+00, -2.19149865e+03, -3.89530748e+01,\n",
       "       -2.19992672e+02, -1.29304220e+02, -2.20880392e+03, -1.94694035e+02,\n",
       "       -1.20068898e+01, -2.80043347e+01, -9.00994379e+01, -2.11099421e+02,\n",
       "       -3.74420081e+02, -1.49688903e+02, -2.67334677e+01, -2.39778874e+03,\n",
       "       -2.52865360e+02, -2.56977970e+02, -4.97005747e+00, -1.08517072e+01,\n",
       "       -1.95377232e+02, -1.62625450e+02, -3.01572270e+02, -1.11081895e+03,\n",
       "       -2.73683460e+01, -2.84412364e+02, -3.36605381e+02, -2.23244775e+01,\n",
       "       -8.21972356e+02, -3.21182069e+00, -1.49625329e+01, -3.46915289e+02,\n",
       "       -4.55640599e+02, -2.18624182e+02, -4.15589325e+01, -2.10415519e+02,\n",
       "       -1.04254924e+02, -1.98110346e+02, -1.59010711e+03, -2.80043347e+01,\n",
       "       -2.19992672e+02, -1.98379279e+01, -4.50005384e+00, -1.12810197e+03,\n",
       "       -6.48688572e+02, -1.14270713e+01, -4.04806872e+00, -4.54839046e+01,\n",
       "       -1.82402378e+02, -1.07279883e+03, -8.41311958e+02, -1.00879831e+02,\n",
       "       -7.60058159e+01, -3.83362510e+02, -2.15887522e+02, -1.11773208e+03,\n",
       "       -9.27914824e+01, -2.54663604e+03, -1.06796016e+03, -7.15635365e+02,\n",
       "       -1.85132860e+02, -1.27269006e+02, -1.29128479e+03, -8.60284746e+00,\n",
       "       -2.48359496e+01, -1.02811623e+01, -1.03579687e+02, -2.00160519e+02,\n",
       "       -6.53228852e+01, -1.51730288e+02, -1.06956919e+02, -1.73815674e+01,\n",
       "       -5.95455645e+00, -1.36772031e+02, -1.44927593e+02, -1.09660538e+02,\n",
       "       -2.94020745e+02, -8.47221419e+01, -2.04569671e+01, -5.95455645e+00,\n",
       "       -3.11995586e+01, -2.04569671e+01, -7.33300139e+01, -1.49625329e+01,\n",
       "       -5.00842663e+01, -1.98379279e+01, -4.28096311e+02, -9.88561203e+01,\n",
       "       -2.65205276e+02, -4.16393446e+02, -1.73815674e+01, -1.85132860e+02,\n",
       "       -3.75107904e+02, -9.71584848e+00, -1.50708857e+03, -1.49008549e+02,\n",
       "       -2.19308414e+02, -2.73683460e+01, -3.68230101e+02, -4.00563727e+02,\n",
       "       -1.00713649e+03, -7.54296877e+02, -2.30944273e+02, -1.08517072e+01,\n",
       "       -2.83726170e+02, -1.61668418e+01, -2.32579219e+03, -2.92794798e+01,\n",
       "       -2.10777936e+01, -7.71558975e+02, -1.09660538e+02, -1.94786137e+03,\n",
       "       -9.56688492e+02, -6.46538208e+00, -1.49625329e+01, -1.02811623e+01,\n",
       "       -1.89912597e+02, -1.48328250e+02, -2.48753476e+02, -8.67375219e+01,\n",
       "       -1.31064882e+03, -7.66752465e+01, -2.02814634e+03, -3.22244620e+03,\n",
       "       -8.77232372e+02, -2.32998398e+02, -2.03714409e+03, -3.37720360e+01,\n",
       "       -1.86498321e+02, -1.51608183e+03, -1.40169113e+02, -4.13640150e+02,\n",
       "       -1.43567731e+02, -2.86413924e+01, -1.86055810e+01, -1.37699888e+01,\n",
       "       -1.49625329e+01, -2.98139538e+02, -2.19703631e+03, -2.63833870e+02,\n",
       "       -7.86846431e+01, -1.30661387e+02, -4.97005747e+00, -1.43646959e+01,\n",
       "       -1.14395559e+02, -1.17103279e+02, -1.53772151e+02, -1.61668418e+01,\n",
       "       -1.25912563e+02, -2.83712724e+00, -9.71584848e+00, -1.43646959e+01,\n",
       "       -7.51730725e+00, -1.22282454e+03, -1.08385886e+03, -2.23244775e+01,\n",
       "       -1.14270713e+01, -8.46837843e+02, -2.35832876e+03, -6.19967174e+01,\n",
       "       -6.05223713e+02, -2.15965742e+03, -7.20467612e+02, -2.83712724e+00,\n",
       "       -1.79768689e+03, -6.47308528e+02, -3.94370668e+02, -2.32313666e+02,\n",
       "       -1.47648006e+02, -6.90095713e+02, -2.27521212e+02, -3.44171740e+01,\n",
       "       -4.22118058e+01, -3.60680675e+03, -3.22862936e+02, -5.08691568e+02,\n",
       "       -1.76943228e+02, -1.43646959e+01, -1.63306810e+02, -1.31786243e+01,\n",
       "       -3.51039951e+02, -1.43646959e+01, -3.59978031e+02, -4.79750397e+02,\n",
       "       -2.08363985e+02, -1.21845059e+02, -1.61668418e+01, -6.32128913e+02,\n",
       "       -1.32697662e+02, -1.37699888e+01, -1.17780426e+02, -1.79076687e+03,\n",
       "       -3.71969777e+03, -7.20467612e+02, -1.92087011e+03, -5.45556529e+00,\n",
       "       -3.50630683e+01, -1.62677623e+03, -1.85629799e+00, -1.60581653e+02,\n",
       "       -5.30748229e+02, -2.63148195e+02, -1.43646959e+01, -1.26590747e+02,\n",
       "       -1.89229672e+02, -3.11995586e+01, -1.43791321e+03, -1.20000644e+03,\n",
       "       -2.99185598e+01, -2.17003232e+01, -1.37220291e+03, -9.64289748e+02,\n",
       "       -4.97005747e+00, -3.44171740e+01, -9.27667227e+02, -1.19812372e+02,\n",
       "       -2.73683460e+01, -2.21297293e+00, -1.66032704e+02, -1.58538285e+02,\n",
       "       -1.02811623e+01, -1.08517072e+01, -1.02811623e+01, -1.51677362e+03,\n",
       "       -1.08517072e+01, -1.14192888e+03, -1.77625486e+02, -1.31340076e+02,\n",
       "       -1.20208077e+03, -2.08363985e+02, -1.38130675e+02, -3.50630683e+01,\n",
       "       -1.14270713e+01, -1.08517072e+01, -1.67729776e+01, -3.24841288e+01,\n",
       "       -4.96287019e+02, -1.98379279e+01, -2.28890364e+02, -7.46702028e+02,\n",
       "       -1.46558258e+03, -2.42059813e+01, -1.46287686e+02, -1.49625329e+01,\n",
       "       -1.90595558e+02, -1.49625329e+01, -1.24080315e+03, -1.67729776e+01,\n",
       "       -5.20619945e+01, -1.67382559e+03, -4.02548454e+01, -7.51730725e+00,\n",
       "       -3.18414125e+01, -9.35958734e+02, -9.61525634e+02, -8.41311958e+02,\n",
       "       -1.02811623e+01, -7.53365742e+01, -2.48359496e+01, -2.04268120e+03,\n",
       "       -1.00205146e+02, -4.04806872e+00, -1.61944138e+02, -3.21182069e+00,\n",
       "       -1.50369311e+02, -2.35773726e+01, -1.02904559e+02, -3.62040913e+02,\n",
       "       -1.84958835e+03, -3.79242044e+03, -4.97005747e+00, -6.53228852e+01,\n",
       "       -8.06956380e+01, -5.03867371e+02, -9.41383014e+01, -2.87843577e+02,\n",
       "       -1.02856186e+03, -4.97005747e+00, -4.97005747e+00, -3.74420081e+02,\n",
       "       -2.59994667e+03, -1.20068898e+01, -2.21849495e+03, -9.39413597e+02,\n",
       "       -4.06757460e+02, -1.04930266e+02, -3.61303992e+03, -1.99976921e+03,\n",
       "       -8.60284746e+00, -1.02811623e+01, -2.35763648e+03, -2.25467670e+02,\n",
       "       -4.97005747e+00, -9.62216660e+02, -3.21488962e+02, -2.73683460e+01,\n",
       "       -1.70804729e+02, -1.31786243e+01, -1.22522782e+02, -9.21182695e+01,\n",
       "       -1.95377232e+02, -2.01527459e+02, -1.20068898e+01, -1.37451321e+02,\n",
       "       -2.17003232e+01, -3.88866307e+02, -8.60284746e+00, -1.43168776e+03,\n",
       "       -1.20068898e+01, -1.58180488e+03, -9.34648270e+01, -2.17003232e+01,\n",
       "       -2.80981553e+02, -1.00229868e+03, -2.46012633e+02, -2.32313666e+02,\n",
       "       -2.81667683e+02, -9.34648270e+01, -1.29612573e+03, -8.60284746e+00,\n",
       "       -2.21361267e+02, -7.22538614e+02, -1.67729776e+01, -6.56279047e+02,\n",
       "       -6.74221681e+02, -4.45998855e+02, -2.00843973e+02, -9.71584848e+00,\n",
       "       -2.52865360e+02, -4.96287019e+02, -1.38130675e+02, -2.52932767e+03,\n",
       "       -3.04318715e+02, -1.61262872e+02, -8.33793281e+01, -4.50005384e+00,\n",
       "       -3.06378697e+02, -6.97688183e+02, -1.79924765e+01, -3.53789940e+02,\n",
       "       -2.76179111e+02, -3.89530748e+01, -7.93548008e+01, -1.73815674e+01,\n",
       "       -1.40471142e+03, -2.80043347e+01, -2.10912811e+03, -8.60284746e+00,\n",
       "       -2.01707227e+03, -1.92207666e+01, -1.36182820e+03, -1.85629799e+00,\n",
       "       -1.97208477e+03, -2.06996441e+02, -3.76537553e+01, -4.28652127e+01,\n",
       "       -1.76723916e+03, -3.00431384e+03, -1.54452875e+02, -2.10777936e+01,\n",
       "       -2.42059813e+01, -1.99477097e+02, -3.05585972e+01, -1.06281265e+02,\n",
       "       -1.08938899e+03, -8.87542413e+01, -1.67729776e+01, -1.88546781e+02,\n",
       "       -1.55633068e+01, -1.79924765e+01, -9.71584848e+00, -1.35413644e+02,\n",
       "       -8.60284746e+00, -6.99758917e+02, -1.66714291e+02, -1.02904559e+02,\n",
       "       -1.39489572e+02, -2.34656015e+03, -1.01554629e+02, -6.86552588e+01,\n",
       "       -1.45313123e+03, -1.98379279e+01, -1.27947338e+02, -9.71584848e+00,\n",
       "       -1.74214597e+02, -1.67729776e+01, -1.35413644e+02, -1.43646959e+01,\n",
       "       -1.12365707e+02, -1.02811623e+01, -2.29501834e+01, -4.67961136e+01,\n",
       "       -2.48753476e+02, -9.70509092e+02, -7.51730725e+00, -2.16381059e+03,\n",
       "       -3.46227883e+02, -6.98378425e+02, -1.56495355e+02, -1.79924765e+01,\n",
       "       -1.12948464e+03, -3.02258860e+02, -2.80043347e+01, -1.74214597e+02,\n",
       "       -1.20068898e+01, -1.37699888e+01, -1.86055810e+01, -1.66967408e+03,\n",
       "       -2.26764319e+03, -2.92121978e+03, -2.48753476e+02, -1.63369511e+03,\n",
       "       -2.04569671e+01, -1.20068898e+01, -6.00042439e+01, -4.30850237e+02,\n",
       "       -4.50005384e+00, -1.25912563e+02, -2.50065501e+00, -1.88626679e+03,\n",
       "       -1.31410674e+03, -1.03579687e+02, -1.77415902e+03, -6.86552588e+01,\n",
       "       -3.53102427e+02, -3.57096955e+01, -9.71584848e+00, -1.36092805e+02,\n",
       "       -5.71427834e+02, -1.86055810e+01, -2.98139538e+02, -1.02811623e+01,\n",
       "       -1.86055810e+01, -7.51730725e+00, -1.78307783e+02, -4.76994615e+02,\n",
       "       -1.01197436e+03, -1.87863925e+02, -1.06243033e+03, -2.80043347e+01,\n",
       "       -1.60186874e+03, -2.13058556e+03, -3.05585972e+01, -1.89229672e+02,\n",
       "       -1.72918074e+03, -1.36092805e+02, -1.05620937e+03, -2.72063394e+02,\n",
       "       -3.57096955e+01, -1.77208306e+03, -1.21845059e+02, -4.04806872e+00,\n",
       "       -3.22175943e+02, -8.55817668e+02, -2.54921576e+02, -2.81667683e+02,\n",
       "       -3.61728580e+00, -3.24841288e+01, -1.49625329e+01, -7.34274740e+02,\n",
       "       -1.02229539e+02, -1.08517072e+01, -1.37699888e+01, -1.92207666e+01,\n",
       "       -7.51730725e+00, -4.28652127e+01, -3.20115039e+02, -2.21297293e+00,\n",
       "       -2.66576756e+02, -2.47383012e+02, -2.31886959e+03, -1.25908377e+01,\n",
       "       -1.31340076e+02, -1.92207666e+01, -7.93548008e+01, -2.21297293e+00,\n",
       "       -8.55817668e+02, -4.92841622e+02, -1.36772031e+02, -1.25908377e+01,\n",
       "       -3.24236960e+02, -6.98667900e+00, -9.76728555e+02, -4.97005747e+00,\n",
       "       -1.02811623e+01, -9.71584848e+00, -2.09597692e+03, -5.73516792e+01,\n",
       "       -1.81719850e+02, -3.16680456e+02, -1.83767545e+02, -5.45556529e+00,\n",
       "       -2.09736125e+03, -1.31340076e+02, -1.92207666e+01, -1.80322293e+03,\n",
       "       -1.84405208e+03, -3.05005361e+02, -9.71584848e+00, -2.67334677e+01,\n",
       "       -5.70048615e+02, -4.22118058e+01, -3.24841288e+01, -1.51954080e+03,\n",
       "       -6.86552588e+01, -1.08517072e+01, -9.52542430e+02, -1.03579687e+02,\n",
       "       -3.61728580e+00, -1.05828301e+03, -5.93497548e+02, -2.54672214e+01,\n",
       "       -1.03201769e+03, -8.24044381e+02, -5.23165676e+02, -1.13155866e+03,\n",
       "       -2.46078792e+03, -1.02904559e+02, -2.07944154e+00, -1.90595558e+02,\n",
       "       -1.75578832e+02, -1.11911471e+03, -9.09703094e+02, -7.52225525e+02,\n",
       "       -1.90910487e+03, -1.52161620e+03, -1.98379279e+01, -7.56368250e+02,\n",
       "       -1.61262872e+02, -2.54236151e+02, -1.49688903e+02, -8.92430956e+02,\n",
       "       -9.71584848e+00, -1.73532540e+02, -3.93682592e+02, -1.01612117e+03,\n",
       "       -2.46701871e+03, -7.81226386e+02, -4.08822183e+02, -1.41093663e+03,\n",
       "       -5.47041176e+01, -2.10777936e+01, -1.98793706e+02, -4.19146865e+02,\n",
       "       -4.30704892e+03, -1.22282454e+03, -1.34730388e+03, -3.50352480e+02,\n",
       "       -9.15623270e+00, -5.84531233e+02, -8.88976657e+02, -1.61668418e+01,\n",
       "       -7.05971267e+02, -3.05070901e+03, -8.74096157e+01, -1.02904559e+02,\n",
       "       -2.87843577e+02, -9.88561203e+01, -2.21361267e+02, -1.43237947e+03,\n",
       "       -1.36321148e+03, -3.19428096e+02, -2.13196992e+03, -2.46012633e+02,\n",
       "       -7.46675246e+01, -1.24556420e+02, -2.33683153e+02, -1.08517072e+01,\n",
       "       -2.06344553e+03, -8.66179400e+02, -2.46012633e+02, -1.20208077e+03,\n",
       "       -1.19862356e+03, -7.20467612e+02, -5.00842663e+01, -6.46538208e+00,\n",
       "       -5.45556529e+00, -2.60548550e+03, -1.43646959e+01, -1.95755068e+03,\n",
       "       -3.02945464e+02, -1.14192888e+03, -6.36268647e+02, -2.35773726e+01,\n",
       "       -3.11995586e+01, -9.71584848e+00, -4.57706854e+02, -1.70357859e+03,\n",
       "       -7.90894239e+02, -9.93314363e+02, -1.15072357e+02, -1.86055810e+01,\n",
       "       -1.63306810e+02, -5.95455645e+00, -1.29304220e+02, -6.40408503e+02,\n",
       "       -2.65533564e+03, -9.54856331e+01, -1.73540838e+03, -2.98139538e+02,\n",
       "       -6.72151271e+02, -1.92207666e+01, -2.20676956e+02, -1.87863925e+02,\n",
       "       -1.08517072e+01, -5.86773613e+01, -1.49625329e+01, -4.83195256e+02,\n",
       "       -1.40169113e+02, -1.29304220e+02, -2.49438738e+02, -1.35283692e+03,\n",
       "       -1.24556420e+02, -1.57281089e+03, -8.93121821e+02, -5.40399591e+02,\n",
       "       -1.86055810e+01, -1.72168551e+02, -3.24923991e+02, -8.80818562e+01,\n",
       "       -2.50065501e+00, -9.15623270e+00, -3.46227883e+02, -2.09047801e+02,\n",
       "       -3.79922929e+02, -1.73815674e+01, -4.40489878e+02, -3.61728580e+00,\n",
       "       -2.60997439e+01, -2.10777936e+01, -1.25908377e+01, -1.18133787e+03,\n",
       "       -1.28625743e+02, -2.67334677e+01, -2.30944273e+02, -4.97005747e+00,\n",
       "       -1.06956919e+02, -1.25908377e+01, -2.54236151e+02, -6.98667900e+00,\n",
       "       -2.17939977e+02, -2.27521212e+02, -1.25908377e+01, -1.43646959e+01,\n",
       "       -3.10499035e+02, -4.22118058e+01, -5.45556529e+00, -4.88707329e+02,\n",
       "       -1.15749244e+02, -1.55133651e+02, -1.07487256e+03, -5.25922900e+02,\n",
       "       -1.42887888e+02, -1.14270713e+01, -7.66034943e+02, -1.50369311e+02,\n",
       "       -2.99512587e+02, -1.18457658e+02, -3.61728580e+00, -9.71584848e+00,\n",
       "       -4.50005384e+00, -7.59820587e+02, -7.51730725e+00, -1.63988215e+02,\n",
       "       -1.17103279e+02, -1.32102266e+03, -6.46538208e+00, -5.06624024e+02,\n",
       "       -1.57176282e+02, -1.37451321e+02, -1.86481322e+03, -7.51730725e+00,\n",
       "       -1.21176109e+03, -6.65250103e+02, -9.30431037e+02, -3.00199134e+02,\n",
       "       -1.96743724e+02, -5.33823469e+01, -2.92794798e+01, -4.16393446e+02,\n",
       "       -1.02904559e+02, -2.26152159e+02, -2.96080074e+02, -3.29733554e+02,\n",
       "       -1.61262872e+02, -9.15623270e+00, -4.97005747e+00, -1.02811623e+01])"
      ]
     },
     "execution_count": 34,
     "metadata": {},
     "output_type": "execute_result"
    }
   ],
   "source": [
    "scipy.stats.nbinom.logpmf(caraway,4,.5)"
   ]
  },
  {
   "cell_type": "code",
   "execution_count": 863,
   "id": "59874b24-afd0-4e40-9cfc-733a72f73755",
   "metadata": {},
   "outputs": [
    {
     "data": {
      "text/plain": [
       "-1.9898293829901479"
      ]
     },
     "execution_count": 863,
     "metadata": {},
     "output_type": "execute_result"
    }
   ],
   "source": [
    "stats.nbinom.logpmf(3,5,.5)"
   ]
  },
  {
   "cell_type": "code",
   "execution_count": 869,
   "id": "285cb45d-9be1-43af-a54c-7206be41af96",
   "metadata": {},
   "outputs": [
    {
     "data": {
      "text/plain": [
       "1.0"
      ]
     },
     "execution_count": 869,
     "metadata": {},
     "output_type": "execute_result"
    }
   ],
   "source": [
    "test2_array = np.random.dirichlet(np.ones(5),size=1)\n"
   ]
  },
  {
   "cell_type": "code",
   "execution_count": 862,
   "id": "035f9744-159d-4ef0-8438-13e3f1b0caa5",
   "metadata": {},
   "outputs": [
    {
     "name": "stdout",
     "output_type": "stream",
     "text": [
      "test_array [0. 0.]\n",
      "t_sum 0.0\n"
     ]
    },
    {
     "name": "stderr",
     "output_type": "stream",
     "text": [
      "/var/folders/g9/c7tzqpyd7nv9t932ynn7cw8r0000gn/T/ipykernel_57837/870048430.py:8: RuntimeWarning: invalid value encountered in double_scalars\n",
      "  test_array[i] = test_array[i]/t_sum\n"
     ]
    },
    {
     "data": {
      "text/plain": [
       "array([nan, nan])"
      ]
     },
     "execution_count": 862,
     "metadata": {},
     "output_type": "execute_result"
    }
   ],
   "source": [
    "#kiwi\n",
    "aarray = np.array(30,30)\n",
    "test_array = np.random.random() * aarray\n",
    "print(\"test_array\",test_array)\n",
    "t_sum = np.sum(test_array)\n",
    "print(\"t_sum\",t_sum)\n",
    "for i in range(len(test_array)):\n",
    "    test_array[i] = test_array[i]/t_sum\n",
    "test_array"
   ]
  },
  {
   "cell_type": "code",
   "execution_count": 262,
   "id": "52aa578c-809f-46d4-9318-049a2127e60e",
   "metadata": {},
   "outputs": [],
   "source": [
    "#Mpresley 3/28/23 create function that generates random data for Centriods and Pis\n",
    "\n",
    "def randomCentriodMixture(array1,array2, CentriodCount):\n",
    "    ar1_range = max(array1) - min(array1)\n",
    "    ar2_range = max(array2) - min(array2)\n",
    "    #prepare array to hold centriods\n",
    "    array1_centriod = []\n",
    "    array2_centriod = []\n",
    "    for c in range(CentriodCount):\n",
    "        array1_centriod.append(int(ar1_range * np.random.random()))\n",
    "        array2_centriod.append(int(ar2_range * np.random.random()))\n",
    "    #initialize Pis arrays\n",
    "    Pis1 = np.random.dirichlet(np.ones(CentriodCount),size=1)\n",
    "    Pis2 = np.random.dirichlet(np.ones(CentriodCount),size=1)\n",
    "    \n",
    "    return array1_centriod, array2_centriod, Pis1[0]\n",
    "#    return array1_centriod, array2_centriod, Pis1[0], Pis2[0]\n",
    "    "
   ]
  },
  {
   "cell_type": "code",
   "execution_count": 287,
   "id": "4d034f8b-29ef-4d5c-ba06-3891863a9074",
   "metadata": {},
   "outputs": [],
   "source": [
    "array1,array2,PIs1 = randomCentriodMixture(caraway,kiwi,5)"
   ]
  },
  {
   "cell_type": "code",
   "execution_count": 292,
   "id": "6be5040b",
   "metadata": {},
   "outputs": [
    {
     "data": {
      "text/plain": [
       "[25.0,\n",
       " 450.0,\n",
       " 1065.0,\n",
       " 13.0,\n",
       " 334.0,\n",
       " 248.0,\n",
       " 43.0,\n",
       " 306.0,\n",
       " 31.0,\n",
       " 59.0,\n",
       " 41.0,\n",
       " 7.0,\n",
       " 50.0,\n",
       " 1443.0,\n",
       " 557.0,\n",
       " 198.0,\n",
       " 115.0,\n",
       " 223.0,\n",
       " 3408.0,\n",
       " 31.0,\n",
       " 24.0,\n",
       " 4404.0,\n",
       " 3387.0,\n",
       " 31.0,\n",
       " 9.0,\n",
       " 396.0,\n",
       " 14.0,\n",
       " 219.0,\n",
       " 573.0,\n",
       " 100.0,\n",
       " 328.0,\n",
       " 713.0,\n",
       " 1636.0,\n",
       " 17.0,\n",
       " 21.0,\n",
       " 175.0,\n",
       " 24.0,\n",
       " 2335.0,\n",
       " 195.0,\n",
       " 3483.0,\n",
       " 16.0,\n",
       " 64.0,\n",
       " 646.0,\n",
       " 353.0,\n",
       " 95.0,\n",
       " 178.0,\n",
       " 212.0,\n",
       " 469.0,\n",
       " 42.0,\n",
       " 33.0,\n",
       " 38.0,\n",
       " 2.0,\n",
       " 15.0,\n",
       " 2845.0,\n",
       " 4069.0,\n",
       " 1108.0,\n",
       " 2075.0,\n",
       " 10.0,\n",
       " 739.0,\n",
       " 54.0,\n",
       " 1609.0,\n",
       " 49.0,\n",
       " 169.0,\n",
       " 3044.0,\n",
       " 336.0,\n",
       " 59.0,\n",
       " 2004.0,\n",
       " 41.0,\n",
       " 20.0,\n",
       " 4430.0,\n",
       " 321.0,\n",
       " 46.0,\n",
       " 403.0,\n",
       " 140.0,\n",
       " 35.0,\n",
       " 254.0,\n",
       " 37.0,\n",
       " 20.0,\n",
       " 2971.0,\n",
       " 341.0,\n",
       " 1044.0,\n",
       " 26.0,\n",
       " 125.0,\n",
       " 2441.0,\n",
       " 91.0,\n",
       " 17.0,\n",
       " 147.0,\n",
       " 55.0,\n",
       " 416.0,\n",
       " 1990.0,\n",
       " 231.0,\n",
       " 2053.0,\n",
       " 2315.0,\n",
       " 74.0,\n",
       " 24.0,\n",
       " 43.0,\n",
       " 417.0,\n",
       " 12.0,\n",
       " 16.0,\n",
       " 14.0,\n",
       " 175.0,\n",
       " 244.0,\n",
       " 38.0,\n",
       " 1671.0,\n",
       " 36.0,\n",
       " 803.0,\n",
       " 300.0,\n",
       " 63.0,\n",
       " 213.0,\n",
       " 13.0,\n",
       " 2850.0,\n",
       " 25.0,\n",
       " 292.0,\n",
       " 1135.0,\n",
       " 136.0,\n",
       " 3083.0,\n",
       " 1599.0,\n",
       " 38.0,\n",
       " 14.0,\n",
       " 40.0,\n",
       " 205.0,\n",
       " 1534.0,\n",
       " 2719.0,\n",
       " 426.0,\n",
       " 650.0,\n",
       " 37.0,\n",
       " 27.0,\n",
       " 6.0,\n",
       " 2100.0,\n",
       " 2299.0,\n",
       " 4210.0,\n",
       " 16.0,\n",
       " 240.0,\n",
       " 1291.0,\n",
       " 17.0,\n",
       " 1572.0,\n",
       " 270.0,\n",
       " 16.0,\n",
       " 29.0,\n",
       " 95.0,\n",
       " 1235.0,\n",
       " 294.0,\n",
       " 3733.0,\n",
       " 262.0,\n",
       " 565.0,\n",
       " 422.0,\n",
       " 62.0,\n",
       " 29.0,\n",
       " 1326.0,\n",
       " 195.0,\n",
       " 169.0,\n",
       " 3434.0,\n",
       " 23.0,\n",
       " 2881.0,\n",
       " 534.0,\n",
       " 1147.0,\n",
       " 31.0,\n",
       " 2873.0,\n",
       " 1636.0,\n",
       " 1837.0,\n",
       " 2392.0,\n",
       " 380.0,\n",
       " 24.0,\n",
       " 3963.0,\n",
       " 570.0,\n",
       " 360.0,\n",
       " 2.0,\n",
       " 828.0,\n",
       " 271.0,\n",
       " 490.0,\n",
       " 3148.0,\n",
       " 1539.0,\n",
       " 293.0,\n",
       " 1817.0,\n",
       " 39.0,\n",
       " 2034.0,\n",
       " 314.0,\n",
       " 21.0,\n",
       " 20.0,\n",
       " 1755.0,\n",
       " 611.0,\n",
       " 170.0,\n",
       " 47.0,\n",
       " 305.0,\n",
       " 7.0,\n",
       " 3132.0,\n",
       " 41.0,\n",
       " 2686.0,\n",
       " 1267.0,\n",
       " 1600.0,\n",
       " 1368.0,\n",
       " 13.0,\n",
       " 150.0,\n",
       " 22.0,\n",
       " 1721.0,\n",
       " 386.0,\n",
       " 4025.0,\n",
       " 19.0,\n",
       " 1197.0,\n",
       " 45.0,\n",
       " 214.0,\n",
       " 285.0,\n",
       " 282.0,\n",
       " 111.0,\n",
       " 1179.0,\n",
       " 317.0,\n",
       " 952.0,\n",
       " 1432.0,\n",
       " 1448.0,\n",
       " 371.0,\n",
       " 3696.0,\n",
       " 1495.0,\n",
       " 2591.0,\n",
       " 761.0,\n",
       " 18.0,\n",
       " 278.0,\n",
       " 1242.0,\n",
       " 50.0,\n",
       " 34.0,\n",
       " 24.0,\n",
       " 1379.0,\n",
       " 316.0,\n",
       " 18.0,\n",
       " 477.0,\n",
       " 350.0,\n",
       " 380.0,\n",
       " 3362.0,\n",
       " 4.0,\n",
       " 3251.0,\n",
       " 3251.0,\n",
       " 14.0,\n",
       " 16.0,\n",
       " 232.0,\n",
       " 255.0,\n",
       " 44.0,\n",
       " 179.0,\n",
       " 1267.0,\n",
       " 3053.0,\n",
       " 27.0,\n",
       " 67.0,\n",
       " 76.0,\n",
       " 217.0,\n",
       " 3994.0,\n",
       " 54.0,\n",
       " 459.0,\n",
       " 32.0,\n",
       " 2818.0,\n",
       " 62.0,\n",
       " 474.0,\n",
       " 75.0,\n",
       " 8.0,\n",
       " 1330.0,\n",
       " 824.0,\n",
       " 210.0,\n",
       " 470.0,\n",
       " 211.0,\n",
       " 29.0,\n",
       " 9.0,\n",
       " 62.0,\n",
       " 1380.0,\n",
       " 1315.0,\n",
       " 404.0,\n",
       " 441.0,\n",
       " 219.0,\n",
       " 7.0,\n",
       " 39.0,\n",
       " 312.0,\n",
       " 126.0,\n",
       " 30.0,\n",
       " 4713.0,\n",
       " 28.0,\n",
       " 2854.0,\n",
       " 23.0,\n",
       " 182.0,\n",
       " 573.0,\n",
       " 3111.0,\n",
       " 1551.0,\n",
       " 175.0,\n",
       " 503.0,\n",
       " 23.0,\n",
       " 24.0,\n",
       " 2453.0,\n",
       " 75.0,\n",
       " 2255.0,\n",
       " 541.0,\n",
       " 4.0,\n",
       " 203.0,\n",
       " 39.0,\n",
       " 34.0,\n",
       " 238.0,\n",
       " 37.0,\n",
       " 3928.0,\n",
       " 2077.0,\n",
       " 170.0,\n",
       " 49.0,\n",
       " 99.0,\n",
       " 52.0,\n",
       " 3659.0,\n",
       " 2030.0,\n",
       " 25.0,\n",
       " 78.0,\n",
       " 5429.0,\n",
       " 18.0,\n",
       " 45.0,\n",
       " 1550.0,\n",
       " 44.0,\n",
       " 40.0,\n",
       " 2904.0,\n",
       " 262.0,\n",
       " 1451.0,\n",
       " 391.0,\n",
       " 26.0,\n",
       " 102.0,\n",
       " 15.0,\n",
       " 3190.0,\n",
       " 68.0,\n",
       " 336.0,\n",
       " 203.0,\n",
       " 3215.0,\n",
       " 299.0,\n",
       " 25.0,\n",
       " 51.0,\n",
       " 145.0,\n",
       " 323.0,\n",
       " 561.0,\n",
       " 233.0,\n",
       " 49.0,\n",
       " 3488.0,\n",
       " 384.0,\n",
       " 390.0,\n",
       " 12.0,\n",
       " 23.0,\n",
       " 300.0,\n",
       " 252.0,\n",
       " 455.0,\n",
       " 1628.0,\n",
       " 50.0,\n",
       " 430.0,\n",
       " 506.0,\n",
       " 42.0,\n",
       " 1210.0,\n",
       " 8.0,\n",
       " 30.0,\n",
       " 521.0,\n",
       " 679.0,\n",
       " 334.0,\n",
       " 72.0,\n",
       " 322.0,\n",
       " 166.0,\n",
       " 304.0,\n",
       " 2321.0,\n",
       " 51.0,\n",
       " 336.0,\n",
       " 38.0,\n",
       " 11.0,\n",
       " 1653.0,\n",
       " 959.0,\n",
       " 24.0,\n",
       " 10.0,\n",
       " 78.0,\n",
       " 281.0,\n",
       " 1573.0,\n",
       " 1238.0,\n",
       " 161.0,\n",
       " 124.0,\n",
       " 574.0,\n",
       " 330.0,\n",
       " 1638.0,\n",
       " 149.0,\n",
       " 3703.0,\n",
       " 1566.0,\n",
       " 1056.0,\n",
       " 285.0,\n",
       " 200.0,\n",
       " 1889.0,\n",
       " 19.0,\n",
       " 46.0,\n",
       " 22.0,\n",
       " 165.0,\n",
       " 307.0,\n",
       " 108.0,\n",
       " 236.0,\n",
       " 170.0,\n",
       " 34.0,\n",
       " 14.0,\n",
       " 214.0,\n",
       " 226.0,\n",
       " 174.0,\n",
       " 444.0,\n",
       " 137.0,\n",
       " 39.0,\n",
       " 14.0,\n",
       " 56.0,\n",
       " 39.0,\n",
       " 120.0,\n",
       " 30.0,\n",
       " 85.0,\n",
       " 38.0,\n",
       " 639.0,\n",
       " 158.0,\n",
       " 402.0,\n",
       " 622.0,\n",
       " 34.0,\n",
       " 285.0,\n",
       " 562.0,\n",
       " 21.0,\n",
       " 2201.0,\n",
       " 232.0,\n",
       " 335.0,\n",
       " 50.0,\n",
       " 552.0,\n",
       " 599.0,\n",
       " 1478.0,\n",
       " 1112.0,\n",
       " 352.0,\n",
       " 23.0,\n",
       " 429.0,\n",
       " 32.0,\n",
       " 3384.0,\n",
       " 53.0,\n",
       " 40.0,\n",
       " 1137.0,\n",
       " 174.0,\n",
       " 2838.0,\n",
       " 1405.0,\n",
       " 15.0,\n",
       " 30.0,\n",
       " 22.0,\n",
       " 292.0,\n",
       " 231.0,\n",
       " 378.0,\n",
       " 140.0,\n",
       " 1917.0,\n",
       " 125.0,\n",
       " 2954.0,\n",
       " 4679.0,\n",
       " 1290.0,\n",
       " 355.0,\n",
       " 2967.0,\n",
       " 60.0,\n",
       " 287.0,\n",
       " 2214.0,\n",
       " 219.0,\n",
       " 618.0,\n",
       " 224.0,\n",
       " 52.0,\n",
       " 36.0,\n",
       " 28.0,\n",
       " 30.0,\n",
       " 450.0,\n",
       " 3198.0,\n",
       " 400.0,\n",
       " 128.0,\n",
       " 205.0,\n",
       " 12.0,\n",
       " 29.0,\n",
       " 181.0,\n",
       " 185.0,\n",
       " 239.0,\n",
       " 32.0,\n",
       " 198.0,\n",
       " 7.0,\n",
       " 21.0,\n",
       " 29.0,\n",
       " 17.0,\n",
       " 1790.0,\n",
       " 1589.0,\n",
       " 42.0,\n",
       " 24.0,\n",
       " 1246.0,\n",
       " 3431.0,\n",
       " 103.0,\n",
       " 896.0,\n",
       " 3144.0,\n",
       " 1063.0,\n",
       " 7.0,\n",
       " 2621.0,\n",
       " 957.0,\n",
       " 590.0,\n",
       " 354.0,\n",
       " 230.0,\n",
       " 1019.0,\n",
       " 347.0,\n",
       " 61.0,\n",
       " 73.0,\n",
       " 5234.0,\n",
       " 486.0,\n",
       " 756.0,\n",
       " 273.0,\n",
       " 29.0,\n",
       " 253.0,\n",
       " 27.0,\n",
       " 527.0,\n",
       " 29.0,\n",
       " 540.0,\n",
       " 714.0,\n",
       " 319.0,\n",
       " 192.0,\n",
       " 32.0,\n",
       " 935.0,\n",
       " 208.0,\n",
       " 28.0,\n",
       " 186.0,\n",
       " 2611.0,\n",
       " 5397.0,\n",
       " 1063.0,\n",
       " 2799.0,\n",
       " 13.0,\n",
       " 62.0,\n",
       " 2374.0,\n",
       " 3.0,\n",
       " 249.0,\n",
       " 788.0,\n",
       " 399.0,\n",
       " 29.0,\n",
       " 199.0,\n",
       " 291.0,\n",
       " 56.0,\n",
       " 2101.0,\n",
       " 1757.0,\n",
       " 54.0,\n",
       " 41.0,\n",
       " 2006.0,\n",
       " 1416.0,\n",
       " 12.0,\n",
       " 61.0,\n",
       " 1363.0,\n",
       " 189.0,\n",
       " 50.0,\n",
       " 5.0,\n",
       " 257.0,\n",
       " 246.0,\n",
       " 22.0,\n",
       " 23.0,\n",
       " 22.0,\n",
       " 2215.0,\n",
       " 23.0,\n",
       " 1673.0,\n",
       " 274.0,\n",
       " 206.0,\n",
       " 1760.0,\n",
       " 319.0,\n",
       " 216.0,\n",
       " 62.0,\n",
       " 24.0,\n",
       " 23.0,\n",
       " 33.0,\n",
       " 58.0,\n",
       " 738.0,\n",
       " 38.0,\n",
       " 349.0,\n",
       " 1101.0,\n",
       " 2141.0,\n",
       " 45.0,\n",
       " 228.0,\n",
       " 30.0,\n",
       " 293.0,\n",
       " 30.0,\n",
       " 1816.0,\n",
       " 33.0,\n",
       " 88.0,\n",
       " 2442.0,\n",
       " 70.0,\n",
       " 17.0,\n",
       " 57.0,\n",
       " 1375.0,\n",
       " 1412.0,\n",
       " 1238.0,\n",
       " 22.0,\n",
       " 123.0,\n",
       " 46.0,\n",
       " 2975.0,\n",
       " 160.0,\n",
       " 10.0,\n",
       " 251.0,\n",
       " 8.0,\n",
       " 234.0,\n",
       " 44.0,\n",
       " 164.0,\n",
       " 543.0,\n",
       " 2696.0,\n",
       " 5502.0,\n",
       " 12.0,\n",
       " 108.0,\n",
       " 131.0,\n",
       " 749.0,\n",
       " 151.0,\n",
       " 435.0,\n",
       " 1509.0,\n",
       " 12.0,\n",
       " 12.0,\n",
       " 561.0,\n",
       " 3780.0,\n",
       " 25.0,\n",
       " 3229.0,\n",
       " 1380.0,\n",
       " 608.0,\n",
       " 167.0,\n",
       " 5243.0,\n",
       " 2913.0,\n",
       " 19.0,\n",
       " 22.0,\n",
       " 3430.0,\n",
       " 344.0,\n",
       " 12.0,\n",
       " 1413.0,\n",
       " 484.0,\n",
       " 50.0,\n",
       " 264.0,\n",
       " 27.0,\n",
       " 193.0,\n",
       " 148.0,\n",
       " 300.0,\n",
       " 309.0,\n",
       " 25.0,\n",
       " 215.0,\n",
       " 41.0,\n",
       " 582.0,\n",
       " 19.0,\n",
       " 2092.0,\n",
       " 25.0,\n",
       " 2309.0,\n",
       " 150.0,\n",
       " 41.0,\n",
       " 425.0,\n",
       " 1471.0,\n",
       " 374.0,\n",
       " 354.0,\n",
       " 426.0,\n",
       " 150.0,\n",
       " 1896.0,\n",
       " 19.0,\n",
       " 338.0,\n",
       " 1066.0,\n",
       " 33.0,\n",
       " 970.0,\n",
       " 996.0,\n",
       " 665.0,\n",
       " 308.0,\n",
       " 21.0,\n",
       " 384.0,\n",
       " 738.0,\n",
       " 216.0,\n",
       " 3678.0,\n",
       " 459.0,\n",
       " 250.0,\n",
       " 135.0,\n",
       " 11.0,\n",
       " 462.0,\n",
       " 1030.0,\n",
       " 35.0,\n",
       " 531.0,\n",
       " 418.0,\n",
       " 68.0,\n",
       " 129.0,\n",
       " 34.0,\n",
       " 2053.0,\n",
       " 51.0,\n",
       " 3071.0,\n",
       " 19.0,\n",
       " 2938.0,\n",
       " 37.0,\n",
       " 1991.0,\n",
       " 3.0,\n",
       " 2873.0,\n",
       " 317.0,\n",
       " 66.0,\n",
       " 74.0,\n",
       " 2577.0,\n",
       " 4364.0,\n",
       " 240.0,\n",
       " 40.0,\n",
       " 45.0,\n",
       " 306.0,\n",
       " 55.0,\n",
       " 169.0,\n",
       " 1597.0,\n",
       " 143.0,\n",
       " 33.0,\n",
       " 290.0,\n",
       " 31.0,\n",
       " 35.0,\n",
       " 21.0,\n",
       " 212.0,\n",
       " 19.0,\n",
       " 1033.0,\n",
       " 258.0,\n",
       " 164.0,\n",
       " 218.0,\n",
       " 3414.0,\n",
       " 162.0,\n",
       " 113.0,\n",
       " 2123.0,\n",
       " 38.0,\n",
       " 201.0,\n",
       " 21.0,\n",
       " 269.0,\n",
       " 33.0,\n",
       " 212.0,\n",
       " 29.0,\n",
       " 178.0,\n",
       " 22.0,\n",
       " 43.0,\n",
       " 80.0,\n",
       " 378.0,\n",
       " 1425.0,\n",
       " 17.0,\n",
       " 3150.0,\n",
       " 520.0,\n",
       " 1031.0,\n",
       " 243.0,\n",
       " 35.0,\n",
       " 1655.0,\n",
       " 456.0,\n",
       " 51.0,\n",
       " 269.0,\n",
       " 25.0,\n",
       " 28.0,\n",
       " 36.0,\n",
       " 2436.0,\n",
       " 3300.0,\n",
       " 4244.0,\n",
       " 378.0,\n",
       " 2384.0,\n",
       " 39.0,\n",
       " 25.0,\n",
       " 100.0,\n",
       " 643.0,\n",
       " 11.0,\n",
       " 198.0,\n",
       " 6.0,\n",
       " 2749.0,\n",
       " 1922.0,\n",
       " 165.0,\n",
       " 2587.0,\n",
       " 113.0,\n",
       " 530.0,\n",
       " 63.0,\n",
       " 21.0,\n",
       " 213.0,\n",
       " 847.0,\n",
       " 36.0,\n",
       " 450.0,\n",
       " 22.0,\n",
       " 36.0,\n",
       " 17.0,\n",
       " 275.0,\n",
       " 710.0,\n",
       " 1485.0,\n",
       " 289.0,\n",
       " 1558.0,\n",
       " 51.0,\n",
       " 2338.0,\n",
       " 3102.0,\n",
       " 55.0,\n",
       " 291.0,\n",
       " 2522.0,\n",
       " 213.0,\n",
       " 1549.0,\n",
       " 412.0,\n",
       " 63.0,\n",
       " 2584.0,\n",
       " 192.0,\n",
       " 10.0,\n",
       " 485.0,\n",
       " 1259.0,\n",
       " 387.0,\n",
       " 426.0,\n",
       " 9.0,\n",
       " 58.0,\n",
       " 30.0,\n",
       " 1083.0,\n",
       " 163.0,\n",
       " 23.0,\n",
       " 28.0,\n",
       " 37.0,\n",
       " 17.0,\n",
       " 74.0,\n",
       " 482.0,\n",
       " 5.0,\n",
       " 404.0,\n",
       " 376.0,\n",
       " 3374.0,\n",
       " 26.0,\n",
       " 206.0,\n",
       " 37.0,\n",
       " 129.0,\n",
       " 5.0,\n",
       " 1259.0,\n",
       " 733.0,\n",
       " 214.0,\n",
       " 26.0,\n",
       " 488.0,\n",
       " 16.0,\n",
       " 1434.0,\n",
       " 12.0,\n",
       " 22.0,\n",
       " 21.0,\n",
       " 3052.0,\n",
       " 96.0,\n",
       " 280.0,\n",
       " 477.0,\n",
       " 283.0,\n",
       " 13.0,\n",
       " 3054.0,\n",
       " 206.0,\n",
       " 37.0,\n",
       " 2629.0,\n",
       " 2688.0,\n",
       " 460.0,\n",
       " 21.0,\n",
       " 49.0,\n",
       " 845.0,\n",
       " 73.0,\n",
       " 58.0,\n",
       " 2219.0,\n",
       " 113.0,\n",
       " 23.0,\n",
       " 1399.0,\n",
       " 165.0,\n",
       " 9.0,\n",
       " 1552.0,\n",
       " 879.0,\n",
       " 47.0,\n",
       " 1514.0,\n",
       " 1213.0,\n",
       " 777.0,\n",
       " 1658.0,\n",
       " 3579.0,\n",
       " 164.0,\n",
       " 1.0,\n",
       " 293.0,\n",
       " 271.0,\n",
       " 1640.0,\n",
       " 1337.0,\n",
       " 1109.0,\n",
       " 2782.0,\n",
       " 2222.0,\n",
       " 38.0,\n",
       " 1115.0,\n",
       " 250.0,\n",
       " 386.0,\n",
       " 233.0,\n",
       " 1312.0,\n",
       " 21.0,\n",
       " 268.0,\n",
       " 589.0,\n",
       " 1491.0,\n",
       " 3588.0,\n",
       " 1151.0,\n",
       " 611.0,\n",
       " 2062.0,\n",
       " 92.0,\n",
       " 40.0,\n",
       " 305.0,\n",
       " 626.0,\n",
       " 6245.0,\n",
       " 1790.0,\n",
       " 1970.0,\n",
       " 526.0,\n",
       " 20.0,\n",
       " 866.0,\n",
       " 1307.0,\n",
       " 32.0,\n",
       " 1042.0,\n",
       " 4431.0,\n",
       " 141.0,\n",
       " 164.0,\n",
       " 435.0,\n",
       " 158.0,\n",
       " 338.0,\n",
       " 2093.0,\n",
       " 1993.0,\n",
       " 481.0,\n",
       " 3104.0,\n",
       " 374.0,\n",
       " 122.0,\n",
       " 196.0,\n",
       " 356.0,\n",
       " 23.0,\n",
       " 3005.0,\n",
       " 1274.0,\n",
       " 374.0,\n",
       " 1760.0,\n",
       " 1755.0,\n",
       " 1063.0,\n",
       " 85.0,\n",
       " 15.0,\n",
       " 13.0,\n",
       " 3788.0,\n",
       " 29.0,\n",
       " 2852.0,\n",
       " 457.0,\n",
       " 1673.0,\n",
       " 941.0,\n",
       " 44.0,\n",
       " 56.0,\n",
       " 21.0,\n",
       " 682.0,\n",
       " 2485.0,\n",
       " 1165.0,\n",
       " 1458.0,\n",
       " 182.0,\n",
       " 36.0,\n",
       " 253.0,\n",
       " 14.0,\n",
       " 203.0,\n",
       " 947.0,\n",
       " 3860.0,\n",
       " 153.0,\n",
       " 2531.0,\n",
       " 450.0,\n",
       " 993.0,\n",
       " 37.0,\n",
       " 337.0,\n",
       " 289.0,\n",
       " 23.0,\n",
       " 98.0,\n",
       " 30.0,\n",
       " 719.0,\n",
       " 219.0,\n",
       " 203.0,\n",
       " 379.0,\n",
       " 1978.0,\n",
       " 196.0,\n",
       " 2296.0,\n",
       " 1313.0,\n",
       " 802.0,\n",
       " 36.0,\n",
       " 266.0,\n",
       " 489.0,\n",
       " 142.0,\n",
       " 6.0,\n",
       " 20.0,\n",
       " 520.0,\n",
       " 320.0,\n",
       " 569.0,\n",
       " 34.0,\n",
       " 657.0,\n",
       " 9.0,\n",
       " 48.0,\n",
       " 40.0,\n",
       " 26.0,\n",
       " 1730.0,\n",
       " 202.0,\n",
       " 49.0,\n",
       " 352.0,\n",
       " 12.0,\n",
       " 170.0,\n",
       " 26.0,\n",
       " 386.0,\n",
       " 16.0,\n",
       " 333.0,\n",
       " 347.0,\n",
       " 26.0,\n",
       " 29.0,\n",
       " 468.0,\n",
       " 73.0,\n",
       " 13.0,\n",
       " 727.0,\n",
       " 183.0,\n",
       " 241.0,\n",
       " 1576.0,\n",
       " 781.0,\n",
       " 223.0,\n",
       " 24.0,\n",
       " 1129.0,\n",
       " 234.0,\n",
       " 452.0,\n",
       " 187.0,\n",
       " 9.0,\n",
       " 21.0,\n",
       " 11.0,\n",
       " 1120.0,\n",
       " 17.0,\n",
       " 254.0,\n",
       " 185.0,\n",
       " 1932.0,\n",
       " 15.0,\n",
       " 753.0,\n",
       " 244.0,\n",
       " 215.0,\n",
       " 2718.0,\n",
       " 17.0,\n",
       " 1774.0,\n",
       " 983.0,\n",
       " 1367.0,\n",
       " 453.0,\n",
       " 302.0,\n",
       " 90.0,\n",
       " 53.0,\n",
       " 622.0,\n",
       " 164.0,\n",
       " 345.0,\n",
       " 447.0,\n",
       " 496.0,\n",
       " 250.0,\n",
       " 20.0,\n",
       " 12.0,\n",
       " 22.0]"
      ]
     },
     "execution_count": 292,
     "metadata": {},
     "output_type": "execute_result"
    }
   ],
   "source": []
  },
  {
   "cell_type": "code",
   "execution_count": 88,
   "id": "c0634887",
   "metadata": {},
   "outputs": [
    {
     "data": {
      "text/plain": [
       "array([0.09180927, 0.09492442, 0.43433144, 0.2878372 , 0.09109767])"
      ]
     },
     "execution_count": 88,
     "metadata": {},
     "output_type": "execute_result"
    }
   ],
   "source": [
    "PIs1"
   ]
  },
  {
   "cell_type": "code",
   "execution_count": 990,
   "id": "550b7fe1-48b5-491f-bfb0-40c306f43009",
   "metadata": {},
   "outputs": [],
   "source": [
    "means = np.array([[array1,array2]])"
   ]
  },
  {
   "cell_type": "code",
   "execution_count": 991,
   "id": "524c9065-41e5-4982-bfb3-b15f3db115d5",
   "metadata": {},
   "outputs": [
    {
     "data": {
      "text/plain": [
       "array([[[ 714, 5622,  365,  749, 3160],\n",
       "        [3029,  584, 5280, 4079,  705]]])"
      ]
     },
     "execution_count": 991,
     "metadata": {},
     "output_type": "execute_result"
    }
   ],
   "source": [
    "means"
   ]
  },
  {
   "cell_type": "code",
   "execution_count": 992,
   "id": "7b8d7f0a-1382-4ce7-b81f-0c66dddf687e",
   "metadata": {},
   "outputs": [],
   "source": [
    "means2 = means.reshape(5,2)"
   ]
  },
  {
   "cell_type": "code",
   "execution_count": 981,
   "id": "3d41e079-ff05-4558-a6c4-bd9a25b9d712",
   "metadata": {},
   "outputs": [
    {
     "data": {
      "text/plain": [
       "array([[0., 0.],\n",
       "       [0., 0.],\n",
       "       [0., 0.],\n",
       "       [0., 0.],\n",
       "       [0., 0.]])"
      ]
     },
     "execution_count": 981,
     "metadata": {},
     "output_type": "execute_result"
    }
   ],
   "source": [
    "np.zeros((5,2))"
   ]
  },
  {
   "cell_type": "code",
   "execution_count": 87,
   "id": "a4bce668-75f6-4e73-9ce1-3783280a767d",
   "metadata": {},
   "outputs": [],
   "source": [
    "def initialize_coefficients(X: np.ndarray, n_components: int):\n",
    "    coefficients = np.zeros(n_components)\n",
    "    for feature in range(X.shape[1]):\n",
    "        coefficients= np.random.uniform(size=n_components)\n",
    "        coefficients = coefficients / sum(coefficients)\n",
    "    return coefficients"
   ]
  },
  {
   "cell_type": "code",
   "execution_count": null,
   "id": "090ad49f",
   "metadata": {},
   "outputs": [],
   "source": []
  },
  {
   "cell_type": "code",
   "execution_count": 974,
   "id": "0b30a1fb-6800-46bb-a452-9624f96248ed",
   "metadata": {},
   "outputs": [],
   "source": [
    "from scipy.stats import rankdata, nbinom"
   ]
  },
  {
   "cell_type": "code",
   "execution_count": 975,
   "id": "e7ae6157-26b0-4384-b33d-b2002de5ed1f",
   "metadata": {},
   "outputs": [],
   "source": [
    "def nbinom_log_probs(X: np.ndarray, mean: float, disp: float = 0.3):\n",
    "    n = 1 / disp\n",
    "    p = 1 / (1 + mean * disp)\n",
    "    return nbinom.logpmf(X, n, p)"
   ]
  },
  {
   "cell_type": "code",
   "execution_count": 993,
   "id": "ca65275d-779d-4760-9def-8d3d25a9039b",
   "metadata": {},
   "outputs": [
    {
     "ename": "ValueError",
     "evalue": "could not broadcast input array from shape (2,1000) into shape (2,5)",
     "output_type": "error",
     "traceback": [
      "\u001b[0;31m---------------------------------------------------------------------------\u001b[0m",
      "\u001b[0;31mValueError\u001b[0m                                Traceback (most recent call last)",
      "Input \u001b[0;32mIn [993]\u001b[0m, in \u001b[0;36m<cell line: 1>\u001b[0;34m()\u001b[0m\n\u001b[0;32m----> 1\u001b[0m \u001b[43mexpectation\u001b[49m\u001b[43m(\u001b[49m\u001b[43mX_dataset\u001b[49m\u001b[43m,\u001b[49m\u001b[43mmeans2\u001b[49m\u001b[43m,\u001b[49m\u001b[43mcoeffs\u001b[49m\u001b[43m)\u001b[49m\n",
      "Input \u001b[0;32mIn [951]\u001b[0m, in \u001b[0;36mexpectation\u001b[0;34m(X, means, coefficients)\u001b[0m\n\u001b[1;32m      3\u001b[0m \u001b[38;5;28;01mfor\u001b[39;00m feature \u001b[38;5;129;01min\u001b[39;00m \u001b[38;5;28mrange\u001b[39m(X\u001b[38;5;241m.\u001b[39mshape[\u001b[38;5;241m1\u001b[39m]):\n\u001b[1;32m      4\u001b[0m     \u001b[38;5;28;01mfor\u001b[39;00m component \u001b[38;5;129;01min\u001b[39;00m \u001b[38;5;28mrange\u001b[39m(\u001b[38;5;28mlen\u001b[39m(means)):\n\u001b[0;32m----> 5\u001b[0m         posterior_probs[:, feature, component] \u001b[38;5;241m=\u001b[39m nbinom_log_probs(X[:, feature], mean\u001b[38;5;241m=\u001b[39mmeans[component, feature])\n\u001b[1;32m      7\u001b[0m \u001b[38;5;28;01mfor\u001b[39;00m component \u001b[38;5;129;01min\u001b[39;00m \u001b[38;5;28mrange\u001b[39m(\u001b[38;5;28mlen\u001b[39m(coefficients)):\n\u001b[1;32m      8\u001b[0m     posterior_probs[:, :, component] \u001b[38;5;241m+\u001b[39m\u001b[38;5;241m=\u001b[39m np\u001b[38;5;241m.\u001b[39mlog(coefficients[component] \u001b[38;5;241m+\u001b[39m \u001b[38;5;241m0.1\u001b[39m)\n",
      "\u001b[0;31mValueError\u001b[0m: could not broadcast input array from shape (2,1000) into shape (2,5)"
     ]
    }
   ],
   "source": [
    "expectation(X_dataset,means2,coeffs)\n"
   ]
  },
  {
   "cell_type": "code",
   "execution_count": 951,
   "id": "f0303c54-2a53-4bf0-95b5-75fe75927b1a",
   "metadata": {},
   "outputs": [],
   "source": [
    "def expectation(X: np.ndarray, means: np.ndarray, coefficients: np.ndarray):\n",
    "    posterior_probs = np.zeros((*X.shape, len(means)))\n",
    "    for feature in range(X.shape[1]):\n",
    "        for component in range(len(means)):\n",
    "            posterior_probs[:, feature, component] = nbinom_log_probs(X[:, feature], mean=means[component, feature])\n",
    "            \n",
    "    for component in range(len(coefficients)):\n",
    "        posterior_probs[:, :, component] += np.log(coefficients[component] + 0.1)\n",
    "    \n",
    "    posterior_probs = np.exp(posterior_probs.sum(axis=1))\n",
    "    posterior_probs /= posterior_probs.sum(axis=1).reshape(-1, 1)\n",
    "\n",
    "    return posterior_probs"
   ]
  },
  {
   "cell_type": "code",
   "execution_count": 96,
   "id": "5f67b1a0-22b2-4f65-8a3a-a6a13bc08c64",
   "metadata": {},
   "outputs": [],
   "source": [
    "#caraway\n",
    "X_dataset = np.array([[caraway],[kiwi]])"
   ]
  },
  {
   "cell_type": "code",
   "execution_count": 118,
   "id": "d53bc4f0",
   "metadata": {},
   "outputs": [],
   "source": [
    "mus = np.zeros((5,2))\n",
    "mus[:,0] = array1\n",
    "mus[:,1] = array2"
   ]
  },
  {
   "cell_type": "code",
   "execution_count": 119,
   "id": "fd019d73",
   "metadata": {},
   "outputs": [
    {
     "data": {
      "text/plain": [
       "array([[1842., 4382.],\n",
       "       [5750., 3600.],\n",
       "       [ 789., 1104.],\n",
       "       [3579., 4419.],\n",
       "       [3507., 3081.]])"
      ]
     },
     "execution_count": 119,
     "metadata": {},
     "output_type": "execute_result"
    }
   ],
   "source": [
    "mus"
   ]
  },
  {
   "cell_type": "code",
   "execution_count": 126,
   "id": "c6872f02",
   "metadata": {},
   "outputs": [
    {
     "name": "stdout",
     "output_type": "stream",
     "text": [
      "1842\n",
      "5750\n",
      "789\n",
      "3579\n",
      "3507\n",
      "[1842, 5750, 789, 3579, 3507]\n"
     ]
    }
   ],
   "source": []
  },
  {
   "cell_type": "code",
   "execution_count": 91,
   "id": "45f5559d",
   "metadata": {},
   "outputs": [
    {
     "data": {
      "text/plain": [
       "array([0.00183619, 0.00189849, 0.00868663, 0.00575674, 0.00182195])"
      ]
     },
     "execution_count": 91,
     "metadata": {},
     "output_type": "execute_result"
    }
   ],
   "source": [
    "PIs1 * .02"
   ]
  },
  {
   "cell_type": "code",
   "execution_count": 139,
   "id": "43b0036c-f3a8-450e-80a2-606845f6704f",
   "metadata": {},
   "outputs": [],
   "source": [
    "def expectation2(X_data,means,coefficients,theta):\n",
    "#    pp = np.zeros((len(X_data),len(means)))\n",
    "    pp = []\n",
    "    for x in X_data:\n",
    "        row = []\n",
    "        for i in range(len(means)):\n",
    "            p0 = neg_bin(x[0],means[i][0],theta)\n",
    "            p1 = neg_bin(x[1],means[i][1],theta)\n",
    "            row.append(np.sum(coefficients * np.exp(p0+p1)) )\n",
    "        pp.append(row)\n",
    "    post_probs = [[p/np.sum(row) for p in row] for row in pp]\n",
    "    clusters = [np.argmax(p) for p in post_probs]\n",
    "    return pp,post_probs,clusters"
   ]
  },
  {
   "cell_type": "code",
   "execution_count": 95,
   "id": "251f4674",
   "metadata": {},
   "outputs": [],
   "source": [
    "def expectation(coords, mus, mix_coeffs):\n",
    "    \n",
    "    # initialize P(x|q)\n",
    "    Pxq = []\n",
    "    \n",
    "    # loop through points\n",
    "    for point in coords:\n",
    "        row = []\n",
    "        for mu in mus:\n",
    "            p = 0\n",
    "            for mix in mix_coeffs:\n",
    "                # calculate the probability that the point is generated by each component\n",
    "                p_0 = stats.nbinom.logpmf(point[0], 1/0.3, 1/(1+mu[0]*0.3))\n",
    "                p_1 = stats.nbinom.logpmf(point[1], 1/0.3, 1/(1+mu[1]*0.3))\n",
    "                p += mix*np.exp(p_0 + p_1)\n",
    "            row.append(p)\n",
    "        Pxq.append(row)\n",
    "        \n",
    "    # normalize to obtain the posterior probability that each data point comes from each component\n",
    "    posts = np.array([list(np.divide(x, np.sum(x))) for x in Pxq])\n",
    "    \n",
    "    # assign clusters based on maximum posterior probability\n",
    "    clusters = np.array([np.argmax(p) for p in posts])\n",
    "    \n",
    "    return Pxq, posts, clusters"
   ]
  },
  {
   "cell_type": "code",
   "execution_count": 145,
   "id": "a00c964c",
   "metadata": {},
   "outputs": [],
   "source": [
    "Pxq, posts, clusters = expectation(data,mus,PIs1)"
   ]
  },
  {
   "cell_type": "code",
   "execution_count": 136,
   "id": "f2ef6b6d",
   "metadata": {},
   "outputs": [],
   "source": [
    "#clusters"
   ]
  },
  {
   "cell_type": "code",
   "execution_count": 341,
   "id": "0884830b",
   "metadata": {},
   "outputs": [],
   "source": [
    "pp,post_probs,clusters2 = expectation2(data,mus,PIs1,.3)"
   ]
  },
  {
   "cell_type": "code",
   "execution_count": 349,
   "id": "4294e5b8",
   "metadata": {},
   "outputs": [
    {
     "data": {
      "text/plain": [
       "[0.4252357840206722,\n",
       " 0.011006406357862514,\n",
       " 0.45931626175720297,\n",
       " 0.046780180873225066,\n",
       " 0.05766136699103731]"
      ]
     },
     "execution_count": 349,
     "metadata": {},
     "output_type": "execute_result"
    }
   ],
   "source": [
    "post_probs[3]"
   ]
  },
  {
   "cell_type": "code",
   "execution_count": 168,
   "id": "5b0faa5b",
   "metadata": {},
   "outputs": [
    {
     "name": "stdout",
     "output_type": "stream",
     "text": [
      "[0.0006791855281436639, 3.101774932642546e-05, 0.9989487150838282, 7.501624894111572e-05, 0.00026606538976071183]\n",
      "[6.79185528e-04 3.10177493e-05 9.98948715e-01 7.50162489e-05\n",
      " 2.66065390e-04]\n"
     ]
    }
   ],
   "source": [
    "print(post_probs[10])\n",
    "print(posts[10])"
   ]
  },
  {
   "cell_type": "code",
   "execution_count": null,
   "id": "31d4db54",
   "metadata": {},
   "outputs": [],
   "source": [
    "#Max_BiNom(points,posts,centriods)"
   ]
  },
  {
   "cell_type": "code",
   "execution_count": 977,
   "id": "2db5391b-9d1a-48f5-80bd-8660bfcb0be5",
   "metadata": {},
   "outputs": [],
   "source": [
    "coeffs = initialize_coefficients(X_dataset,5)"
   ]
  },
  {
   "cell_type": "code",
   "execution_count": 978,
   "id": "9a34f89f-f5e7-4ff1-95f9-084222d14ffb",
   "metadata": {},
   "outputs": [
    {
     "data": {
      "text/plain": [
       "array([0.20257118, 0.13153482, 0.05644171, 0.31351137, 0.29594092])"
      ]
     },
     "execution_count": 978,
     "metadata": {},
     "output_type": "execute_result"
    }
   ],
   "source": []
  },
  {
   "cell_type": "code",
   "execution_count": 959,
   "id": "0e06b529-600a-46c0-832e-6540a5e2bf0e",
   "metadata": {},
   "outputs": [
    {
     "data": {
      "text/plain": [
       "0.9999999999999999"
      ]
     },
     "execution_count": 959,
     "metadata": {},
     "output_type": "execute_result"
    }
   ],
   "source": [
    "np.sum(coeffs)"
   ]
  },
  {
   "cell_type": "code",
   "execution_count": 1,
   "id": "3e7ddcdf-687e-4aac-b167-af7cc80aa835",
   "metadata": {},
   "outputs": [],
   "source": [
    "#Mpresley 3/23/23, work on getting information, Let's get the expectation part of the data,\n",
    "#This will calculate the rows of data.\n",
    "#Centriods should be the amount of Q (components) as well as Pis, Centriods and Pis should be column count\n",
    "\n",
    "\n",
    "def Expect_BiNom(Centriods,Pis,Points,Theta):\n",
    "    '''Returns a row for each point in the Array, This row is later normalized so the sum of the row equals 1\n",
    "       appends all these rows into a multi-dimensional array (a matrix)\n",
    "       Parameters\n",
    "       Centriods - a single array\n",
    "       Pis - a single array (will have the same count as the columns of the returned 2d Array\n",
    "       Points - The long array of X points (will be the same count as the Rows)\n",
    "       Theta - A single variable (will be .3 in the case of the homework)\n",
    "    '''\n",
    "    Pqs = []\n",
    "    '''\n",
    "    for point in Points:\n",
    "        xRow = [neg_bin(point,Centriods[i],Theta)*Pis[i] for i in range(len(Centriods)) ]\n",
    "        xRow_Sum = sum(xRow)\n",
    "        #Normalize data\n",
    "        xRow = [x/xRow_Sum for x in XRow ]\n",
    "        Pqs.append(xRow)\n",
    "    '''\n",
    "    #navigate over every point to\n",
    "    i = 0\n",
    "    for point in Points:\n",
    "        Pqs.append(Pis*[neg_bin(point,cent,Theta) for cent in Centriods])\n",
    "        #Normalize the data so the sum will equal one \n",
    "    posts = [x/np.sum(x) for x in Pqs]\n",
    "    cluster = [np.argmax(j) for j in posts]\n",
    "    \n",
    "    return posts,cluster\n",
    "\n",
    "        "
   ]
  },
  {
   "cell_type": "code",
   "execution_count": 912,
   "id": "4ef4f2eb-5548-428c-8d74-95320934dadd",
   "metadata": {},
   "outputs": [
    {
     "data": {
      "text/plain": [
       "array([-2.58829945, -3.27825167, -0.472037  , -7.20261403, -3.92761484])"
      ]
     },
     "execution_count": 912,
     "metadata": {},
     "output_type": "execute_result"
    }
   ],
   "source": [
    "#cents\n",
    "#array1\n",
    "#[4583, 207, 5415, 1345, 4761]\n",
    "#neg_bin(25,4583,.3)*PIs1\n"
   ]
  },
  {
   "cell_type": "code",
   "execution_count": 896,
   "id": "29dbe272-f303-4a80-b2f6-511da576c870",
   "metadata": {},
   "outputs": [],
   "source": [
    "from scipy.special import logsumexp\n",
    "from scipy.stats import norm\n"
   ]
  },
  {
   "cell_type": "code",
   "execution_count": 911,
   "id": "247ac5e9-53dd-4bdb-bb59-9235ca61a691",
   "metadata": {},
   "outputs": [
    {
     "data": {
      "text/plain": [
       "array([0.14816684, 0.18766306, 0.02702169, 0.41231264, 0.22483577])"
      ]
     },
     "execution_count": 911,
     "metadata": {},
     "output_type": "execute_result"
    }
   ],
   "source": []
  },
  {
   "cell_type": "code",
   "execution_count": 2,
   "id": "d539a5b4-f12d-4103-b4d8-fd8c10e932fe",
   "metadata": {},
   "outputs": [
    {
     "ename": "NameError",
     "evalue": "name 'array1' is not defined",
     "output_type": "error",
     "traceback": [
      "\u001b[0;31m---------------------------------------------------------------------------\u001b[0m",
      "\u001b[0;31mNameError\u001b[0m                                 Traceback (most recent call last)",
      "Input \u001b[0;32mIn [2]\u001b[0m, in \u001b[0;36m<cell line: 3>\u001b[0;34m()\u001b[0m\n\u001b[1;32m      1\u001b[0m \u001b[38;5;66;03m#Mpres 3/28/23 Next we will test the function Expect_BiNom\u001b[39;00m\n\u001b[1;32m      2\u001b[0m \u001b[38;5;66;03m# a. set up sample data\u001b[39;00m\n\u001b[0;32m----> 3\u001b[0m posts, cluster \u001b[38;5;241m=\u001b[39m Expect_BiNom(\u001b[43marray1\u001b[49m,PIs1,caraway,\u001b[38;5;241m.3\u001b[39m)\n",
      "\u001b[0;31mNameError\u001b[0m: name 'array1' is not defined"
     ]
    }
   ],
   "source": [
    "#Mpres 3/28/23 Next we will test the function Expect_BiNom\n",
    "# a. set up sample data\n",
    "posts, cluster = Expect_BiNom(array1,PIs1,caraway,.3)"
   ]
  },
  {
   "cell_type": "code",
   "execution_count": 179,
   "id": "37bccecd-ea7f-4782-abf6-7dbd809f213b",
   "metadata": {},
   "outputs": [],
   "source": [
    "t_array = [[1,2,3],[5,4,5]]"
   ]
  },
  {
   "cell_type": "code",
   "execution_count": 182,
   "id": "504706e8",
   "metadata": {},
   "outputs": [
    {
     "data": {
      "text/plain": [
       "[[1, 2, 3], [5, 4, 5]]"
      ]
     },
     "execution_count": 182,
     "metadata": {},
     "output_type": "execute_result"
    }
   ],
   "source": [
    "t_array"
   ]
  },
  {
   "cell_type": "code",
   "execution_count": 183,
   "id": "ababb0af-943a-491a-9292-4a7ea48b4664",
   "metadata": {},
   "outputs": [
    {
     "data": {
      "text/plain": [
       "array([6, 6, 8])"
      ]
     },
     "execution_count": 183,
     "metadata": {},
     "output_type": "execute_result"
    }
   ],
   "source": [
    "np.sum(t_array,axis=0)"
   ]
  },
  {
   "cell_type": "code",
   "execution_count": 825,
   "id": "d7aab40e-4f9c-4c1b-ba17-cad8ae3a0e98",
   "metadata": {},
   "outputs": [
    {
     "ename": "NameError",
     "evalue": "name 'centriods' is not defined",
     "output_type": "error",
     "traceback": [
      "\u001b[0;31m---------------------------------------------------------------------------\u001b[0m",
      "\u001b[0;31mNameError\u001b[0m                                 Traceback (most recent call last)",
      "Input \u001b[0;32mIn [825]\u001b[0m, in \u001b[0;36m<cell line: 1>\u001b[0;34m()\u001b[0m\n\u001b[0;32m----> 1\u001b[0m ll \u001b[38;5;241m=\u001b[39m np\u001b[38;5;241m.\u001b[39msum(logsumexp([[np\u001b[38;5;241m.\u001b[39mlog(coeffs) \u001b[38;5;241m+\u001b[39m np\u001b[38;5;241m.\u001b[39mlog(neg_bin(point,c,Theta)) \u001b[38;5;28;01mfor\u001b[39;00m c \u001b[38;5;129;01min\u001b[39;00m centriods] \u001b[38;5;28;01mfor\u001b[39;00m point \u001b[38;5;129;01min\u001b[39;00m Points],axis\u001b[38;5;241m=\u001b[39m\u001b[38;5;241m1\u001b[39m))\n\u001b[1;32m      2\u001b[0m \u001b[38;5;28mprint\u001b[39m(\u001b[38;5;241m-\u001b[39mll)\n",
      "Input \u001b[0;32mIn [825]\u001b[0m, in \u001b[0;36m<listcomp>\u001b[0;34m(.0)\u001b[0m\n\u001b[0;32m----> 1\u001b[0m ll \u001b[38;5;241m=\u001b[39m np\u001b[38;5;241m.\u001b[39msum(logsumexp([[np\u001b[38;5;241m.\u001b[39mlog(coeffs) \u001b[38;5;241m+\u001b[39m np\u001b[38;5;241m.\u001b[39mlog(neg_bin(point,c,Theta)) \u001b[38;5;28;01mfor\u001b[39;00m c \u001b[38;5;129;01min\u001b[39;00m \u001b[43mcentriods\u001b[49m] \u001b[38;5;28;01mfor\u001b[39;00m point \u001b[38;5;129;01min\u001b[39;00m Points],axis\u001b[38;5;241m=\u001b[39m\u001b[38;5;241m1\u001b[39m))\n\u001b[1;32m      2\u001b[0m \u001b[38;5;28mprint\u001b[39m(\u001b[38;5;241m-\u001b[39mll)\n",
      "\u001b[0;31mNameError\u001b[0m: name 'centriods' is not defined"
     ]
    }
   ],
   "source": [
    "ll = np.sum(logsumexp([[np.log(coeffs) + np.log(neg_bin(point,c,Theta)) for c in centriods] for point in Points],axis=1))\n",
    "print(-ll)\n"
   ]
  },
  {
   "cell_type": "code",
   "execution_count": null,
   "id": "bb0b53d7-2548-40c7-9016-c24264bd782c",
   "metadata": {},
   "outputs": [],
   "source": [
    "np.sum(\n",
    "np.log\n",
    ")\n",
    "\n",
    "neg_bin(point,cent,Theta)\n",
    "neg_bin(point,cent,Theta)\n",
    "\n"
   ]
  },
  {
   "cell_type": "code",
   "execution_count": 818,
   "id": "dcd7b845-da9c-4c98-922b-893bbe5fab9a",
   "metadata": {},
   "outputs": [
    {
     "data": {
      "text/plain": [
       "0.9999999999999999"
      ]
     },
     "execution_count": 818,
     "metadata": {},
     "output_type": "execute_result"
    }
   ],
   "source": [
    "testvar = Expect_BiNom(cents,coeffs,caraway,theta)\n",
    "np.sum(testvar[0][3])"
   ]
  },
  {
   "cell_type": "code",
   "execution_count": 727,
   "id": "d9ad452b-70f6-4987-a6f0-70cfcaf6d286",
   "metadata": {},
   "outputs": [],
   "source": []
  },
  {
   "cell_type": "code",
   "execution_count": 731,
   "id": "40c14df0-68b4-412b-b697-dfe76c72d4b3",
   "metadata": {},
   "outputs": [
    {
     "data": {
      "text/plain": [
       "3.476744410879226"
      ]
     },
     "execution_count": 731,
     "metadata": {},
     "output_type": "execute_result"
    }
   ],
   "source": [
    "Points[3]"
   ]
  },
  {
   "cell_type": "code",
   "execution_count": 723,
   "id": "793c663b-9226-4d41-b45b-ed11c6922651",
   "metadata": {},
   "outputs": [
    {
     "data": {
      "text/plain": [
       "array([27.63214472, 16.70239225,  2.88969853, 17.78298234,  9.94648082])"
      ]
     },
     "execution_count": 723,
     "metadata": {},
     "output_type": "execute_result"
    }
   ],
   "source": [
    "cents"
   ]
  },
  {
   "cell_type": "code",
   "execution_count": 186,
   "id": "6fafb8e6-f3e8-4ce7-ba41-746a150fa966",
   "metadata": {},
   "outputs": [],
   "source": [
    "#Mpresley 3/23/23 work on the Maximization function\n",
    "#This involves recalculating the Centriod and Pis \n",
    "\n",
    "def Max_BiNom(points,posts,centriods):\n",
    "    ''' Update the centriods and Pis for the maximation part of the function\n",
    "        Parametes,\n",
    "        points, 1d array of all the points (same count as the rows\n",
    "        posts, 2d array of the points with the corresponding percentages by each compononent\n",
    "        centriods, 1d list of the centriod to be updated.\n",
    "        ---------\n",
    "        returns\n",
    "        updated centriods and updated Pis\n",
    "        -------\n",
    "    '''\n",
    "    new_centriods = []\n",
    "    new_Pis = []\n",
    "    for i in range(len(centriods)):\n",
    "        numerator = np.sum(posts*points,axis=0)\n",
    "        denumerator = np.sum(posts,axis=0)\n",
    "    new_centriods = (numerator/denumerator)\n",
    "    new_Pis = denumerator/len(points)\n",
    "    \n",
    "    return new_centriods,new_Pis\n",
    "    \n",
    "        \n",
    "        \n",
    "    "
   ]
  },
  {
   "cell_type": "code",
   "execution_count": 187,
   "id": "0730c84c",
   "metadata": {},
   "outputs": [],
   "source": [
    "# create a function to return updated mu (current estimate of component means) \n",
    "# and the mixture coefficients for each component\n",
    "def maximization(coords, posts, mix_coeffs):\n",
    "    \n",
    "    # calculate the new mean for each component as the posterior weighted average of point positions \n",
    "    \n",
    "    # numerator\n",
    "    num_mu_list_0, num_mu_list_1 = [], [] \n",
    "    for i in range(len(posts)):\n",
    "        num_mu_list_0.append(posts[i]*coords[i][0])\n",
    "        num_mu_list_1.append(posts[i]*coords[i][1])\n",
    "    num_mu_0 = np.sum(num_mu_list_0, axis=0)\n",
    "    num_mu_1 = np.sum(num_mu_list_1, axis=0)\n",
    "\n",
    "    # denominator\n",
    "    denom_mu = np.sum(posts, axis=0)\n",
    "    \n",
    "    # divide the numerator by denominator to get the weighted means\n",
    "    mus_0 = np.divide(num_mu_0, denom_mu)\n",
    "    mus_1 = np.divide(num_mu_1, denom_mu)\n",
    "    mus = np.array(list(zip(mus_0, mus_1))) # zip numerator from two dimensions together\n",
    "    \n",
    "    # calculate the new mixture coefficients as the mean of the posteriors\n",
    "    # these are the expected fraction of data points assigned to each component\n",
    "    mix_coeffs = np.divide(denom_mu, len(coords))\n",
    "    \n",
    "    return mus, mix_coeffs"
   ]
  },
  {
   "cell_type": "code",
   "execution_count": 253,
   "id": "1de09e2a",
   "metadata": {},
   "outputs": [],
   "source": [
    "def Max2(points,posts,centriods):\n",
    "    new_centriods = []\n",
    "    num1 = []\n",
    "    num2 = []\n",
    "    for i in range(len(points)):\n",
    "        num1.append(posts[i] * points[i][0])\n",
    "        num2.append(posts[i] * points[i][1])\n",
    "    num1 = np.sum(num1,axis=0)\n",
    "    num2 = np.sum(num2,axis=0)\n",
    "    \n",
    "    denum = np.sum(posts,axis=0)\n",
    "    new_centriods = np.array(list(zip(num1/denum,num2/denum)))\n",
    "#    new_centriods.append(num1/denum)\n",
    " #   new_centriods.append(num2/denum)\n",
    "    new_Pis = denum/len(points)\n",
    "\n",
    "    return new_centriods,new_Pis\n",
    "    "
   ]
  },
  {
   "cell_type": "code",
   "execution_count": 335,
   "id": "a3621d4c",
   "metadata": {},
   "outputs": [],
   "source": [
    "#maximization(data,post_probs,mus)\n",
    "#pp_numpy = np.array(post_probs)\n",
    "test_cents,test_pis = maximization(data,pp_numpy,mus)\n"
   ]
  },
  {
   "cell_type": "code",
   "execution_count": 360,
   "id": "84ad6d63",
   "metadata": {},
   "outputs": [
    {
     "data": {
      "text/plain": [
       "array([[1.05502416e-02, 3.84979971e-04, 9.85168348e-01, 1.15814307e-03,\n",
       "        2.73828733e-03],\n",
       "       [6.12693313e-03, 4.22801159e-04, 9.89614267e-01, 9.72077979e-04,\n",
       "        2.86392025e-03],\n",
       "       [6.78563812e-02, 9.21885192e-03, 8.58216848e-01, 1.85187928e-02,\n",
       "        4.61891261e-02],\n",
       "       ...,\n",
       "       [1.30935606e-03, 5.53301227e-05, 9.98037570e-01, 1.42263529e-04,\n",
       "        4.55480775e-04],\n",
       "       [6.65603899e-04, 2.92272882e-05, 9.98980941e-01, 7.16798914e-05,\n",
       "        2.52548025e-04],\n",
       "       [1.03367893e-02, 3.76175996e-04, 9.85474201e-01, 1.13168661e-03,\n",
       "        2.68114737e-03]])"
      ]
     },
     "execution_count": 360,
     "metadata": {},
     "output_type": "execute_result"
    }
   ],
   "source": []
  },
  {
   "cell_type": "code",
   "execution_count": 371,
   "id": "554c744e",
   "metadata": {},
   "outputs": [],
   "source": [
    "test_cents2, test_pis2 = Max2(data,pp_numpy,mus)"
   ]
  },
  {
   "cell_type": "code",
   "execution_count": 381,
   "id": "23c1e41b",
   "metadata": {},
   "outputs": [
    {
     "name": "stdout",
     "output_type": "stream",
     "text": [
      "[0.42523578 0.01100641 0.45931626 0.04678018 0.05766137]\n",
      "<class 'numpy.ndarray'>\n",
      "1065.0\n"
     ]
    },
    {
     "data": {
      "text/plain": [
       "array([452.87610998,  11.72182277, 489.17181877,  49.82089263,\n",
       "        61.40935585])"
      ]
     },
     "execution_count": 381,
     "metadata": {},
     "output_type": "execute_result"
    }
   ],
   "source": [
    "print(pp_numpy[3]) \n",
    "print(type(pp_numpy[3]) )\n",
    "print(data[2][0])\n",
    "pp_numpy[3]*data[2][0]"
   ]
  },
  {
   "cell_type": "code",
   "execution_count": 379,
   "id": "c3e97da3",
   "metadata": {},
   "outputs": [
    {
     "name": "stdout",
     "output_type": "stream",
     "text": [
      "<class 'list'>\n"
     ]
    }
   ],
   "source": [
    "print(type(post_probs[3]))\n",
    "#*data[2][0]"
   ]
  },
  {
   "cell_type": "code",
   "execution_count": 355,
   "id": "b47c654d",
   "metadata": {},
   "outputs": [
    {
     "name": "stdout",
     "output_type": "stream",
     "text": [
      "[3047.33941041 1621.7632819 ]\n",
      "[3047.33941041 1621.7632819 ]\n"
     ]
    }
   ],
   "source": [
    "#print(test_cents2)\n",
    "print(test_cents2[1])\n",
    "#print(test_cents)\n",
    "print(test_cents[1])"
   ]
  },
  {
   "cell_type": "code",
   "execution_count": 259,
   "id": "1ca81c88",
   "metadata": {},
   "outputs": [
    {
     "name": "stdout",
     "output_type": "stream",
     "text": [
      "[0.06855644 0.03001903 0.79071222 0.03800171 0.0727106 ]\n",
      "[0.06855644 0.03001903 0.79071222 0.03800171 0.0727106 ]\n"
     ]
    }
   ],
   "source": [
    "print(test_pis2)\n",
    "print(test_pis)"
   ]
  },
  {
   "cell_type": "code",
   "execution_count": null,
   "id": "a57aacaf",
   "metadata": {},
   "outputs": [],
   "source": []
  },
  {
   "cell_type": "code",
   "execution_count": 238,
   "id": "e7f3f8f2",
   "metadata": {},
   "outputs": [
    {
     "name": "stdout",
     "output_type": "stream",
     "text": [
      "[[1313.5601967  2558.41126344]\n",
      " [3047.33941041 1621.7632819 ]\n",
      " [ 340.24894938  431.15921167]\n",
      " [2468.77577978 2012.85817986]\n",
      " [2580.31296796 1491.81487152]]\n"
     ]
    }
   ],
   "source": [
    "print(test_cents)"
   ]
  },
  {
   "cell_type": "code",
   "execution_count": 588,
   "id": "dc5d1eda-13ae-49f2-832a-d057ae22aac2",
   "metadata": {},
   "outputs": [
    {
     "data": {
      "text/plain": [
       "array([-2.11631139, -3.72783666, -2.11631139, -2.04067525, -2.08554577])"
      ]
     },
     "execution_count": 588,
     "metadata": {},
     "output_type": "execute_result"
    }
   ],
   "source": [
    "from scipy.stats import norm\n",
    "\n",
    "\n",
    "test_cents = [3,1,3,4,5]\n",
    "test_cents = np.array([3,1,3,4,5])\n",
    "test_pis = np.array([.2,.5,.1,.8,.4])\n",
    "test_pis2 = [.2,.5,.1,.8,.4]\n",
    "#[t*test_pis for t in test_cents]\n",
    "test_pis*test_cents\n",
    "\n",
    "Pqx = []\n",
    "\n",
    "#Pqx.append(test_pis*norm.pdf(point,loc = test_cents, scale = .3))\n",
    "\n",
    "\n",
    "#test_pis*norm.pdf(5,loc = test_cents, scale = .3)\n",
    "#norm.pdf(5,loc = test_cents, scale = .3)\n",
    "#norm.pdf(5,loc = 3, scale = .3)\n",
    "\n",
    "#test_pis2*neg_bin(4,test_cents,.3)\n",
    "neg_bin(4,test_cents,.3)"
   ]
  },
  {
   "cell_type": "code",
   "execution_count": 663,
   "id": "e105c40e-dff0-4f32-8570-25e803a8b116",
   "metadata": {},
   "outputs": [
    {
     "name": "stdout",
     "output_type": "stream",
     "text": [
      "[18  5 56]\n",
      "[2 1 4]\n"
     ]
    },
    {
     "data": {
      "text/plain": [
       "array([ 9.,  5., 14.])"
      ]
     },
     "execution_count": 663,
     "metadata": {},
     "output_type": "execute_result"
    }
   ],
   "source": [
    "test_2d = np.array([[1,5,6,3],[6,3,5,8],[9,2,7,4]])\n",
    "test_1d = np.array([3,1,8])\n",
    "test_1d2 = np.array([2,1,4])\n",
    "#num = 2\n",
    "#test = test_2d[:,2] * test_1d\n",
    "print(test)\n",
    "print(test_1d2)\n",
    "result = test/test_1d2\n",
    "result\n"
   ]
  },
  {
   "cell_type": "code",
   "execution_count": 719,
   "id": "ac7a2daf-f7d4-477c-9647-9b9a2935fbf7",
   "metadata": {},
   "outputs": [
    {
     "data": {
      "text/plain": [
       "[[0.06666666666666667, 0.3333333333333333, 0.4, 0.2],\n",
       " [0.2727272727272727,\n",
       "  0.13636363636363635,\n",
       "  0.22727272727272727,\n",
       "  0.36363636363636365],\n",
       " [0.4090909090909091,\n",
       "  0.09090909090909091,\n",
       "  0.3181818181818182,\n",
       "  0.18181818181818182]]"
      ]
     },
     "execution_count": 719,
     "metadata": {},
     "output_type": "execute_result"
    }
   ],
   "source": [
    "#print(test_2d)\n",
    "#np.sum(test_2d,axis=1)\n",
    "post_axis = []\n",
    "for a in test_2d:\n",
    "#    print([b/sum(a) for b in a ])\n",
    "    post_axis.append([b/sum(a) for b in a ])\n",
    "np.sum(post_axis)\n",
    "\n",
    "post_axis\n",
    "\n"
   ]
  },
  {
   "cell_type": "code",
   "execution_count": 264,
   "id": "5e82f9ad-1dbc-45da-afa9-b32eec56e442",
   "metadata": {
    "scrolled": true
   },
   "outputs": [
    {
     "ename": "NameError",
     "evalue": "name 'test_2d' is not defined",
     "output_type": "error",
     "traceback": [
      "\u001b[0;31m---------------------------------------------------------------------------\u001b[0m",
      "\u001b[0;31mNameError\u001b[0m                                 Traceback (most recent call last)",
      "Input \u001b[0;32mIn [264]\u001b[0m, in \u001b[0;36m<cell line: 1>\u001b[0;34m()\u001b[0m\n\u001b[0;32m----> 1\u001b[0m \u001b[38;5;28mprint\u001b[39m(\u001b[43mtest_2d\u001b[49m[:,\u001b[38;5;241m1\u001b[39m])\n\u001b[1;32m      2\u001b[0m \u001b[38;5;28mprint\u001b[39m(test_2d)\n",
      "\u001b[0;31mNameError\u001b[0m: name 'test_2d' is not defined"
     ]
    }
   ],
   "source": [
    "print(test_2d[:,1])\n",
    "print(test_2d)"
   ]
  },
  {
   "cell_type": "code",
   "execution_count": 267,
   "id": "8329046b",
   "metadata": {},
   "outputs": [
    {
     "ename": "NameError",
     "evalue": "name 'test_2d' is not defined",
     "output_type": "error",
     "traceback": [
      "\u001b[0;31m---------------------------------------------------------------------------\u001b[0m",
      "\u001b[0;31mNameError\u001b[0m                                 Traceback (most recent call last)",
      "Input \u001b[0;32mIn [267]\u001b[0m, in \u001b[0;36m<cell line: 1>\u001b[0;34m()\u001b[0m\n\u001b[0;32m----> 1\u001b[0m \u001b[43mtest_2d\u001b[49m\n",
      "\u001b[0;31mNameError\u001b[0m: name 'test_2d' is not defined"
     ]
    }
   ],
   "source": [
    "test_2d"
   ]
  },
  {
   "cell_type": "code",
   "execution_count": 329,
   "id": "06148e11",
   "metadata": {},
   "outputs": [],
   "source": [
    "#Mpresley 3/29/23\n",
    "#define NegLL to get the negative log likehood for a unit\n",
    "def NegLL(pxs):\n",
    "    \n",
    "    ll = np.sum(np.log([np.sum(x) for x in pxs]))\n",
    "    return (ll * -1)\n",
    "\n",
    "        \n",
    "    "
   ]
  },
  {
   "cell_type": "code",
   "execution_count": 330,
   "id": "f1166dde",
   "metadata": {},
   "outputs": [],
   "source": [
    "# create function to return negative log likelihood of data given current mixture model\n",
    "def negll(Pxq):\n",
    "    \n",
    "    # use the prior from the output of the expectation function to calculate log likelihood\n",
    "    nll = -1*np.sum(np.log([np.sum(x) for x in Pxq]))\n",
    "    \n",
    "    return nll"
   ]
  },
  {
   "cell_type": "code",
   "execution_count": 331,
   "id": "5b6abf66",
   "metadata": {},
   "outputs": [
    {
     "data": {
      "text/plain": [
       "18815.724569981394"
      ]
     },
     "execution_count": 331,
     "metadata": {},
     "output_type": "execute_result"
    }
   ],
   "source": [
    "negll(pp)"
   ]
  },
  {
   "cell_type": "code",
   "execution_count": 313,
   "id": "503635ee",
   "metadata": {},
   "outputs": [],
   "source": [
    "cents = np.array(list(zip(cent1,cent2)))\n"
   ]
  },
  {
   "cell_type": "code",
   "execution_count": 328,
   "id": "daa8145d",
   "metadata": {},
   "outputs": [
    {
     "data": {
      "text/plain": [
       "18815.724569981394"
      ]
     },
     "execution_count": 328,
     "metadata": {},
     "output_type": "execute_result"
    }
   ],
   "source": [
    "NegLL(pp)"
   ]
  },
  {
   "cell_type": "code",
   "execution_count": 358,
   "id": "2090b5c6",
   "metadata": {},
   "outputs": [
    {
     "data": {
      "text/plain": [
       "array([[  25., 1246.],\n",
       "       [ 450.,  549.],\n",
       "       [1065., 1022.],\n",
       "       ...,\n",
       "       [  20.,  320.],\n",
       "       [  12.,   28.],\n",
       "       [  22., 1240.]])"
      ]
     },
     "execution_count": 358,
     "metadata": {},
     "output_type": "execute_result"
    }
   ],
   "source": [
    "data"
   ]
  },
  {
   "cell_type": "code",
   "execution_count": 400,
   "id": "983bffd6",
   "metadata": {},
   "outputs": [],
   "source": [
    "\n",
    "# now process the the data, for it, initilize before outer for loop\n",
    "# this data can be easily altered for future rusn\n",
    "num_runs = 50\n",
    "clusters = 5\n",
    "theta = .3\n",
    "nll_best = np.inf\n",
    "cents_best = []\n",
    "pis_best = []\n",
    "clusters_best = []\n",
    "\n",
    "#start outer for loop, num_runs will run the same optimization process 5 times, but will start at\n",
    "#different places. Since there are local optimization effects it's import to run multiple times to help get\n",
    "# the best fit\n",
    "for run in range(num_runs):\n",
    "    \n",
    "    #initilize data, data is a two dimenstional array of 1000,2 (1000 rows 2 columns)\n",
    "    #randomCentriodMixture will give random centriods and pis values based \n",
    "\n",
    "    cent1,cent2,pis = randomCentriodMixture(list(data[:,0]),list(data[:,1]), 5)\n",
    "    \n",
    "    cents = np.array(list(zip(cent1,cent2)))\n",
    "    \n",
    "    nll_thresh = .0005\n",
    "    \n",
    "    nll_diff = np.inf\n",
    "    \n",
    "    nll = 0\n",
    "    \n",
    "    nll_old = 0\n",
    "\n",
    "    #run inner while loop, based on getting the delta Negative likley log to be very small from run,\n",
    "    while nll_diff > (nll_thresh*nll_old):\n",
    " \n",
    "        pps,post_probs,clusters =  expectation2(data,cents,pis,theta)\n",
    "\n",
    "        #convert post_probs from list to numpy array (needed for the Max2 function)\n",
    "        post_probs = np.array(post_probs)\n",
    "        \n",
    "        cents,pis = Max2(data,post_probs,cents) \n",
    "        \n",
    "        nll_old = nll\n",
    "        \n",
    "        nll = NegLL(pps)\n",
    "        \n",
    "        nll_diff = nll - nll_old\n",
    "\n",
    "    if(nll<nll_best):\n",
    "        \n",
    "        nll_best = nll\n",
    "        \n",
    "        cents_best = cents\n",
    "        \n",
    "        pis_best = pis\n",
    "\n",
    "        clusters_best = clusters\n",
    "    "
   ]
  },
  {
   "cell_type": "code",
   "execution_count": 404,
   "id": "479d9680",
   "metadata": {},
   "outputs": [],
   "source": [
    "# run the mixture negative binomial fitting using helper functions above\n",
    "n_runs = 5 # can increase but takes much longer\n",
    "num_clust = 5\n",
    "\n",
    "# initialize a threshold for nll change that will stop iteration\n",
    "nll_thresh = .0005\n",
    "\n",
    "# initialize best mus, best distance to mu, best mixture coefficients, best nll\n",
    "min_dist = float('inf')\n",
    "mus_best = []*len(data)\n",
    "nll_best = float('inf')\n",
    "mix_coeffs_best = []\n",
    "\n",
    "for i in range(n_runs):\n",
    "    \n",
    "    # start each iteration starts with a random set of mus with random mixture coeffcients\n",
    "    mix_coeffs = np.random.rand(num_clust)\n",
    "    mix_coeffs = np.divide(mix_coeffs, sum(mix_coeffs))\n",
    "    minimum, maximum = np.min(data, axis=0), np.max(data, axis=0)\n",
    "    mus = np.array([random.uniform(minimum, maximum) for i in range(num_clust)])\n",
    "    \n",
    "    # we want to iterate until the nll stops changing\n",
    "    nll_diff = float('inf') # difference between current and last nll\n",
    "    nll_old = float(0) # last nll\n",
    "    \n",
    "    # iterate while the differences between consecutive nlls is above a threshold\n",
    "    j = 0\n",
    "    while nll_diff > (nll_thresh*nll_old):\n",
    "        \n",
    "        # calculate posterior probabilities and assign points to clusters, store Pxq for nll function\n",
    "        Pxq, posts, clusters = expectation(data, mus, mix_coeffs)\n",
    "        \n",
    "        # calculate new mus and mixture coefficients given current posterior probabilities\n",
    "        mus, mix_coeffs = maximization(data, posts, mix_coeffs)\n",
    "        \n",
    "        # calcualte the nll of the current mixture model\n",
    "        nll = negll(Pxq) \n",
    "         \n",
    "        # find difference in consecutive nlls and update the nll_old\n",
    "        nll_diff = abs(nll-nll_old)\n",
    "        nll_old = nll\n",
    "        \n",
    "    # update best estimates for mus, mixture coefficients, and cluster assignments\n",
    "    if nll < nll_best:\n",
    "        mix_coeffs_best = mix_coeffs\n",
    "        nll_best = nll\n",
    "        mus_best = mus\n",
    "        clusters_best = clusters"
   ]
  },
  {
   "cell_type": "code",
   "execution_count": 384,
   "id": "720d6f07",
   "metadata": {},
   "outputs": [
    {
     "data": {
      "text/plain": [
       "array([1.21630628e-69, 5.12369339e+02, 1.95129769e+02, 3.04490961e+02,\n",
       "       5.30099299e+01])"
      ]
     },
     "execution_count": 384,
     "metadata": {},
     "output_type": "execute_result"
    }
   ],
   "source": [
    "post_probs[3]*data[2][0]\n",
    "#Max2(data,post_probs,cents) "
   ]
  },
  {
   "cell_type": "code",
   "execution_count": null,
   "id": "c7d82564",
   "metadata": {},
   "outputs": [],
   "source": []
  },
  {
   "cell_type": "code",
   "execution_count": null,
   "id": "c0d13f0e",
   "metadata": {},
   "outputs": [],
   "source": []
  },
  {
   "cell_type": "code",
   "execution_count": 406,
   "id": "32cfbd3f",
   "metadata": {},
   "outputs": [
    {
     "data": {
      "text/plain": [
       "12482.66096663414"
      ]
     },
     "execution_count": 406,
     "metadata": {},
     "output_type": "execute_result"
    }
   ],
   "source": [
    "nll_best"
   ]
  }
 ],
 "metadata": {
  "kernelspec": {
   "display_name": "Python 3 (ipykernel)",
   "language": "python",
   "name": "python3"
  },
  "language_info": {
   "codemirror_mode": {
    "name": "ipython",
    "version": 3
   },
   "file_extension": ".py",
   "mimetype": "text/x-python",
   "name": "python",
   "nbconvert_exporter": "python",
   "pygments_lexer": "ipython3",
   "version": "3.9.12"
  }
 },
 "nbformat": 4,
 "nbformat_minor": 5
}
