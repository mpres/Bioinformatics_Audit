{
 "cells": [
  {
   "cell_type": "markdown",
   "metadata": {},
   "source": [
    "# Section 4: Intro to Probability\n",
    "Notes by Gloria Ha (2019),  Mary Richardson (2020), and Colin Hemez (2021)"
   ]
  },
  {
   "cell_type": "code",
   "execution_count": 108,
   "metadata": {},
   "outputs": [],
   "source": [
    "import numpy as np\n",
    "import matplotlib.pyplot as plt\n",
    "\n",
    "%matplotlib inline"
   ]
  },
  {
   "cell_type": "code",
   "execution_count": 112,
   "metadata": {},
   "outputs": [
    {
     "data": {
      "text/plain": [
       "'1.21.5'"
      ]
     },
     "execution_count": 112,
     "metadata": {},
     "output_type": "execute_result"
    }
   ],
   "source": [
    "np.version.version"
   ]
  },
  {
   "cell_type": "markdown",
   "metadata": {},
   "source": [
    "### Exercises\n",
    "\n",
    "Now that we've gone over how to do this theoretically, let's try it on some data! You can download the data from the links at the bottom of the section notes page. Let's take a look at the *sleek* data file."
   ]
  },
  {
   "cell_type": "code",
   "execution_count": 7,
   "metadata": {},
   "outputs": [
    {
     "name": "stdout",
     "output_type": "stream",
     "text": [
      "rrsrrrrsrsrrsrr\n",
      "srrrrsrsssrss\n",
      "rsrsssrssrssrrrrs\n",
      "srrrrrrrrsrssrs\n",
      "rrsssrsssrssrs\n",
      "srssrsssrsssr\n",
      "srrsrrrsrsssrss\n",
      "srrrrrsrssrssrss\n",
      "srrssrssrssrs\n",
      "ssrrrrsrrrsrrrssrssrsr\n"
     ]
    }
   ],
   "source": [
    "! head sleek_data.txt"
   ]
  },
  {
   "cell_type": "markdown",
   "metadata": {},
   "source": [
    "Looks like some sequences of 'r' and 's' of varying length!  The fluffy dataset is similar.  Note that each file has 1000 sequences.  We can now load in the data into lists (so we'll have lists of strings)."
   ]
  },
  {
   "cell_type": "code",
   "execution_count": 11,
   "metadata": {},
   "outputs": [],
   "source": [
    "# Initialize sleek and fluffy data lists\n",
    "sleek_data = []\n",
    "fluffy_data = []\n",
    "\n",
    "# Load data from files\n",
    "with open('sleek_data.txt') as sleek_file:\n",
    "    for line in sleek_file:\n",
    "        sleek_data.append(line[:-1])\n",
    "        \n",
    "with open('fluffy_data.txt') as fluffy_file:\n",
    "    for line in fluffy_file:\n",
    "        fluffy_data.append(line[:-1])\n",
    "        "
   ]
  },
  {
   "cell_type": "code",
   "execution_count": 16,
   "metadata": {},
   "outputs": [
    {
     "data": {
      "text/plain": [
       "'rssrrrssrsrrrssrsrr'"
      ]
     },
     "execution_count": 16,
     "metadata": {},
     "output_type": "execute_result"
    }
   ],
   "source": []
  },
  {
   "cell_type": "markdown",
   "metadata": {},
   "source": [
    "### Exercise 1: See if you can use a simple zero order method to differentiate the birdsongs\n",
    "\n",
    "See if you can use a simple scoring algorithm (+1 for 's' and -1 for 'r', for example) on the *sleek* and *fluffy* data to differentiate the sequences. \n",
    "\n",
    "I would recommend keeping two different arrays of length 1000: one for the scores you give to the sleek sequences, and one for the scores you gives to the fluffy sequences."
   ]
  },
  {
   "cell_type": "code",
   "execution_count": 45,
   "metadata": {},
   "outputs": [],
   "source": [
    "# Store length of data\n",
    "num_seq = len(fluffy_data)\n",
    "\n",
    "# Initialize score arrays\n",
    "sleek_scores = np.zeros(num_seq)\n",
    "fluffy_scores = np.zeros(num_seq)\n",
    "\n",
    "# Write script to score sequences in both datasets\n",
    "\n",
    "#Mpresley 2/27/23, write function to score single array\n",
    "def ScoreSequence(seq):\n",
    "    score = 0\n",
    "    for n in seq:\n",
    "        if (n == 'r'):\n",
    "            score -= 1\n",
    "        elif (n == 's'):\n",
    "            score += 1\n",
    "        else:\n",
    "            return score\n",
    "    return score\n",
    "\n",
    "\n",
    "for n in range(num_seq):\n",
    "    sleek_scores[n] = ScoreSequence(sleek_data[n])\n",
    "    fluffy_scores[n] = ScoreSequence(fluffy_data[n])\n",
    "\n",
    "\n"
   ]
  },
  {
   "cell_type": "code",
   "execution_count": null,
   "metadata": {},
   "outputs": [],
   "source": []
  },
  {
   "cell_type": "code",
   "execution_count": 24,
   "metadata": {},
   "outputs": [
    {
     "data": {
      "text/plain": [
       "-2"
      ]
     },
     "execution_count": 24,
     "metadata": {},
     "output_type": "execute_result"
    }
   ],
   "source": [
    "def ScoreSequence(seq):\n",
    "    score = 0\n",
    "    for n in seq:\n",
    "        if (n == 'r'):\n",
    "            score -= 1\n",
    "        elif (n == 's'):\n",
    "            score += 1\n",
    "    return score\n",
    "\n",
    "\n"
   ]
  },
  {
   "cell_type": "markdown",
   "metadata": {},
   "source": [
    "Now that you have a score for every sequence in the dataset, try plotting a **histogram** of the distribution of scores for sleek and fluffy songs. Check out `plt.hist()`."
   ]
  },
  {
   "cell_type": "code",
   "execution_count": 148,
   "metadata": {},
   "outputs": [
    {
     "data": {
      "text/plain": [
       "(array([  1.,  17.,  61., 269., 315., 262.,  54.,  13.,   6.,   2.]),\n",
       " array([-14. , -11.4,  -8.8,  -6.2,  -3.6,  -1. ,   1.6,   4.2,   6.8,\n",
       "          9.4,  12. ]),\n",
       " <BarContainer object of 10 artists>)"
      ]
     },
     "execution_count": 148,
     "metadata": {},
     "output_type": "execute_result"
    },
    {
     "data": {
      "image/png": "[encoded data removed]",
      "text/plain": [
       "<Figure size 432x288 with 1 Axes>"
      ]
     },
     "metadata": {
      "needs_background": "light"
     },
     "output_type": "display_data"
    }
   ],
   "source": [
    "# Plot histogram of scores\n",
    "atest = plt.hist(sleek_scores)\n",
    "plt.hist(fluffy_scores)\n",
    "\n",
    "    "
   ]
  },
  {
   "cell_type": "code",
   "execution_count": 151,
   "metadata": {},
   "outputs": [
    {
     "data": {
      "text/plain": [
       "array([ -7.,   1.,   1.,  -5.,   4.,   5.,   1.,   0.,   3.,  -4.,  -4.,\n",
       "        -9.,  -5.,   3.,  -1.,  -3.,   5.,  -5.,   5.,   1.,   5.,   1.,\n",
       "        -1.,   2.,   3.,  -1.,  -2.,  -3.,  -3.,  -2.,   6.,  -3.,  -1.,\n",
       "        -1.,   6.,   4.,  -8.,  -7.,  -1.,   4.,   1.,   1.,  -4.,   3.,\n",
       "         1.,   4.,  -3.,  -6.,   3.,  -3.,  -2.,   1.,   1.,  -6.,   3.,\n",
       "        -3.,   3.,   2.,   0.,   3.,  -3.,   0.,   1.,  -1.,  -7.,   1.,\n",
       "         7.,  -2.,   2.,   1.,  -1.,  -5.,   4.,  -2.,   5.,   4.,  -7.,\n",
       "        -6., -10.,   3.,  -3.,   0.,  -7.,  -5.,  -5.,   3.,  -9.,  -4.,\n",
       "        -1.,  -9.,  -1.,  -3.,   4.,  -6.,   1.,   3.,  -1.,  -5.,  -2.,\n",
       "         6.,  -1.,  13.,  -6., -11.,   1.,  -1.,  -7.,   0.,  -3.,   4.,\n",
       "        -1.,   3.,   6.,  -2.,  -5.,   0.,   0.,  -5.,   5.,  -7.,  -7.,\n",
       "         3.,   0.,   4.,   1.,   6.,   5.,   2.,  -4.,  -6.,  -7.,   2.,\n",
       "         1.,  -6.,  -1.,   1.,   5.,  -1.,   4.,  -9.,  -1.,   0.,  -3.,\n",
       "         6.,   5.,  -9.,  -1.,  -2.,  -4.,  -3.,  -1.,   1.,  -4.,   3.,\n",
       "         9.,  -5.,  -5.,   3.,  -5.,  -7.,  -1.,  -7.,   6.,   4.,   4.,\n",
       "        -1.,  -6.,  -2.,   2.,   0.,   1.,  -6.,  -1.,   7.,  -5.,   5.,\n",
       "        -4.,   1.,  -4.,  -2.,   1.,  -4.,  -3.,  -2.,   2.,   2.,   1.,\n",
       "        -2.,   4.,   5.,   3.,  -9.,   7.,  -3.,  -5.,  -3.,  -1.,  -6.,\n",
       "         4.,   5.,   4.,   6., -10.,   3.,   2.,  -2.,   3.,  -5.,  -1.,\n",
       "        -3.,  -3.,   1.,   7.,  -1.,   2.,  -1.,  -2.,  -3.,   5.,   6.,\n",
       "         8.,  -5.,  -1.,   3.,  -1.,   3.,  -6.,   3.,  -6.,   5.,   1.,\n",
       "        -5.,  -6.,   1.,  -3.,   8.,  -1.,   3.,   0.,   3.,  -2.,   1.,\n",
       "        -9.,  -1.,  -1.,   4.,  -3.,  -2.,  -5.,  -4.,  -3.,  -3.,  -7.,\n",
       "        -7.,   5.,   1.,  -1.,  -3.,   2.,   5.,   3.,  -2.,   3.,  -5.,\n",
       "         7.,  -1.,   5.,  -3.,  -3.,   0.,  -3.,   1.,   5.,  -2.,   0.,\n",
       "        -1.,  -5.,   1.,  -7.,   1.,   3.,   1.,   3.,  -3.,  -4.,  -5.,\n",
       "         3.,  -1.,   5.,  -5.,   2.,   5.,   5.,   7.,  -2.,  -4.,   2.,\n",
       "         6.,   6.,  -6.,   2.,   6.,  -5.,  -5.,  -8.,   0.,  -1.,  -2.,\n",
       "        -1.,   2.,   5.,   3.,   4.,   0.,   1.,   3.,  -9.,   1.,  -3.,\n",
       "         4.,   0.,   8.,   1.,   7.,   3.,  -2.,   2.,   4.,   0.,  -7.,\n",
       "         2.,  -8.,   6.,  -6.,   3.,   5.,  -1.,  -6.,  -4.,  -1.,  -1.,\n",
       "         1.,  -5.,  -3.,  -8.,  -5.,   1.,  -4.,   3.,  -8.,   0.,  -5.,\n",
       "         3.,   2.,  -3.,   8.,  -3.,   5.,   8.,   5.,  -6.,   1.,   2.,\n",
       "         0.,  -3.,   1.,  -5.,  -5.,  -1.,   1.,  -7.,  -3.,  -5.,   1.,\n",
       "        -1.,   8.,   3.,  -1.,   1.,   1.,   7.,  -1.,  -3.,  -3.,  -5.,\n",
       "        -6.,  -5.,   2.,  -1.,  -7.,   6.,  -5.,  -1.,   4.,  -1.,   1.,\n",
       "         2.,   3.,  -1.,  -2.,   1.,  -5.,   0.,  -4.,  -2.,  -1.,   4.,\n",
       "         6.,   1.,  -3.,  -3.,   0.,  -2.,   3.,   1.,   1.,   1.,  -1.,\n",
       "         5.,  -2.,  -1.,   3.,  -3.,   5.,  -1.,  -6.,  -8.,  -1.,   1.,\n",
       "       -10.,  -7.,   4.,   1.,   2.,  -2.,   4.,   3.,  -7.,   2.,   3.,\n",
       "         3.,  -7.,  -1.,  -1.,  -3.,  -4.,   1.,   5.,   1.,  -7.,  -6.,\n",
       "        -5.,  -1.,  -2.,  -1.,  -1.,  -5.,   7.,   0.,  -7.,   5.,   3.,\n",
       "        -5.,   3.,  -9.,  -7.,   1.,  -1.,   1.,  -2.,  -1.,  -2.,  -8.,\n",
       "         1.,   5.,   3.,   0.,   1.,   7.,   3.,   4.,  -3.,   7.,   7.,\n",
       "         5.,  -1.,  -8.,   9.,   6.,   3.,  -6.,   6.,  -5.,  -1.,  -7.,\n",
       "         5.,  -1.,  -5.,  -3., -10.,   6.,   3.,   0.,  -3.,   0.,   3.,\n",
       "        -5.,  -3.,   0.,   1.,   2.,  -3.,   4.,  -3.,  -1.,  -4.,   7.,\n",
       "         1.,  -2.,   4.,  -1.,  -6.,  -2.,  -2.,   1.,  -6.,   6.,  -4.,\n",
       "        -3.,  -2.,  -3.,   6.,   0.,   1.,   3.,  -2.,  -2.,  -1.,   4.,\n",
       "        -1.,   1.,  -3.,   4.,  -3.,   1.,   1.,   1.,   1.,   2.,  -3.,\n",
       "         0.,  -3.,   3.,   1.,   2.,  -2.,   1.,   4.,  -7.,  -3.,   4.,\n",
       "         1., -11.,  -3.,   2.,  -4.,  -1.,  -4.,   7.,   7.,  -5.,  -8.,\n",
       "         2.,  -2.,   9.,   7.,  -5.,  -1.,  -7.,  -3.,   1.,   5.,   0.,\n",
       "        -4.,   3.,   6.,   4.,  -1.,  -3.,  -2.,  -7.,  -3.,   3.,  -3.,\n",
       "        -3.,   6.,  -5.,  -1.,   0.,  -3.,  -6.,  -1.,   2.,  -3.,   6.,\n",
       "         3.,   2.,   6.,   1.,   1.,  -9.,  -5.,  -4.,  -5.,  -4.,  -3.,\n",
       "         2.,   2.,   7.,   5.,   3.,  -1.,   4.,  -5.,   0.,   0.,  -9.,\n",
       "        -3.,  -5.,  -8.,  -1.,  -1.,  -7.,  -7.,  -3.,  -1.,  -6.,   0.,\n",
       "        -5.,  -7.,  -1.,  -5.,  -1.,  -4.,   0.,   2.,  -3.,  -1.,  -6.,\n",
       "         0.,   1.,  -3.,  -2.,  -6.,   4.,  -3.,   8.,   3.,  -7.,   3.,\n",
       "         1.,   2.,   6.,   1.,  -3.,   3.,   1.,  -3.,  -7.,   2.,   3.,\n",
       "        -9.,   5.,   5.,   1.,   4.,  -6.,  -1.,   5.,   6.,  -3.,  -3.,\n",
       "       -11.,   2.,  -7.,  -2.,  -5.,  -7.,  -5.,   2.,   0.,  -1.,   5.,\n",
       "         1.,  -5.,  -3.,   7.,  -7.,   7.,  -7.,  -7.,   2.,  -1.,  -4.,\n",
       "         1.,  -4.,   2.,  -3.,   2.,  -8.,  -6.,   3.,   5.,  -4.,  -2.,\n",
       "        -2.,   7.,   0.,   3.,   1.,   0.,  -6.,   5.,  -9.,  -5.,   2.,\n",
       "        -2.,  -3.,  -1.,   0.,  -4.,  -4.,   4.,   1.,   1.,  -6.,   4.,\n",
       "         3.,  -3.,   1.,  -8.,   0.,  -8.,   3.,  -1.,  -2.,   7.,  -5.,\n",
       "        -3.,  -7.,  -1.,   5.,  -3.,   3.,  -2.,   7.,  -3.,  -3.,   5.,\n",
       "        -6.,   6.,   4.,   4.,   5.,  -4.,   5.,  -1.,   0.,  -2.,   0.,\n",
       "         5.,   3.,   1.,  -1.,  -7.,   3.,  -2.,   1.,  -1.,  -1.,   2.,\n",
       "        -3.,   1.,  -1.,   1.,  -6.,  -3.,   5.,   1.,  -7.,  -4.,  -5.,\n",
       "        -8.,  -4.,   0.,  -7.,  -8.,  -5.,   5.,  -2.,   1.,   3.,   3.,\n",
       "         2.,   5.,  -5.,  -4.,   1.,   3.,   5.,  -6.,  -1.,  -9.,  -3.,\n",
       "        -7.,  -1.,  -3.,  -3.,   2.,  -5.,   1.,  -3.,   3.,  -2.,  -1.,\n",
       "         7.,  -6.,  -1.,   5.,   4.,  -7.,  -2.,  -2.,  -1.,   3.,   1.,\n",
       "         5.,  -7.,   4.,   3.,   6.,   6.,   2.,   0.,   1.,  -3.,   2.,\n",
       "         5.,  -2.,  -5.,   1.,   3.,  -4.,  -5.,   3.,   5.,  -5.,  -3.,\n",
       "         3.,  -4.,   7.,   2.,   2.,   1.,  -3.,  -2.,   8.,  -7.,   0.,\n",
       "        -9.,  -1.,   5.,   0.,  -1.,  -2.,   6.,   1.,  -1.,  -6.,  -6.,\n",
       "        -1.,   1.,  -7.,   3.,  -2.,  -4.,   6.,  -9.,  -2.,  -7.,   2.,\n",
       "        -8.,  -3.,   2.,  -5.,   7.,   0.,  -2.,  -1.,  -3.,   4.,   7.,\n",
       "         3.,   1.,   5., -11.,   0.,   3.,  -6.,   2.,   1.,  -4.,  -4.,\n",
       "         4.,   4.,  -2.,   6.,  -2., -10.,  -6.,   2.,  -2.,  -1.,  -5.,\n",
       "         1.,  -1.,   2.,   5.,   4.,  -7.,  -6.,   2.,   9.,  -1., -12.,\n",
       "        -7.,  -3.,  -5.,   2.,  -6.,   1.,   8.,  -5.,  -7.,   1.,  -3.,\n",
       "        -7.,  -3.,  -4.,  -1.,   6.,  -1.,   6.,  -2.,   4.,  -2.,   6.,\n",
       "        -7.,   1.,   6.,   2.,   8.,   4.,   1.,   6.,   0.,   2.,   0.,\n",
       "         1.,   7.,   2.,  -3.,  -1.,   6.,   1.,   6.,   3.,   1.,   0.,\n",
       "        -7.,  -4.,  -2.,  -6.,  -6.,  -4.,  -5.,  -1.,   5.,  -7.,  -5.,\n",
       "         3.,  -6.,  -3.,  -7.,   1.,  -3.,   4.,  -1.,  -2.,   2.])"
      ]
     },
     "execution_count": 151,
     "metadata": {},
     "output_type": "execute_result"
    }
   ],
   "source": [
    "sleek_scores"
   ]
  },
  {
   "cell_type": "markdown",
   "metadata": {},
   "source": [
    "Try plotting a **ROC plot**. An easy way of going about this is to calculate the number of true positives (TP), true negatives (TN), false positives (FP), and false negatives (FN) for each threshold score that you're considering. \n",
    "\n",
    "I would recommend first defining a range of threshold score values (for example, the minimum and the maximum of all of your scores), defining a linear space between those values (check out `np.linspace`), and then calculating the TP, TN, FP, FN for each threshold value. In this case, let's say that \"positives\" are scores above the threshold, and \"negatives\" are scores below the threshold (this is the typical definition). \n",
    "\n",
    "Remember that the ROC plot is true positive rate $\\frac{TP}{TP+FN}$ vs. false positive rate $\\frac{FP}{TN+FP}$."
   ]
  },
  {
   "cell_type": "code",
   "execution_count": 231,
   "metadata": {},
   "outputs": [
    {
     "name": "stdout",
     "output_type": "stream",
     "text": [
      "[1.    0.999 0.999 0.999 0.999 0.995 0.985 0.958 0.919 0.862 0.815 0.736\n",
      " 0.677 0.569 0.518 0.41  0.346 0.25  0.208 0.141 0.097 0.042 0.026 0.01\n",
      " 0.005 0.001 0.   ]\n",
      "[1.    1.    0.999 0.998 0.998 0.997 0.996 0.992 0.99  0.979 0.971 0.946\n",
      " 0.925 0.859 0.801 0.663 0.533 0.348 0.255 0.137 0.079 0.038 0.018 0.01\n",
      " 0.004 0.001 0.001]\n"
     ]
    },
    {
     "data": {
      "text/plain": [
       "Text(0.5, 0, 'False Postive Rate')"
      ]
     },
     "execution_count": 231,
     "metadata": {},
     "output_type": "execute_result"
    },
    {
     "data": {
      "image/png": "[encoded data removed]",
      "text/plain": [
       "<Figure size 432x288 with 1 Axes>"
      ]
     },
     "metadata": {
      "needs_background": "light"
     },
     "output_type": "display_data"
    }
   ],
   "source": [
    "# Find minimum and maximum scores across both fluffy and sleek songs\n",
    "min_score = -15\n",
    "max_score = 15\n",
    "\n",
    "# Define number and range of threshold scores\n",
    "num_thresh = 1000\n",
    "threshold_scores = np.linspace(13,-13,27)\n",
    "\n",
    "# Set up \n",
    "TP = np.zeros(num_thresh)\n",
    "FP = np.zeros(num_thresh)\n",
    "TN = np.zeros(num_thresh)\n",
    "FN = np.zeros(num_thresh)\n",
    "\n",
    "\n",
    "\n",
    "# Calculate TP,FP,TN,FN for each sequence in both datasets\n",
    "\n",
    "#Fix in the TP matrix and FN matrix\n",
    "def T_F_cal(thresh, scores, T, F):\n",
    "    for n in range(len(scores)):\n",
    "        if (thresh >= scores[n]):\n",
    "            T[n] = 1\n",
    "            F[n] = 0\n",
    "        else:\n",
    "            F[n] = 1\n",
    "            T[n] = 0\n",
    "\n",
    "\n",
    "\n",
    "#create a function for false postive rate and true postive rate (one function can work for both)\n",
    "def TPR_FPR(T,F):\n",
    "    return sum(T)/(sum(T)+sum(F))\n",
    "\n",
    "\n",
    "xFPR = np.array([])\n",
    "yTPR = np.array([])\n",
    "\n",
    "\n",
    "\n",
    "\n",
    "\n",
    "\n",
    "for score in threshold_scores:\n",
    "    # first get x value\n",
    "    # get the false postive True Negative array form fluffy_score, this function will modify FP and TN\n",
    "    T_F_cal(score, fluffy_scores, FP, TN)\n",
    "    #append sore to xFPR\n",
    "    xFPR = np.append(xFPR,TPR_FPR(FP,TN))\n",
    "    # now get the y value\n",
    "    # get true postive and false negative from sleek_score,  this function will modify TP and FN\n",
    "    T_F_cal(score, sleek_scores, TP, FN)\n",
    "    #append sore to yTPR\n",
    "    yTPR = np.append(yTPR,TPR_FPR(TP,FN))\n",
    "    \n",
    "\n",
    "print(yTPR)\n",
    "print(xFPR)    \n",
    "# Plot it!\n",
    "plt.plot(xFPR,yTPR)\n",
    "#plt.plot(yTPR,xFPR)\n",
    "plt.title(\"ROC Plot\")\n",
    "plt.ylabel(\"True Postive Rate\")\n",
    "plt.xlabel(\"False Postive Rate\")"
   ]
  },
  {
   "cell_type": "code",
   "execution_count": 147,
   "metadata": {},
   "outputs": [
    {
     "data": {
      "text/plain": [
       "0.99"
      ]
     },
     "execution_count": 147,
     "metadata": {},
     "output_type": "execute_result"
    }
   ],
   "source": [
    "#sum(TP)/(sum(TP)+sum(FN))\n",
    "\n",
    "sum(FP)/(sum(FP)+sum(TN))"
   ]
  },
  {
   "cell_type": "code",
   "execution_count": 239,
   "metadata": {},
   "outputs": [
    {
     "data": {
      "text/plain": [
       "1000"
      ]
     },
     "execution_count": 239,
     "metadata": {},
     "output_type": "execute_result"
    }
   ],
   "source": [
    "#len(sleek_data[0:500]) + len(sleek_data[500:1000])\n"
   ]
  },
  {
   "cell_type": "code",
   "execution_count": 121,
   "metadata": {},
   "outputs": [
    {
     "name": "stdout",
     "output_type": "stream",
     "text": [
      "[1 2 3 3]\n"
     ]
    }
   ],
   "source": [
    "#Not very well, "
   ]
  },
  {
   "cell_type": "markdown",
   "metadata": {},
   "source": [
    "How well does this method perform in distinguishing the songs?"
   ]
  },
  {
   "cell_type": "markdown",
   "metadata": {},
   "source": [
    "### Exercise 2: Train a third order Markov model\n",
    "\n",
    "#### Exercise 2.1: Split up your data into training and testing sets\n",
    "\n",
    "Now for the fun part!\n",
    "\n",
    "I would recommend first splitting up the data into **training and testing sets**. You can use half of the data for training and half for testing (like the homework), or choose some other fraction (as long as the training and testing sets don't overlap)!"
   ]
  },
  {
   "cell_type": "code",
   "execution_count": 242,
   "metadata": {},
   "outputs": [],
   "source": [
    "# Split up training and testing sets\n",
    "sleek_test = sleek_data[0:500]\n",
    "sleek_train = sleek_data[500:1000]\n",
    "fluffy_test = fluffy_data[0:500]\n",
    "fluffy_train = fluffy_data[500:1000]"
   ]
  },
  {
   "cell_type": "code",
   "execution_count": 626,
   "metadata": {},
   "outputs": [],
   "source": [
    "\n",
    "# possible strings of length k\n",
    "     \n",
    "# The method that prints all\n",
    "# possible strings of length k.\n",
    "# It is mainly a wrapper over\n",
    "# recursive function printAllKLengthRec()\n",
    "output = []\n",
    "\n",
    "def printAllKLength(set, k):\n",
    " \n",
    "    n = len(set)\n",
    "    printAllKLengthRec(set, \"\", n, k)\n",
    " \n",
    "# The main recursive method\n",
    "# to print all possible\n",
    "# strings of length k\n",
    "def printAllKLengthRec(set, prefix, n, k):\n",
    "     \n",
    "    # Base case: k is 0,\n",
    "    # print prefix\n",
    "    if (k == 0) :\n",
    "        print(prefix)\n",
    "        output.append(prefix)\n",
    "        return\n",
    " \n",
    "    # One by one add all characters\n",
    "    # from set and recursively\n",
    "    # call for k equals to k-1\n",
    "    for i in range(n):\n",
    " \n",
    "        # Next character of input added\n",
    "        newPrefix = prefix + set[i]\n",
    "         \n",
    "        # k is decreased, because\n",
    "        # we have added a new character\n",
    "        printAllKLengthRec(set, newPrefix, n, k - 1)\n",
    " \n"
   ]
  },
  {
   "cell_type": "code",
   "execution_count": 628,
   "metadata": {},
   "outputs": [
    {
     "name": "stdout",
     "output_type": "stream",
     "text": [
      "rrr\n",
      "rrs\n",
      "rsr\n",
      "rss\n",
      "srr\n",
      "srs\n",
      "ssr\n",
      "sss\n",
      "['rrr', 'rrs', 'rsr', 'rss', 'srr', 'srs', 'ssr', 'sss', 'rrr', 'rrs', 'rsr', 'rss', 'srr', 'srs', 'ssr', 'sss']\n"
     ]
    }
   ],
   "source": [
    "\n",
    "set1 = ['r', 's']\n",
    "k = 3\n",
    "test = printAllKLength(set1, 3)\n",
    "print(output)\n"
   ]
  },
  {
   "cell_type": "markdown",
   "metadata": {},
   "source": [
    "Now we want to use our training dataset to calculate the parameters of our Markov model. There are many ways you could go about this, so don't feel like you have to follow these steps!\n",
    "\n",
    "As discussed in section, in order to calculate the **conditional probabilities** in the Markov model (ex: $P(s|srss)$), we can calculate the unconditional probabilities of the related 4-mers and 3-mers ($P(srss)$ and $P(srs)$ in this case).\n",
    "\n",
    "How would we go about calculating these probabilities?  We want to see how many times each 4-mer appears in the data, and how many times each 3-mer appears in the data, for both *sleek* and *fluffy* sequences.\n",
    "\n",
    "#### Exercise 2.2: How many 4-mers and 3-mers are possible in this dataset?\n",
    "\n",
    "One useful piece of information would be how many distinct 4-mers and 3-mers there are in the data.  We know that there are 2 states in this model: 's' and 'r'.  How many distinct 3-character and 4-character sequences are possible?  You could write them out by hand, or you could use probability (Hint: Does order matter? Are you sampling with replacement?)!\n",
    "\n",
    "#### Exercise 2.3: Store distinct 4-mers and 3-mers in a list\n",
    "\n",
    "Now we want to store the distinct 4-mers and 3-mers in a list. Something like `['ssss','sssr',...]` and `['sss','ssr',...]`.  Again, you could type out all possible combinations by hand, or you could harness the tools of Python to get all possible combinations (this will be even more useful with an alphabet of four letter like 'ACTG')! Check out `itertools`.  Again there are many ways to approach this, so feel free to diverge!"
   ]
  },
  {
   "cell_type": "code",
   "execution_count": 297,
   "metadata": {},
   "outputs": [
    {
     "data": {
      "text/plain": [
       "18"
      ]
     },
     "execution_count": 297,
     "metadata": {},
     "output_type": "execute_result"
    }
   ],
   "source": [
    "# Find all distinct 3-mer and 4-mer sequences and store them in lists\n",
    "set1 = ['r', 's']\n",
    "\n",
    "threemers = ['rrr','rrs','rsr','rss','srr','srs','ssr','sss']\n",
    "fourmers = ['rrrr','rrrs','rrsr','rrss','rsrr','rrss','rsrr','rsrs','rssr','rsss','srrr','srrs','srsr','srss','ssrr','ssrs','sssr','ssss']\n",
    "len(fourmers)\n",
    "#len(threemers)\n"
   ]
  },
  {
   "cell_type": "code",
   "execution_count": 321,
   "metadata": {},
   "outputs": [
    {
     "name": "stdout",
     "output_type": "stream",
     "text": [
      "2\n"
     ]
    }
   ],
   "source": [
    "lst = ['rsr','rsr','rss','srr','ss']\n",
    "count = lst.count('ss')\n",
    "result = 0\n",
    "for l in lst:\n",
    "    result += l.count('ss')\n",
    "        \n",
    "#str = 'rsrsssrrs'\n",
    "#str.count('rr')\n"
   ]
  },
  {
   "cell_type": "code",
   "execution_count": 322,
   "metadata": {},
   "outputs": [
    {
     "name": "stdout",
     "output_type": "stream",
     "text": [
      "The index of e: 1\n",
      "The index of i: 2\n"
     ]
    }
   ],
   "source": [
    "# vowels list\n",
    "vowels = ['a', 'e', 'i', 'o', 'i', 'u']\n",
    "\n",
    "# index of 'e' in vowels\n",
    "index = vowels.index('e')\n",
    "\n",
    "print('The index of e:', index)\n",
    "\n",
    "# element 'i' is searched\n",
    "# index of the first 'i' is returned\n",
    "index = vowels.index('i')\n",
    "\n",
    "\n",
    "print('The index of i:', index)"
   ]
  },
  {
   "cell_type": "code",
   "execution_count": 629,
   "metadata": {},
   "outputs": [],
   "source": [
    "#threemers\n",
    "# Create function thats pattern and set's an returns a list of tuples \n",
    "# review tuples\n",
    "#tup = (\"srs\",3)\n",
    "test_list = [\"srrssrssrss\",\"srrssrssrss\",\"rrrsrssrs\"]\n",
    "def PatternCount(pat,txt_list):\n",
    "    count = 0\n",
    "    for txt in txt_list:\n",
    "        count += txt.count(pat)\n",
    "    return (pat,count)\n",
    "\n",
    "PatternCount('srs',test_list)\n",
    "def ListPatternCount(listOfPatterns,txt_list):\n",
    "    listResult = []\n",
    "    for pat in listOfPatterns:\n",
    "        listResult.append(PatternCount(pat,txt_list))\n",
    "    return listResult\n",
    "\n"
   ]
  },
  {
   "cell_type": "code",
   "execution_count": 356,
   "metadata": {},
   "outputs": [
    {
     "data": {
      "text/plain": [
       "[('rrr', 1172),\n",
       " ('rrs', 1598),\n",
       " ('rsr', 1582),\n",
       " ('rss', 1897),\n",
       " ('srr', 1597),\n",
       " ('srs', 1882),\n",
       " ('ssr', 1927),\n",
       " ('sss', 846)]"
      ]
     },
     "execution_count": 356,
     "metadata": {},
     "output_type": "execute_result"
    }
   ],
   "source": []
  },
  {
   "cell_type": "markdown",
   "metadata": {},
   "source": [
    "Now we want to go through all of the training sequences and count how many times each 3-mer and 4-mer appears in the dataset.\n",
    "\n",
    "#### Exercise 2.4: Find frequencies of distinct 3/4-mers in training data\n",
    "\n",
    "Go through each sequence and identify each 3-mer and 4-mer, and update the counts of the corresponding 3-mers or 4-mers. Check out `list.index()`."
   ]
  },
  {
   "cell_type": "code",
   "execution_count": 376,
   "metadata": {},
   "outputs": [],
   "source": [
    "# Initialize counts array of 3-mers and 4-mers\n",
    "\n",
    "threemer_counts_sleek = ListPatternCount(threemers,sleek_train)\n",
    "threemer_counts_fluffy = ListPatternCount(threemers,fluffy_train)\n",
    "fourmer_counts_sleek = ListPatternCount(fourmers,sleek_train)\n",
    "fourmer_counts_fluffy = ListPatternCount(fourmers,fluffy_train)\n",
    "\n",
    "# Go through each training sequence and identify 3-mers and 4-mers and update counts\n"
   ]
  },
  {
   "cell_type": "code",
   "execution_count": 426,
   "metadata": {},
   "outputs": [
    {
     "data": {
      "text/plain": [
       "1.0"
      ]
     },
     "execution_count": 426,
     "metadata": {},
     "output_type": "execute_result"
    }
   ],
   "source": [
    "def normListTuple(ListOfTuples):\n",
    "    #First get the sum\n",
    "    #The second element is the number\n",
    "    total = 0\n",
    "    resultList = []\n",
    "    for lst in ListOfTuples:\n",
    "        total += lst[1]\n",
    "    for lst in ListOfTuples:\n",
    "        resultList.append((lst[0],lst[1]/total))\n",
    "    return resultList\n",
    "    \n",
    "\n",
    "\n",
    "\n",
    "#for a in threemer_counts_sleek:\n",
    "#    print(a[1])\n"
   ]
  },
  {
   "cell_type": "markdown",
   "metadata": {},
   "source": [
    "Now you can normalize the counts to get frequencies, which we'll use as probabilities in our Markov models."
   ]
  },
  {
   "cell_type": "code",
   "execution_count": 445,
   "metadata": {},
   "outputs": [],
   "source": [
    "# Normalize counts to get frequencies/probabilities\n",
    "\n",
    "fourmer_prob_fluffy = dict(normListTuple(fourmer_counts_fluffy))\n",
    "fourmer_prob_sleek = dict(normListTuple(fourmer_counts_sleek))\n",
    "threemer_prob_fluffy = dict(normListTuple(threemer_counts_fluffy))\n",
    "threemer_prob_sleek = dict(normListTuple(threemer_counts_sleek))"
   ]
  },
  {
   "cell_type": "code",
   "execution_count": 642,
   "metadata": {},
   "outputs": [
    {
     "data": {
      "text/plain": [
       "{'rrr': 0.09456227077021209,\n",
       " 'rrs': 0.12932546643278583,\n",
       " 'rsr': 0.12613618242704513,\n",
       " 'rss': 0.15037474087067454,\n",
       " 'srr': 0.1291660022324988,\n",
       " 'srs': 0.1487800988678042,\n",
       " 'ssr': 0.15308563227555413,\n",
       " 'sss': 0.06856960612342529}"
      ]
     },
     "execution_count": 642,
     "metadata": {},
     "output_type": "execute_result"
    }
   ],
   "source": [
    "#sleek_test\n",
    "threemer_prob_sleek"
   ]
  },
  {
   "cell_type": "code",
   "execution_count": 522,
   "metadata": {},
   "outputs": [
    {
     "data": {
      "text/plain": [
       "10.642619570494416"
      ]
     },
     "execution_count": 522,
     "metadata": {},
     "output_type": "execute_result"
    }
   ],
   "source": [
    "def Markov3(seq,three_prob_list,four_prob_list):\n",
    "    seqCount = len(seq)  \n",
    "    prob = 1\n",
    "    seq_init = three_prob_list[seq[0:3]]\n",
    "    for num in range(seqCount-3):\n",
    "        seq3 = three_prob_list[seq[num:num+3]]\n",
    "        seq4 = four_prob_list[seq[num:num+4]]\n",
    "        prob = prob * (seq4/seq3)\n",
    "    return prob * seq_init\n",
    "\n",
    "def getLogScoreSleekvsFluffy(seq):\n",
    "    score = np.log(Markov3(seq,threemer_prob_sleek,fourmer_prob_sleek)) - np.log(Markov3(seq,threemer_prob_fluffy,fourmer_prob_fluffy))\n",
    "    return score\n",
    "getLogScoreSleekvsFluffy('rsrsssrssrssrrrrs')"
   ]
  },
  {
   "cell_type": "code",
   "execution_count": 514,
   "metadata": {},
   "outputs": [
    {
     "data": {
      "text/plain": [
       "9.361296598243127"
      ]
     },
     "execution_count": 514,
     "metadata": {},
     "output_type": "execute_result"
    }
   ],
   "source": [
    "#sleek_train\n",
    "np.log(Markov3('rsssrsssrssrssrs',threemer_prob_sleek,fourmer_prob_sleek)) - np.log(Markov3('rsssrsssrssrssrs',threemer_prob_fluffy,fourmer_prob_fluffy))\n",
    "def \n",
    "\n",
    "\n"
   ]
  },
  {
   "cell_type": "code",
   "execution_count": 476,
   "metadata": {},
   "outputs": [
    {
     "data": {
      "text/plain": [
       "0.15037474087067454"
      ]
     },
     "execution_count": 476,
     "metadata": {},
     "output_type": "execute_result"
    }
   ],
   "source": [
    "for a in range(10)"
   ]
  },
  {
   "cell_type": "code",
   "execution_count": 531,
   "metadata": {},
   "outputs": [
    {
     "data": {
      "text/plain": [
       "(array([  3.,  12.,  65.,  91., 140., 111.,  49.,  19.,   6.,   4.]),\n",
       " array([-2.9655049 , -0.33911559,  2.28727372,  4.91366302,  7.54005233,\n",
       "        10.16644164, 12.79283094, 15.41922025, 18.04560955, 20.67199886,\n",
       "        23.29838817]),\n",
       " <BarContainer object of 10 artists>)"
      ]
     },
     "execution_count": 531,
     "metadata": {},
     "output_type": "execute_result"
    },
    {
     "data": {
      "image/png": "[encoded data removed]",
      "text/plain": [
       "<Figure size 432x288 with 1 Axes>"
      ]
     },
     "metadata": {
      "needs_background": "light"
     },
     "output_type": "display_data"
    }
   ],
   "source": []
  },
  {
   "cell_type": "markdown",
   "metadata": {},
   "source": [
    "Now we've trained our models! We can simply divide the relevant 3-mer and 4-mer probabilities when calculating the conditional probabilities. All that's left to do is to test the model on distinguishing the testing set sequences as *sleek* or *fluffy*.\n",
    "\n",
    "### Exercise 3: Test the model\n",
    "\n",
    "Use the equation for a third order Markov chain probability to calculate the probability of each sequence given the two Markov models (*sleek* and *fluffy*). Use these probabilities to calculate the log odds score, where in this case we are dividing the probability of being *sleek* by the probability of being *fluffy*. Remember that we want to use **logs of probabilities** whenever we are multiplying/dividing them together to avoid **underflow** errors."
   ]
  },
  {
   "cell_type": "code",
   "execution_count": 529,
   "metadata": {},
   "outputs": [],
   "source": [
    "# Initialize score array\n",
    "fluffy_scores = np.zeros(len(fluffy_test))\n",
    "sleek_scores = np.zeros(len(sleek_test))\n",
    "\n",
    "# Iterate through each sequence\n",
    "\n",
    "    # For each sequence, calculate the initial probability \n",
    "    # of the first three notes under both the fluffy and sleek models\n",
    "\n",
    "    # For each sequence, calculate the probabilities of each note (r or s) given\n",
    "    # the previous three notes (starting with the fourth note) under both models\n",
    "\n",
    "    # For each sequence, calculate a log odds score and store it\n",
    "for i in range(len(sleek_test)):\n",
    "    sleek_scores[i] = getLogScoreSleekvsFluffy(sleek_test[i])\n",
    "\n",
    "for i in range(len(fluffy_test)):\n",
    "    fluffy_scores[i] = getLogScoreSleekvsFluffy(fluffy_test[i])\n",
    "\n",
    "#sleek_scores\n"
   ]
  },
  {
   "cell_type": "markdown",
   "metadata": {},
   "source": [
    "Now you should have two arrays of scores, one for the *sleek* test dataset, and one for the *fluffy* test dataset. You can now repeat the histogram and ROC plot part of exercise 1 on these new scores. Did the model do any better? What's the **specificity** if you set a **sensitivity** threshold of 0.9 or higher? What if the *sleek* songs only made up 1% of the total songs? What would the **false discovery rate** be?\n",
    "\n",
    "### Notes\n",
    "\n",
    "For the purposes of this exercise, I split everything up and wrote a lot of repetitive code. In your actual homework, you can consider putting scripts into functions. If you're interested in doing more with this dataset, you could see if generating random note sequences would be distinguishable from *sleek* sequences under a zero order model. You could also see if these sequences could be better distinguished with any other order of Markov model (though, they were generated under a third order model...)."
   ]
  },
  {
   "cell_type": "code",
   "execution_count": 537,
   "metadata": {},
   "outputs": [
    {
     "data": {
      "text/plain": [
       "(array([  3.,  12.,  65.,  91., 140., 111.,  49.,  19.,   6.,   4.]),\n",
       " array([-2.9655049 , -0.33911559,  2.28727372,  4.91366302,  7.54005233,\n",
       "        10.16644164, 12.79283094, 15.41922025, 18.04560955, 20.67199886,\n",
       "        23.29838817]),\n",
       " <BarContainer object of 10 artists>)"
      ]
     },
     "execution_count": 537,
     "metadata": {},
     "output_type": "execute_result"
    },
    {
     "data": {
      "image/png": "[encoded data removed]",
      "text/plain": [
       "<Figure size 432x288 with 1 Axes>"
      ]
     },
     "metadata": {
      "needs_background": "light"
     },
     "output_type": "display_data"
    }
   ],
   "source": [
    "#Data looks alot better\n",
    "plt.hist(fluffy_scores)\n",
    "plt.hist(sleek_scores)\n"
   ]
  },
  {
   "cell_type": "code",
   "execution_count": 630,
   "metadata": {},
   "outputs": [
    {
     "data": {
      "text/plain": [
       "Text(0, 0.5, 'True Postive Rate')"
      ]
     },
     "execution_count": 630,
     "metadata": {},
     "output_type": "execute_result"
    },
    {
     "data": {
      "image/png": "[encoded data removed]",
      "text/plain": [
       "<Figure size 432x288 with 1 Axes>"
      ]
     },
     "metadata": {
      "needs_background": "light"
     },
     "output_type": "display_data"
    }
   ],
   "source": [
    "threshold_scores = np.linspace(20,-20,41)\n",
    "#print(threshold_scores)\n",
    "def roc_out(thresh_intervals,True_array,False_array):\n",
    "    #intevals are the values to test as thresholds and see how they do\n",
    "    xFPR = []\n",
    "    yTPR = []\n",
    "    #True_array and False_array must be equal\n",
    "    for i in thresh_intervals:\n",
    "        #create a copy of the True_array so we can modify for a single data point\n",
    "        #calculate t_array first \n",
    "        t_array = np.zeros(len(True_array))\n",
    "        f_array = np.zeros(len(False_array))\n",
    "        for inum in range(len(True_array)):\n",
    "            if(i > True_array[inum]):\n",
    "                t_array[inum] = 0\n",
    "            else:\n",
    "                t_array[inum] = 1\n",
    "            if(i > False_array[inum]):\n",
    "                f_array[inum] = 0\n",
    "            else:\n",
    "                f_array[inum] = 1\n",
    "  #      print(\"print t_array\",t_array)\n",
    "  #      print(\"print f_array\",f_array)\n",
    "        #Calculat the True Positive, False Postive, True Negative and False Negative\n",
    "        TP = sum(t_array)\n",
    "        FP = sum(f_array)\n",
    "        TN = len(f_array) - sum(f_array)\n",
    "        FN = len(t_array) - sum(t_array)\n",
    "#        print(\"FN \",FN)\n",
    "#        print(\"TP \",TP)\n",
    "#        print(\"FP \",FP)\n",
    "#        print(\"TN \",TN)\n",
    "        #Calculate \"False Positive Rate\" and append to FPR array\n",
    "        #False postive rate = FP/(FP+TN)\n",
    "        xFPR.append(FP/(TN + FP))       \n",
    "        #Calculate \"True Positive Rate\" and append to TRP array\n",
    "        #True postive rate = TP/(TP+FN)\n",
    "        yTPR.append(TP/(TP + FN))     \n",
    "        result = {\"xFPR\":xFPR,'yTPR':yTPR}\n",
    "    return result \n",
    "            \n",
    "                \n",
    "            \n",
    "test_dict = roc_out(threshold_scores,sleek_scores,fluffy_scores)\n",
    "plt.plot(test_dict['xFPR'],test_dict['yTPR'])\n",
    "plt.title(\"Roc Plot for Markov3 model for Fluffy vs Sleek\")\n",
    "plt.xlabel(\"False Postive Rate\")\n",
    "plt.ylabel(\"True Postive Rate\")\n",
    "          \n",
    "#Plot looks good, looks like the model works!"
   ]
  },
  {
   "cell_type": "code",
   "execution_count": 641,
   "metadata": {},
   "outputs": [],
   "source": [
    "#threemer_prob_sleek\n",
    "#fluffy_test"
   ]
  },
  {
   "cell_type": "code",
   "execution_count": 640,
   "metadata": {},
   "outputs": [
    {
     "data": {
      "text/plain": [
       "{'rrr': 0.09456227077021209,\n",
       " 'rrs': 0.12932546643278583,\n",
       " 'rsr': 0.12613618242704513,\n",
       " 'rss': 0.15037474087067454,\n",
       " 'srr': 0.1291660022324988,\n",
       " 'srs': 0.1487800988678042,\n",
       " 'ssr': 0.15308563227555413,\n",
       " 'sss': 0.06856960612342529}"
      ]
     },
     "execution_count": 640,
     "metadata": {},
     "output_type": "execute_result"
    }
   ],
   "source": [
    "threemer_prob_sleek"
   ]
  },
  {
   "cell_type": "code",
   "execution_count": 643,
   "metadata": {},
   "outputs": [
    {
     "data": {
      "text/plain": [
       "array([ 20.,  19.,  18.,  17.,  16.,  15.,  14.,  13.,  12.,  11.,  10.,\n",
       "         9.,   8.,   7.,   6.,   5.,   4.,   3.,   2.,   1.,   0.,  -1.,\n",
       "        -2.,  -3.,  -4.,  -5.,  -6.,  -7.,  -8.,  -9., -10., -11., -12.,\n",
       "       -13., -14., -15., -16., -17., -18., -19., -20.])"
      ]
     },
     "execution_count": 643,
     "metadata": {},
     "output_type": "execute_result"
    }
   ],
   "source": []
  }
 ],
 "metadata": {
  "kernelspec": {
   "display_name": "Python 3 (ipykernel)",
   "language": "python",
   "name": "python3"
  },
  "language_info": {
   "codemirror_mode": {
    "name": "ipython",
    "version": 3
   },
   "file_extension": ".py",
   "mimetype": "text/x-python",
   "name": "python",
   "nbconvert_exporter": "python",
   "pygments_lexer": "ipython3",
   "version": "3.9.12"
  }
 },
 "nbformat": 4,
 "nbformat_minor": 4
}
