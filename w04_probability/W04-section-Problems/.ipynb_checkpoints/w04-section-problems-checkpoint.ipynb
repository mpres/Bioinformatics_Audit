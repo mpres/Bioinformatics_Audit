{
 "cells": [
  {
   "cell_type": "markdown",
   "metadata": {},
   "source": [
    "# Section 4: Intro to Probability\n",
    "Notes by Gloria Ha (2019),  Mary Richardson (2020), and Colin Hemez (2021)"
   ]
  },
  {
   "cell_type": "code",
   "execution_count": 108,
   "metadata": {},
   "outputs": [],
   "source": [
    "import numpy as np\n",
    "import matplotlib.pyplot as plt\n",
    "\n",
    "%matplotlib inline"
   ]
  },
  {
   "cell_type": "code",
   "execution_count": 112,
   "metadata": {},
   "outputs": [
    {
     "data": {
      "text/plain": [
       "'1.21.5'"
      ]
     },
     "execution_count": 112,
     "metadata": {},
     "output_type": "execute_result"
    }
   ],
   "source": [
    "np.version.version"
   ]
  },
  {
   "cell_type": "markdown",
   "metadata": {},
   "source": [
    "### Exercises\n",
    "\n",
    "Now that we've gone over how to do this theoretically, let's try it on some data! You can download the data from the links at the bottom of the section notes page. Let's take a look at the *sleek* data file."
   ]
  },
  {
   "cell_type": "code",
   "execution_count": 7,
   "metadata": {},
   "outputs": [
    {
     "name": "stdout",
     "output_type": "stream",
     "text": [
      "rrsrrrrsrsrrsrr\n",
      "srrrrsrsssrss\n",
      "rsrsssrssrssrrrrs\n",
      "srrrrrrrrsrssrs\n",
      "rrsssrsssrssrs\n",
      "srssrsssrsssr\n",
      "srrsrrrsrsssrss\n",
      "srrrrrsrssrssrss\n",
      "srrssrssrssrs\n",
      "ssrrrrsrrrsrrrssrssrsr\n"
     ]
    }
   ],
   "source": [
    "! head sleek_data.txt"
   ]
  },
  {
   "cell_type": "markdown",
   "metadata": {},
   "source": [
    "Looks like some sequences of 'r' and 's' of varying length!  The fluffy dataset is similar.  Note that each file has 1000 sequences.  We can now load in the data into lists (so we'll have lists of strings)."
   ]
  },
  {
   "cell_type": "code",
   "execution_count": 11,
   "metadata": {},
   "outputs": [],
   "source": [
    "# Initialize sleek and fluffy data lists\n",
    "sleek_data = []\n",
    "fluffy_data = []\n",
    "\n",
    "# Load data from files\n",
    "with open('sleek_data.txt') as sleek_file:\n",
    "    for line in sleek_file:\n",
    "        sleek_data.append(line[:-1])\n",
    "        \n",
    "with open('fluffy_data.txt') as fluffy_file:\n",
    "    for line in fluffy_file:\n",
    "        fluffy_data.append(line[:-1])\n",
    "        "
   ]
  },
  {
   "cell_type": "code",
   "execution_count": 16,
   "metadata": {},
   "outputs": [
    {
     "data": {
      "text/plain": [
       "'rssrrrssrsrrrssrsrr'"
      ]
     },
     "execution_count": 16,
     "metadata": {},
     "output_type": "execute_result"
    }
   ],
   "source": []
  },
  {
   "cell_type": "markdown",
   "metadata": {},
   "source": [
    "### Exercise 1: See if you can use a simple zero order method to differentiate the birdsongs\n",
    "\n",
    "See if you can use a simple scoring algorithm (+1 for 's' and -1 for 'r', for example) on the *sleek* and *fluffy* data to differentiate the sequences. \n",
    "\n",
    "I would recommend keeping two different arrays of length 1000: one for the scores you give to the sleek sequences, and one for the scores you gives to the fluffy sequences."
   ]
  },
  {
   "cell_type": "code",
   "execution_count": 45,
   "metadata": {},
   "outputs": [],
   "source": [
    "# Store length of data\n",
    "num_seq = len(fluffy_data)\n",
    "\n",
    "# Initialize score arrays\n",
    "sleek_scores = np.zeros(num_seq)\n",
    "fluffy_scores = np.zeros(num_seq)\n",
    "\n",
    "# Write script to score sequences in both datasets\n",
    "\n",
    "#Mpresley 2/27/23, write function to score single array\n",
    "def ScoreSequence(seq):\n",
    "    score = 0\n",
    "    for n in seq:\n",
    "        if (n == 'r'):\n",
    "            score -= 1\n",
    "        elif (n == 's'):\n",
    "            score += 1\n",
    "        else:\n",
    "            return score\n",
    "    return score\n",
    "\n",
    "\n",
    "for n in range(num_seq):\n",
    "    sleek_scores[n] = ScoreSequence(sleek_data[n])\n",
    "    fluffy_scores[n] = ScoreSequence(fluffy_data[n])\n",
    "\n",
    "\n"
   ]
  },
  {
   "cell_type": "code",
   "execution_count": null,
   "metadata": {},
   "outputs": [],
   "source": []
  },
  {
   "cell_type": "code",
   "execution_count": 24,
   "metadata": {},
   "outputs": [
    {
     "data": {
      "text/plain": [
       "-2"
      ]
     },
     "execution_count": 24,
     "metadata": {},
     "output_type": "execute_result"
    }
   ],
   "source": [
    "def ScoreSequence(seq):\n",
    "    score = 0\n",
    "    for n in seq:\n",
    "        if (n == 'r'):\n",
    "            score -= 1\n",
    "        elif (n == 's'):\n",
    "            score += 1\n",
    "    return score\n",
    "\n",
    "\n"
   ]
  },
  {
   "cell_type": "markdown",
   "metadata": {},
   "source": [
    "Now that you have a score for every sequence in the dataset, try plotting a **histogram** of the distribution of scores for sleek and fluffy songs. Check out `plt.hist()`."
   ]
  },
  {
   "cell_type": "code",
   "execution_count": 79,
   "metadata": {},
   "outputs": [
    {
     "data": {
      "image/png": "[encoded data removed]",
      "text/plain": [
       "<Figure size 432x288 with 1 Axes>"
      ]
     },
     "metadata": {
      "needs_background": "light"
     },
     "output_type": "display_data"
    }
   ],
   "source": [
    "# Plot histogram of scores\n",
    "atest = plt.hist(sleek_scores)\n",
    "#plt.hist(fluffy_scores)\n",
    "\n",
    "    "
   ]
  },
  {
   "cell_type": "code",
   "execution_count": 124,
   "metadata": {},
   "outputs": [
    {
     "data": {
      "text/plain": [
       "array([ -7.,   1.,   1.,  -5.,   4.,   5.,   1.,   0.,   3.,  -4.,  -4.,\n",
       "        -9.,  -5.,   3.,  -1.,  -3.,   5.,  -5.,   5.,   1.,   5.,   1.,\n",
       "        -1.,   2.,   3.,  -1.,  -2.,  -3.,  -3.,  -2.,   6.,  -3.,  -1.,\n",
       "        -1.,   6.,   4.,  -8.,  -7.,  -1.,   4.,   1.,   1.,  -4.,   3.,\n",
       "         1.,   4.,  -3.,  -6.,   3.,  -3.,  -2.,   1.,   1.,  -6.,   3.,\n",
       "        -3.,   3.,   2.,   0.,   3.,  -3.,   0.,   1.,  -1.,  -7.,   1.,\n",
       "         7.,  -2.,   2.,   1.,  -1.,  -5.,   4.,  -2.,   5.,   4.,  -7.,\n",
       "        -6., -10.,   3.,  -3.,   0.,  -7.,  -5.,  -5.,   3.,  -9.,  -4.,\n",
       "        -1.,  -9.,  -1.,  -3.,   4.,  -6.,   1.,   3.,  -1.,  -5.,  -2.,\n",
       "         6.,  -1.,  13.,  -6., -11.,   1.,  -1.,  -7.,   0.,  -3.,   4.,\n",
       "        -1.,   3.,   6.,  -2.,  -5.,   0.,   0.,  -5.,   5.,  -7.,  -7.,\n",
       "         3.,   0.,   4.,   1.,   6.,   5.,   2.,  -4.,  -6.,  -7.,   2.,\n",
       "         1.,  -6.,  -1.,   1.,   5.,  -1.,   4.,  -9.,  -1.,   0.,  -3.,\n",
       "         6.,   5.,  -9.,  -1.,  -2.,  -4.,  -3.,  -1.,   1.,  -4.,   3.,\n",
       "         9.,  -5.,  -5.,   3.,  -5.,  -7.,  -1.,  -7.,   6.,   4.,   4.,\n",
       "        -1.,  -6.,  -2.,   2.,   0.,   1.,  -6.,  -1.,   7.,  -5.,   5.,\n",
       "        -4.,   1.,  -4.,  -2.,   1.,  -4.,  -3.,  -2.,   2.,   2.,   1.,\n",
       "        -2.,   4.,   5.,   3.,  -9.,   7.,  -3.,  -5.,  -3.,  -1.,  -6.,\n",
       "         4.,   5.,   4.,   6., -10.,   3.,   2.,  -2.,   3.,  -5.,  -1.,\n",
       "        -3.,  -3.,   1.,   7.,  -1.,   2.,  -1.,  -2.,  -3.,   5.,   6.,\n",
       "         8.,  -5.,  -1.,   3.,  -1.,   3.,  -6.,   3.,  -6.,   5.,   1.,\n",
       "        -5.,  -6.,   1.,  -3.,   8.,  -1.,   3.,   0.,   3.,  -2.,   1.,\n",
       "        -9.,  -1.,  -1.,   4.,  -3.,  -2.,  -5.,  -4.,  -3.,  -3.,  -7.,\n",
       "        -7.,   5.,   1.,  -1.,  -3.,   2.,   5.,   3.,  -2.,   3.,  -5.,\n",
       "         7.,  -1.,   5.,  -3.,  -3.,   0.,  -3.,   1.,   5.,  -2.,   0.,\n",
       "        -1.,  -5.,   1.,  -7.,   1.,   3.,   1.,   3.,  -3.,  -4.,  -5.,\n",
       "         3.,  -1.,   5.,  -5.,   2.,   5.,   5.,   7.,  -2.,  -4.,   2.,\n",
       "         6.,   6.,  -6.,   2.,   6.,  -5.,  -5.,  -8.,   0.,  -1.,  -2.,\n",
       "        -1.,   2.,   5.,   3.,   4.,   0.,   1.,   3.,  -9.,   1.,  -3.,\n",
       "         4.,   0.,   8.,   1.,   7.,   3.,  -2.,   2.,   4.,   0.,  -7.,\n",
       "         2.,  -8.,   6.,  -6.,   3.,   5.,  -1.,  -6.,  -4.,  -1.,  -1.,\n",
       "         1.,  -5.,  -3.,  -8.,  -5.,   1.,  -4.,   3.,  -8.,   0.,  -5.,\n",
       "         3.,   2.,  -3.,   8.,  -3.,   5.,   8.,   5.,  -6.,   1.,   2.,\n",
       "         0.,  -3.,   1.,  -5.,  -5.,  -1.,   1.,  -7.,  -3.,  -5.,   1.,\n",
       "        -1.,   8.,   3.,  -1.,   1.,   1.,   7.,  -1.,  -3.,  -3.,  -5.,\n",
       "        -6.,  -5.,   2.,  -1.,  -7.,   6.,  -5.,  -1.,   4.,  -1.,   1.,\n",
       "         2.,   3.,  -1.,  -2.,   1.,  -5.,   0.,  -4.,  -2.,  -1.,   4.,\n",
       "         6.,   1.,  -3.,  -3.,   0.,  -2.,   3.,   1.,   1.,   1.,  -1.,\n",
       "         5.,  -2.,  -1.,   3.,  -3.,   5.,  -1.,  -6.,  -8.,  -1.,   1.,\n",
       "       -10.,  -7.,   4.,   1.,   2.,  -2.,   4.,   3.,  -7.,   2.,   3.,\n",
       "         3.,  -7.,  -1.,  -1.,  -3.,  -4.,   1.,   5.,   1.,  -7.,  -6.,\n",
       "        -5.,  -1.,  -2.,  -1.,  -1.,  -5.,   7.,   0.,  -7.,   5.,   3.,\n",
       "        -5.,   3.,  -9.,  -7.,   1.,  -1.,   1.,  -2.,  -1.,  -2.,  -8.,\n",
       "         1.,   5.,   3.,   0.,   1.,   7.,   3.,   4.,  -3.,   7.,   7.,\n",
       "         5.,  -1.,  -8.,   9.,   6.,   3.,  -6.,   6.,  -5.,  -1.,  -7.,\n",
       "         5.,  -1.,  -5.,  -3., -10.,   6.,   3.,   0.,  -3.,   0.,   3.,\n",
       "        -5.,  -3.,   0.,   1.,   2.,  -3.,   4.,  -3.,  -1.,  -4.,   7.,\n",
       "         1.,  -2.,   4.,  -1.,  -6.,  -2.,  -2.,   1.,  -6.,   6.,  -4.,\n",
       "        -3.,  -2.,  -3.,   6.,   0.,   1.,   3.,  -2.,  -2.,  -1.,   4.,\n",
       "        -1.,   1.,  -3.,   4.,  -3.,   1.,   1.,   1.,   1.,   2.,  -3.,\n",
       "         0.,  -3.,   3.,   1.,   2.,  -2.,   1.,   4.,  -7.,  -3.,   4.,\n",
       "         1., -11.,  -3.,   2.,  -4.,  -1.,  -4.,   7.,   7.,  -5.,  -8.,\n",
       "         2.,  -2.,   9.,   7.,  -5.,  -1.,  -7.,  -3.,   1.,   5.,   0.,\n",
       "        -4.,   3.,   6.,   4.,  -1.,  -3.,  -2.,  -7.,  -3.,   3.,  -3.,\n",
       "        -3.,   6.,  -5.,  -1.,   0.,  -3.,  -6.,  -1.,   2.,  -3.,   6.,\n",
       "         3.,   2.,   6.,   1.,   1.,  -9.,  -5.,  -4.,  -5.,  -4.,  -3.,\n",
       "         2.,   2.,   7.,   5.,   3.,  -1.,   4.,  -5.,   0.,   0.,  -9.,\n",
       "        -3.,  -5.,  -8.,  -1.,  -1.,  -7.,  -7.,  -3.,  -1.,  -6.,   0.,\n",
       "        -5.,  -7.,  -1.,  -5.,  -1.,  -4.,   0.,   2.,  -3.,  -1.,  -6.,\n",
       "         0.,   1.,  -3.,  -2.,  -6.,   4.,  -3.,   8.,   3.,  -7.,   3.,\n",
       "         1.,   2.,   6.,   1.,  -3.,   3.,   1.,  -3.,  -7.,   2.,   3.,\n",
       "        -9.,   5.,   5.,   1.,   4.,  -6.,  -1.,   5.,   6.,  -3.,  -3.,\n",
       "       -11.,   2.,  -7.,  -2.,  -5.,  -7.,  -5.,   2.,   0.,  -1.,   5.,\n",
       "         1.,  -5.,  -3.,   7.,  -7.,   7.,  -7.,  -7.,   2.,  -1.,  -4.,\n",
       "         1.,  -4.,   2.,  -3.,   2.,  -8.,  -6.,   3.,   5.,  -4.,  -2.,\n",
       "        -2.,   7.,   0.,   3.,   1.,   0.,  -6.,   5.,  -9.,  -5.,   2.,\n",
       "        -2.,  -3.,  -1.,   0.,  -4.,  -4.,   4.,   1.,   1.,  -6.,   4.,\n",
       "         3.,  -3.,   1.,  -8.,   0.,  -8.,   3.,  -1.,  -2.,   7.,  -5.,\n",
       "        -3.,  -7.,  -1.,   5.,  -3.,   3.,  -2.,   7.,  -3.,  -3.,   5.,\n",
       "        -6.,   6.,   4.,   4.,   5.,  -4.,   5.,  -1.,   0.,  -2.,   0.,\n",
       "         5.,   3.,   1.,  -1.,  -7.,   3.,  -2.,   1.,  -1.,  -1.,   2.,\n",
       "        -3.,   1.,  -1.,   1.,  -6.,  -3.,   5.,   1.,  -7.,  -4.,  -5.,\n",
       "        -8.,  -4.,   0.,  -7.,  -8.,  -5.,   5.,  -2.,   1.,   3.,   3.,\n",
       "         2.,   5.,  -5.,  -4.,   1.,   3.,   5.,  -6.,  -1.,  -9.,  -3.,\n",
       "        -7.,  -1.,  -3.,  -3.,   2.,  -5.,   1.,  -3.,   3.,  -2.,  -1.,\n",
       "         7.,  -6.,  -1.,   5.,   4.,  -7.,  -2.,  -2.,  -1.,   3.,   1.,\n",
       "         5.,  -7.,   4.,   3.,   6.,   6.,   2.,   0.,   1.,  -3.,   2.,\n",
       "         5.,  -2.,  -5.,   1.,   3.,  -4.,  -5.,   3.,   5.,  -5.,  -3.,\n",
       "         3.,  -4.,   7.,   2.,   2.,   1.,  -3.,  -2.,   8.,  -7.,   0.,\n",
       "        -9.,  -1.,   5.,   0.,  -1.,  -2.,   6.,   1.,  -1.,  -6.,  -6.,\n",
       "        -1.,   1.,  -7.,   3.,  -2.,  -4.,   6.,  -9.,  -2.,  -7.,   2.,\n",
       "        -8.,  -3.,   2.,  -5.,   7.,   0.,  -2.,  -1.,  -3.,   4.,   7.,\n",
       "         3.,   1.,   5., -11.,   0.,   3.,  -6.,   2.,   1.,  -4.,  -4.,\n",
       "         4.,   4.,  -2.,   6.,  -2., -10.,  -6.,   2.,  -2.,  -1.,  -5.,\n",
       "         1.,  -1.,   2.,   5.,   4.,  -7.,  -6.,   2.,   9.,  -1., -12.,\n",
       "        -7.,  -3.,  -5.,   2.,  -6.,   1.,   8.,  -5.,  -7.,   1.,  -3.,\n",
       "        -7.,  -3.,  -4.,  -1.,   6.,  -1.,   6.,  -2.,   4.,  -2.,   6.,\n",
       "        -7.,   1.,   6.,   2.,   8.,   4.,   1.,   6.,   0.,   2.,   0.,\n",
       "         1.,   7.,   2.,  -3.,  -1.,   6.,   1.,   6.,   3.,   1.,   0.,\n",
       "        -7.,  -4.,  -2.,  -6.,  -6.,  -4.,  -5.,  -1.,   5.,  -7.,  -5.,\n",
       "         3.,  -6.,  -3.,  -7.,   1.,  -3.,   4.,  -1.,  -2.,   2.])"
      ]
     },
     "execution_count": 124,
     "metadata": {},
     "output_type": "execute_result"
    }
   ],
   "source": [
    "sleek_scores"
   ]
  },
  {
   "cell_type": "markdown",
   "metadata": {},
   "source": [
    "Try plotting a **ROC plot**. An easy way of going about this is to calculate the number of true positives (TP), true negatives (TN), false positives (FP), and false negatives (FN) for each threshold score that you're considering. \n",
    "\n",
    "I would recommend first defining a range of threshold score values (for example, the minimum and the maximum of all of your scores), defining a linear space between those values (check out `np.linspace`), and then calculating the TP, TN, FP, FN for each threshold value. In this case, let's say that \"positives\" are scores above the threshold, and \"negatives\" are scores below the threshold (this is the typical definition). \n",
    "\n",
    "Remember that the ROC plot is true positive rate $\\frac{TP}{TP+FN}$ vs. false positive rate $\\frac{FP}{TN+FP}$."
   ]
  },
  {
   "cell_type": "code",
   "execution_count": 99,
   "metadata": {},
   "outputs": [],
   "source": [
    "# Find minimum and maximum scores across both fluffy and sleek songs\n",
    "min_score = -15\n",
    "max_score = 15\n",
    "\n",
    "# Define number and range of threshold scores\n",
    "num_thresh = 1000\n",
    "threshold_scores = np.linspace(13,-13,27)\n",
    "\n",
    "# Set up \n",
    "TP = np.zeros(num_thresh)\n",
    "FP = np.zeros(num_thresh)\n",
    "TN = np.zeros(num_thresh)\n",
    "FN = np.zeros(num_thresh)\n",
    "\n",
    "\n",
    "\n",
    "\n",
    "# Calculate TP,FP,TN,FN for each sequence in both datasets\n",
    "\n",
    "#Fix in the TP matrix and FN matrix\n",
    "for a in \n",
    "\n",
    "\n",
    "# Plot it!\n"
   ]
  },
  {
   "cell_type": "code",
   "execution_count": 121,
   "metadata": {},
   "outputs": [
    {
     "name": "stdout",
     "output_type": "stream",
     "text": [
      "[1 2 3 3]\n"
     ]
    }
   ],
   "source": [
    "t = np.array([1,2,3])\n",
    "t = np.append(t,3)\n",
    "print(t)"
   ]
  },
  {
   "cell_type": "markdown",
   "metadata": {},
   "source": [
    "How well does this method perform in distinguishing the songs?"
   ]
  },
  {
   "cell_type": "markdown",
   "metadata": {},
   "source": [
    "### Exercise 2: Train a third order Markov model\n",
    "\n",
    "#### Exercise 2.1: Split up your data into training and testing sets\n",
    "\n",
    "Now for the fun part!\n",
    "\n",
    "I would recommend first splitting up the data into **training and testing sets**. You can use half of the data for training and half for testing (like the homework), or choose some other fraction (as long as the training and testing sets don't overlap)!"
   ]
  },
  {
   "cell_type": "code",
   "execution_count": null,
   "metadata": {},
   "outputs": [],
   "source": [
    "# Split up training and testing sets\n",
    "sleek_test = \n",
    "sleek_train = \n",
    "fluffy_test = \n",
    "fluffy_train = "
   ]
  },
  {
   "cell_type": "markdown",
   "metadata": {},
   "source": [
    "Now we want to use our training dataset to calculate the parameters of our Markov model. There are many ways you could go about this, so don't feel like you have to follow these steps!\n",
    "\n",
    "As discussed in section, in order to calculate the **conditional probabilities** in the Markov model (ex: $P(s|srss)$), we can calculate the unconditional probabilities of the related 4-mers and 3-mers ($P(srss)$ and $P(srs)$ in this case).\n",
    "\n",
    "How would we go about calculating these probabilities?  We want to see how many times each 4-mer appears in the data, and how many times each 3-mer appears in the data, for both *sleek* and *fluffy* sequences.\n",
    "\n",
    "#### Exercise 2.2: How many 4-mers and 3-mers are possible in this dataset?\n",
    "\n",
    "One useful piece of information would be how many distinct 4-mers and 3-mers there are in the data.  We know that there are 2 states in this model: 's' and 'r'.  How many distinct 3-character and 4-character sequences are possible?  You could write them out by hand, or you could use probability (Hint: Does order matter? Are you sampling with replacement?)!\n",
    "\n",
    "#### Exercise 2.3: Store distinct 4-mers and 3-mers in a list\n",
    "\n",
    "Now we want to store the distinct 4-mers and 3-mers in a list. Something like `['ssss','sssr',...]` and `['sss','ssr',...]`.  Again, you could type out all possible combinations by hand, or you could harness the tools of Python to get all possible combinations (this will be even more useful with an alphabet of four letter like 'ACTG')! Check out `itertools`.  Again there are many ways to approach this, so feel free to diverge!"
   ]
  },
  {
   "cell_type": "code",
   "execution_count": null,
   "metadata": {},
   "outputs": [],
   "source": [
    "# Find all distinct 3-mer and 4-mer sequences and store them in lists\n",
    "threemers = \n",
    "fourmers = "
   ]
  },
  {
   "cell_type": "markdown",
   "metadata": {},
   "source": [
    "Now we want to go through all of the training sequences and count how many times each 3-mer and 4-mer appears in the dataset.\n",
    "\n",
    "#### Exercise 2.4: Find frequencies of distinct 3/4-mers in training data\n",
    "\n",
    "Go through each sequence and identify each 3-mer and 4-mer, and update the counts of the corresponding 3-mers or 4-mers. Check out `list.index()`."
   ]
  },
  {
   "cell_type": "code",
   "execution_count": null,
   "metadata": {},
   "outputs": [],
   "source": [
    "# Initialize counts array of 3-mers and 4-mers\n",
    "threemer_counts_sleek = \n",
    "threemer_counts_fluffy = \n",
    "fourmer_counts_sleek = \n",
    "fourmer_counts_fluffy = \n",
    "\n",
    "# Go through each training sequence and identify 3-mers and 4-mers and update counts\n"
   ]
  },
  {
   "cell_type": "markdown",
   "metadata": {},
   "source": [
    "Now you can normalize the counts to get frequencies, which we'll use as probabilities in our Markov models."
   ]
  },
  {
   "cell_type": "code",
   "execution_count": null,
   "metadata": {},
   "outputs": [],
   "source": [
    "# Normalize counts to get frequencies/probabilities\n",
    "fourmer_prob_fluffy = \n",
    "fourmer_prob_sleek = \n",
    "threemer_prob_fluffy = \n",
    "threemer_prob_sleek = "
   ]
  },
  {
   "cell_type": "markdown",
   "metadata": {},
   "source": [
    "Now we've trained our models! We can simply divide the relevant 3-mer and 4-mer probabilities when calculating the conditional probabilities. All that's left to do is to test the model on distinguishing the testing set sequences as *sleek* or *fluffy*.\n",
    "\n",
    "### Exercise 3: Test the model\n",
    "\n",
    "Use the equation for a third order Markov chain probability to calculate the probability of each sequence given the two Markov models (*sleek* and *fluffy*). Use these probabilities to calculate the log odds score, where in this case we are dividing the probability of being *sleek* by the probability of being *fluffy*. Remember that we want to use **logs of probabilities** whenever we are multiplying/dividing them together to avoid **underflow** errors."
   ]
  },
  {
   "cell_type": "code",
   "execution_count": null,
   "metadata": {},
   "outputs": [],
   "source": [
    "# Initialize score array\n",
    "fluffy_scores = np.zeros(len(fluffy_test))\n",
    "sleek_scores = np.zeros(len(sleek_test))\n",
    "\n",
    "# Iterate through each sequence\n",
    "\n",
    "    # For each sequence, calculate the initial probability \n",
    "    # of the first three notes under both the fluffy and sleek models\n",
    "\n",
    "    # For each sequence, calculate the probabilities of each note (r or s) given\n",
    "    # the previous three notes (starting with the fourth note) under both models\n",
    "\n",
    "    # For each sequence, calculate a log odds score and store it\n"
   ]
  },
  {
   "cell_type": "markdown",
   "metadata": {},
   "source": [
    "Now you should have two arrays of scores, one for the *sleek* test dataset, and one for the *fluffy* test dataset. You can now repeat the histogram and ROC plot part of exercise 1 on these new scores. Did the model do any better? What's the **specificity** if you set a **sensitivity** threshold of 0.9 or higher? What if the *sleek* songs only made up 1% of the total songs? What would the **false discovery rate** be?\n",
    "\n",
    "### Notes\n",
    "\n",
    "For the purposes of this exercise, I split everything up and wrote a lot of repetitive code. In your actual homework, you can consider putting scripts into functions. If you're interested in doing more with this dataset, you could see if generating random note sequences would be distinguishable from *sleek* sequences under a zero order model. You could also see if these sequences could be better distinguished with any other order of Markov model (though, they were generated under a third order model...)."
   ]
  },
  {
   "cell_type": "code",
   "execution_count": null,
   "metadata": {},
   "outputs": [],
   "source": []
  }
 ],
 "metadata": {
  "kernelspec": {
   "display_name": "Python 3 (ipykernel)",
   "language": "python",
   "name": "python3"
  },
  "language_info": {
   "codemirror_mode": {
    "name": "ipython",
    "version": 3
   },
   "file_extension": ".py",
   "mimetype": "text/x-python",
   "name": "python",
   "nbconvert_exporter": "python",
   "pygments_lexer": "ipython3",
   "version": "3.9.12"
  }
 },
 "nbformat": 4,
 "nbformat_minor": 4
}
